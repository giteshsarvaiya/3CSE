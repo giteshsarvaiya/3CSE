{
 "cells": [
  {
   "cell_type": "markdown",
   "metadata": {},
   "source": [
    "# 08 Tuple\n",
    "<h3>\n",
    " > Tuples are used to store multiple items under a single variable name.\n",
    "<br/> > Series/Collection: Tuples are one of 4 built-in data types in Python used to store collections of data, the other 3 are List, Set, and Dictionary, all with different qualities and usage.\n",
    "<br/> > Tuples are created using paranthesis (round brackets) : ()\n",
    "<br/> > Indexable: Tuple items are indexed, the first item has index [0], the second item has index [1] etc.\n",
    "<br/> > Ordered: Tuples are ordered (they maintain the insertion order)\n",
    "<br/> > Un-Changeable (Immutable): The tuple is unchangeable, meaning that we cannot change, add, and remove items in a tuple after it has been created.\n",
    "<br/> > Allow Duplicates: Tuples can have items with the same value.\n",
    "<br/> > Heterogenous: Tuples can contain elements of different as well as same data types.\n",
    "<br/> > The tuple() Constructor: It is also possible to use the tuple() constructor when creating a new tuple.\n",
    "<br/> > Number of elements in Tuple: We need to use the len() function to find the number of elements in a tuple as it does not have any member method to find the length.\n",
    "</h3>"
   ]
  },
  {
   "cell_type": "markdown",
   "metadata": {},
   "source": [
    "## Creating a Tuple"
   ]
  },
  {
   "cell_type": "code",
   "execution_count": 27,
   "metadata": {},
   "outputs": [
    {
     "name": "stdout",
     "output_type": "stream",
     "text": [
      "() <class 'tuple'>\n",
      "(10,) <class 'tuple'>\n",
      "(10, 20, 30) <class 'tuple'>\n",
      "('A', 10, 'B', 20) <class 'tuple'>\n",
      "(1, 2, 3, 4, 5, 6, 7, 8, 9, 10) <class 'tuple'>\n"
     ]
    }
   ],
   "source": [
    "t1=() #empty tuple\n",
    "print(t1,type(t1))\n",
    "t2=(10,) \n",
    "#tuple with one element, here comma is required otherwise \n",
    "# it will be treated as int (because of 10)\n",
    "print(t2,type(t2))\n",
    "t3=(10,20,30)\n",
    "print(t3,type(t3))\n",
    "t4=tuple([\"A\",10,\"B\",20]) #creating a Tuple from a List\n",
    "print(t4,type(t4))\n",
    "t5=tuple(range(1,11))\n",
    "print(t5,type(t5))"
   ]
  },
  {
   "cell_type": "markdown",
   "metadata": {},
   "source": [
    "## Traversing a Tuple"
   ]
  },
  {
   "cell_type": "code",
   "execution_count": 17,
   "metadata": {
    "scrolled": true
   },
   "outputs": [
    {
     "name": "stdout",
     "output_type": "stream",
     "text": [
      "Data type: <class 'tuple'>\n",
      "Method-1: using print()\n",
      "(10, 20, 30, 40, 50)  Length= 5\n",
      "Method-2: using while loop and indexing\n",
      "10 20 30 40 50 \n",
      "Method-3: using for-in loop\n",
      "10 20 30 40 50 "
     ]
    }
   ],
   "source": [
    "t1=(10,20,30,40,50)\n",
    "print(\"Data type:\",type(t1))\n",
    "print(\"Method-1: using print()\")\n",
    "print(t1,\" Length=\",len(t1))\n",
    "i=0\n",
    "n=len(t1)\n",
    "print(\"Method-2: using while loop and indexing\")\n",
    "while i<n:\n",
    "    print(t1[i],end=\" \")\n",
    "    i+=1\n",
    "print(\"\\nMethod-3: using for-in loop\")\n",
    "for x in t1:\n",
    "    print(x,end=\" \")"
   ]
  },
  {
   "cell_type": "markdown",
   "metadata": {},
   "source": [
    "## Indexing in Tuples"
   ]
  },
  {
   "cell_type": "code",
   "execution_count": 23,
   "metadata": {},
   "outputs": [
    {
     "name": "stdout",
     "output_type": "stream",
     "text": [
      "10 +ve index 0 & -ve index -9\n",
      "20 +ve index 1 & -ve index -8\n",
      "30 +ve index 2 & -ve index -7\n",
      "40 +ve index 3 & -ve index -6\n",
      "50 +ve index 4 & -ve index -5\n",
      "60 +ve index 5 & -ve index -4\n",
      "70 +ve index 6 & -ve index -3\n",
      "80 +ve index 7 & -ve index -2\n",
      "90 +ve index 8 & -ve index -1\n"
     ]
    },
    {
     "ename": "TypeError",
     "evalue": "'tuple' object does not support item assignment",
     "output_type": "error",
     "traceback": [
      "\u001b[1;31m---------------------------------------------------------------------------\u001b[0m",
      "\u001b[1;31mTypeError\u001b[0m                                 Traceback (most recent call last)",
      "\u001b[1;32m<ipython-input-23-f0caaa5347f4>\u001b[0m in \u001b[0;36m<module>\u001b[1;34m\u001b[0m\n\u001b[0;32m      5\u001b[0m     \u001b[0mprint\u001b[0m\u001b[1;33m(\u001b[0m\u001b[0mt1\u001b[0m\u001b[1;33m[\u001b[0m\u001b[0mi\u001b[0m\u001b[1;33m]\u001b[0m\u001b[1;33m,\u001b[0m\u001b[1;34m\"+ve index {} & -ve index {}\"\u001b[0m\u001b[1;33m.\u001b[0m\u001b[0mformat\u001b[0m\u001b[1;33m(\u001b[0m\u001b[0mi\u001b[0m\u001b[1;33m,\u001b[0m\u001b[0mi\u001b[0m\u001b[1;33m-\u001b[0m\u001b[0mn\u001b[0m\u001b[1;33m)\u001b[0m\u001b[1;33m)\u001b[0m \u001b[1;31m# +ve as well as -ve indexing in Tuples\u001b[0m\u001b[1;33m\u001b[0m\u001b[1;33m\u001b[0m\u001b[0m\n\u001b[0;32m      6\u001b[0m     \u001b[0mi\u001b[0m\u001b[1;33m+=\u001b[0m\u001b[1;36m1\u001b[0m\u001b[1;33m\u001b[0m\u001b[1;33m\u001b[0m\u001b[0m\n\u001b[1;32m----> 7\u001b[1;33m \u001b[0mt1\u001b[0m\u001b[1;33m[\u001b[0m\u001b[1;36m0\u001b[0m\u001b[1;33m]\u001b[0m\u001b[1;33m=\u001b[0m\u001b[1;36m111\u001b[0m \u001b[1;31m# Error as Tuples are immutable\u001b[0m\u001b[1;33m\u001b[0m\u001b[1;33m\u001b[0m\u001b[0m\n\u001b[0m",
      "\u001b[1;31mTypeError\u001b[0m: 'tuple' object does not support item assignment"
     ]
    }
   ],
   "source": [
    "t1=(10,20,30,40,50,60,70,80,90)\n",
    "n=len(t1)\n",
    "i=0\n",
    "while i<n:\n",
    "    print(t1[i],\"+ve index {} & -ve index {}\".format(i,i-n)) # +ve as well as -ve indexing in Tuples\n",
    "    i+=1\n",
    "t1[0]=111 # Error as Tuples are immutable"
   ]
  },
  {
   "cell_type": "markdown",
   "metadata": {},
   "source": [
    "## Slicing in Tuples"
   ]
  },
  {
   "cell_type": "code",
   "execution_count": 28,
   "metadata": {},
   "outputs": [
    {
     "name": "stdout",
     "output_type": "stream",
     "text": [
      "(10, 20, 30, 40, 50, 60, 70, 80, 90)\n",
      "(90, 80, 70, 60, 50, 40, 30, 20, 10)\n",
      "(20, 30, 40, 50)\n"
     ]
    }
   ],
   "source": [
    "t1=(10,20,30,40,50,60,70,80,90)\n",
    "print(t1[::]) # all the elements in forward order\n",
    "print(t1[::-1]) # all the elements in reverse order\n",
    "print(t1[1:5]) # all elements from index 1 to 4"
   ]
  },
  {
   "cell_type": "markdown",
   "metadata": {},
   "source": [
    "## Mathematical operators on Tuple\n",
    "### + and *"
   ]
  },
  {
   "cell_type": "code",
   "execution_count": 36,
   "metadata": {
    "scrolled": true
   },
   "outputs": [
    {
     "name": "stdout",
     "output_type": "stream",
     "text": [
      "(10, 20, 30, 40, 50, 60, 70, 80, 90) <class 'tuple'>\n",
      "('A', 'B', 'C', 'D') <class 'tuple'>\n",
      "(10, 20, 30, 40, 50, 60, 70, 80, 90, 'A', 'B', 'C', 'D') <class 'tuple'>\n",
      "(10, 20, 30, 40, 50, 60, 70, 80, 90, 10, 20, 30, 40, 50, 60, 70, 80, 90) <class 'tuple'>\n"
     ]
    }
   ],
   "source": [
    "t1=tuple(range(10,100,10)) #elements 10,20,...100\n",
    "t2=tuple((\"A\",\"B\",\"C\",\"D\"))\n",
    "print(t1,type(t1))\n",
    "print(t2,type(t2))\n",
    "t3=t1 + t2 # Concatenation of two tuples\n",
    "print(t3,type(t3))\n",
    "t4=t1 * 2 # Repetition and Concatenation of a tuple\n",
    "print(t4,type(t4))"
   ]
  },
  {
   "cell_type": "markdown",
   "metadata": {},
   "source": [
    "## Important functions that can be applied on Tuple as well as Lists\n",
    "### len(collection_object): Its not a member method, it returns number of elements\n",
    "### tuple.count(value): Its a member method, it returns the number of times a value is repeated in the Tuple\n",
    "### tuple.index(value): Its a member method, it returns the index of the value present in the Tuple\n",
    "### sorted(iterator_object): Its not a member method, it returns the sorted iterator (the iterator should be homogeneous)\n",
    "### min(iterator_object): Its not a member method, it returns the minimum value in the iterator (the iterator should be homogeneous)\n",
    "### max(iterator_object): Its not a member method, it returns the maximum value in the iterator (the iterator should be homogeneous)"
   ]
  },
  {
   "cell_type": "code",
   "execution_count": 1,
   "metadata": {
    "scrolled": true
   },
   "outputs": [
    {
     "name": "stdout",
     "output_type": "stream",
     "text": [
      "(40, 20, 20, 30, 30, 30, 10) <class 'tuple'>\n",
      "Tuple length: 7\n",
      "t1.count(30): 3\n",
      "t1.index(40): 0\n",
      "sorted(t1): [10, 20, 20, 30, 30, 30, 40]\n",
      "(10, 20, 20, 30, 30, 30, 40) <class 'tuple'>\n",
      "min(t1): 10\n",
      "max(t1): 40\n"
     ]
    }
   ],
   "source": [
    "t1=(40,20,20,30,30,30,10)\n",
    "print(t1,type(t1))\n",
    "print(\"Tuple length:\",len(t1))\n",
    "print(\"t1.count(30):\",t1.count(30))\n",
    "print(\"t1.index(40):\",t1.index(40))\n",
    "print(\"sorted(t1):\",sorted(t1)) \n",
    "# returns a List object so we need to use the tuple()\n",
    "t2=tuple(sorted(t1))\n",
    "print(t2, type(t2))\n",
    "print(\"min(t1):\",min(t1)) \n",
    "#Works only for homogeneous contents in str,list,tuple,set, etc\n",
    "print(\"max(t1):\",max(t1)) \n",
    "#Works only for homogeneous contents in str,list,tuple,set, etc"
   ]
  },
  {
   "cell_type": "markdown",
   "metadata": {},
   "source": [
    "## Packing and Unpacking a Tuple"
   ]
  },
  {
   "cell_type": "code",
   "execution_count": 13,
   "metadata": {
    "scrolled": true
   },
   "outputs": [
    {
     "name": "stdout",
     "output_type": "stream",
     "text": [
      "(10, 20, 30) <class 'tuple'>\n"
     ]
    }
   ],
   "source": [
    "# Packing a Tuple\n",
    "a=10\n",
    "b=20\n",
    "c=30\n",
    "t1=a,b,c\n",
    "print(t1,type(t1))"
   ]
  },
  {
   "cell_type": "code",
   "execution_count": 1,
   "metadata": {},
   "outputs": [
    {
     "name": "stdout",
     "output_type": "stream",
     "text": [
      "a= 10\n",
      "b= 20\n",
      "c= 30\n",
      "d= 40\n",
      "1 2 3\n",
      "4 5 6\n",
      "7 8 9\n"
     ]
    }
   ],
   "source": [
    "# Unpacking a Tuple\n",
    "t1=(10,20,30,40)\n",
    "a,b,c,d=t1\n",
    "print(\"a=\",a)\n",
    "print(\"b=\",b)\n",
    "print(\"c=\",c)\n",
    "print(\"d=\",d)\n",
    "t2=((1,2,3),(4,5,6),(7,8,9)) # nested tuple\n",
    "for a,b,c in t2: # printing 3 elements at a time\n",
    "    print(a,b,c)"
   ]
  },
  {
   "cell_type": "markdown",
   "metadata": {},
   "source": [
    "## Tuple Comprehension\n",
    "### Here we must use the comprehension inside tuple()\n",
    "### Rest everything is same as list comprehension"
   ]
  },
  {
   "cell_type": "code",
   "execution_count": 23,
   "metadata": {},
   "outputs": [
    {
     "name": "stdout",
     "output_type": "stream",
     "text": [
      "(1, 2, 3, 4, 5, 6, 7, 8, 9, 10) <class 'tuple'>\n",
      "(2, 4, 6, 8, 10) <class 'tuple'>\n",
      "(0, 2, 0, 4, 0, 6, 0, 8, 0, 10) <class 'tuple'>\n"
     ]
    }
   ],
   "source": [
    "t1=tuple(x for x in range(1,11))\n",
    "print(t1,type(t1))\n",
    "t2=tuple(x for x in t1 if x%2==0)\n",
    "print(t2,type(t2))\n",
    "t3=tuple(x if x%2==0 else 0 for x in t1)\n",
    "print(t3,type(t3))"
   ]
  },
  {
   "cell_type": "code",
   "execution_count": 4,
   "metadata": {},
   "outputs": [
    {
     "name": "stdout",
     "output_type": "stream",
     "text": [
      "(50, 40, 30, 20, 10)\n"
     ]
    }
   ],
   "source": [
    "# WAP to reverse a tuple\n",
    "t1=(10,20,30,40,50)\n",
    "print(t1[::-1])"
   ]
  },
  {
   "cell_type": "code",
   "execution_count": 7,
   "metadata": {},
   "outputs": [
    {
     "name": "stdout",
     "output_type": "stream",
     "text": [
      "20\n"
     ]
    }
   ],
   "source": [
    "# WAP to print the value 20 from following tuple: t1 = (\"Orange\", [10, 20, 30], (5, 15, 25))\n",
    "t1 = (\"Orange\", [10, 20, 30], (5, 15, 25))\n",
    "print(t1[1][1])"
   ]
  },
  {
   "cell_type": "code",
   "execution_count": 10,
   "metadata": {},
   "outputs": [
    {
     "name": "stdout",
     "output_type": "stream",
     "text": [
      "(50,)\n"
     ]
    }
   ],
   "source": [
    "# WAP to create a tuple with single item 50\n",
    "t1=(50,)\n",
    "print(t1)"
   ]
  },
  {
   "cell_type": "code",
   "execution_count": 12,
   "metadata": {},
   "outputs": [
    {
     "name": "stdout",
     "output_type": "stream",
     "text": [
      "10 20 30 40\n"
     ]
    }
   ],
   "source": [
    "# WAP to create a tuple with 4 elements and upack them in 4 variables and print them\n",
    "t1=(10,20,30,40)\n",
    "a,b,c,d=t1\n",
    "print(a,b,c,d)"
   ]
  },
  {
   "cell_type": "code",
   "execution_count": 13,
   "metadata": {
    "scrolled": true
   },
   "outputs": [
    {
     "name": "stdout",
     "output_type": "stream",
     "text": [
      "(10, 20) (30, 40)\n",
      "(30, 40) (10, 20)\n"
     ]
    }
   ],
   "source": [
    "# WAP to swap two tuples\n",
    "t1=(10,20)\n",
    "t2=(30,40)\n",
    "print(t1,t2)\n",
    "t1,t2=t2,t1\n",
    "print(t1,t2)"
   ]
  },
  {
   "cell_type": "code",
   "execution_count": 15,
   "metadata": {},
   "outputs": [
    {
     "name": "stdout",
     "output_type": "stream",
     "text": [
      "(11, 22, 33, 44, 55, 66) (33, 44, 55)\n"
     ]
    }
   ],
   "source": [
    "# WAP to create a tuple t2 from an existing tuple t1 = (11, 22, 33, 44, 55, 66) \n",
    "# by extrating 33,44 & 55 using slicing\n",
    "t1 = (11, 22, 33, 44, 55, 66)\n",
    "t2=t1[2:5]\n",
    "print(t1,t2)"
   ]
  },
  {
   "cell_type": "code",
   "execution_count": 18,
   "metadata": {},
   "outputs": [
    {
     "name": "stdout",
     "output_type": "stream",
     "text": [
      "(11, [22, 33], 44, 55)\n",
      "(11, [222, 33], 44, 55)\n"
     ]
    }
   ],
   "source": [
    "# WAP to modify the first item (22) of a list inside a following tuple to 222\n",
    "# t1=(11, [22, 33], 44, 55)\n",
    "t1=(11, [22, 33], 44, 55)\n",
    "print(t1)\n",
    "t1[1][0]=222\n",
    "print(t1)"
   ]
  },
  {
   "cell_type": "code",
   "execution_count": 20,
   "metadata": {},
   "outputs": [
    {
     "name": "stdout",
     "output_type": "stream",
     "text": [
      "[10, 20, 30, 40]\n"
     ]
    }
   ],
   "source": [
    "t1=(40,10,30,20)\n",
    "print(sorted(t1)) # it results in a List"
   ]
  },
  {
   "cell_type": "code",
   "execution_count": 21,
   "metadata": {},
   "outputs": [
    {
     "name": "stdout",
     "output_type": "stream",
     "text": [
      "[10, 20] [30, 40]\n",
      "[30, 40] [10, 20]\n"
     ]
    }
   ],
   "source": [
    "l1=[10,20]\n",
    "l2=[30,40]\n",
    "print(l1,l2)\n",
    "l1,l2=l2,l1\n",
    "print(l1,l2)"
   ]
  }
 ],
 "metadata": {
  "kernelspec": {
   "display_name": "Python 3",
   "language": "python",
   "name": "python3"
  },
  "language_info": {
   "codemirror_mode": {
    "name": "ipython",
    "version": 3
   },
   "file_extension": ".py",
   "mimetype": "text/x-python",
   "name": "python",
   "nbconvert_exporter": "python",
   "pygments_lexer": "ipython3",
   "version": "3.8.5"
  }
 },
 "nbformat": 4,
 "nbformat_minor": 4
}
