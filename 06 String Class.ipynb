{
 "cells": [
  {
   "cell_type": "markdown",
   "metadata": {},
   "source": [
    "# 06 String class"
   ]
  },
  {
   "cell_type": "markdown",
   "metadata": {},
   "source": [
    "### String class methods <br/> String objects are immutable so member methods would create new String objects that contain the result"
   ]
  },
  {
   "cell_type": "markdown",
   "metadata": {},
   "source": [
    "## lstrip(), rstrip() and strip()\n",
    "### lstrip(): for removing all the spaces present in the left side of the string\n",
    "### rstrip(): for removing all the spaces present in the right side of the string\n",
    "### strip(): for removing all the spaces present in the left as well as right side of the string"
   ]
  },
  {
   "cell_type": "code",
   "execution_count": 2,
   "metadata": {},
   "outputs": [
    {
     "name": "stdout",
     "output_type": "stream",
     "text": [
      "|    PYTHON | PYTHON    |    PYTHON    |\n",
      "| PYTHON |\n",
      "| PYTHON |\n",
      "| PYTHON |\n"
     ]
    }
   ],
   "source": [
    "s1=\"   PYTHON\"\n",
    "s2=\"PYTHON   \"\n",
    "s3=\"   PYTHON   \"\n",
    "print(\"|\",s1,\"|\",s2,\"|\",s3,\"|\")\n",
    "s=s1.lstrip()\n",
    "print(\"|\",s,\"|\")\n",
    "s=s2.rstrip()\n",
    "print(\"|\",s,\"|\")\n",
    "s=s3.strip()\n",
    "print(\"|\",s,\"|\")"
   ]
  },
  {
   "cell_type": "markdown",
   "metadata": {},
   "source": [
    "## count(sub_string), count(sub_string,start_index,end_index)\n",
    "### > used for counting number of times a sub_string appears in the given string <br/> >  if start_index and end_index are given then it starts searching from start_index and goes to end_index-1"
   ]
  },
  {
   "cell_type": "code",
   "execution_count": 3,
   "metadata": {},
   "outputs": [
    {
     "name": "stdout",
     "output_type": "stream",
     "text": [
      "2\n",
      "1\n"
     ]
    }
   ],
   "source": [
    "s1=\"Python is for Python developers\"\n",
    "print(s1.count(\"Python\"))\n",
    "print(s1.count(\"Python\",7,len(s1)))"
   ]
  },
  {
   "cell_type": "markdown",
   "metadata": {},
   "source": [
    "## replace(old_string,new_string)\n",
    "### used for replacing all the occurances of an existing substring (old_string) with another new substring (new_string)"
   ]
  },
  {
   "cell_type": "code",
   "execution_count": 4,
   "metadata": {},
   "outputs": [
    {
     "name": "stdout",
     "output_type": "stream",
     "text": [
      "Java is for Java Developers\n",
      "Python is for Python Developers\n"
     ]
    }
   ],
   "source": [
    "s1=\"Java is for Java Developers\"\n",
    "print(s1)\n",
    "s=s1.replace(\"Java\",\"Python\")\n",
    "print(s)"
   ]
  },
  {
   "cell_type": "markdown",
   "metadata": {},
   "source": [
    "## split(), split(\"separator\",maxsplit), rsplit(\"separator\",maxsplit) : used to convert a string into a list object\n",
    "### > \"split()\" would create a list of substrings which are seperated by space <br/> > 'separator' is Optional. Specifies the separator to use when splitting the string. By default any whitespace is a separator <br/> > 'maxsplit' is Optional. Specifies how many splits to do (maxsplit+1 splits). Default value is -1, which is \"all occurrences\" <br/> > \"rsplit()\" would work same as split() but in reverse direction."
   ]
  },
  {
   "cell_type": "code",
   "execution_count": 5,
   "metadata": {},
   "outputs": [
    {
     "name": "stdout",
     "output_type": "stream",
     "text": [
      "['This', 'is', 'Python', 'Programming'] <class 'list'>\n",
      "['This', 'is', 'Python', 'Programming'] <class 'list'>\n",
      "['26', '08', '2022']\n",
      "['10', '20', '30', '40', '50,60,70']\n",
      "['10,20,30', '40', '50', '60', '70']\n"
     ]
    }
   ],
   "source": [
    "s1=\"This is Python Programming\"\n",
    "l1=s1.split()\n",
    "print(l1,type(l1))\n",
    "s2=\"This#is#Python#Programming\"\n",
    "l2=s2.split(\"#\")\n",
    "print(l2,type(l2))\n",
    "datestr=\"26/08/2022\"\n",
    "l3=datestr.split(\"/\")\n",
    "print(l3)\n",
    "s4=\"10,20,30,40,50,60,70\"\n",
    "l4=s4.split(\",\",4) # total number of splits is 4+1\n",
    "print(l4)\n",
    "s5=\"10,20,30,40,50,60,70\"\n",
    "l5=s5.rsplit(\",\",4) # total number of splits is 4+1 in reverse direction\n",
    "print(l5)"
   ]
  },
  {
   "cell_type": "markdown",
   "metadata": {},
   "source": [
    "## join()\n",
    "### Syntax: seperator-string.join(iterable) <br/> > the elements of the iterator are joined using the seperator-string in between them <br/> > 'iterable' is any iterable object (list or tuple) where all the returned values are strings"
   ]
  },
  {
   "cell_type": "code",
   "execution_count": 6,
   "metadata": {},
   "outputs": [
    {
     "name": "stdout",
     "output_type": "stream",
     "text": [
      "10/08/2022\n",
      "Welcome:to:Python\n"
     ]
    }
   ],
   "source": [
    "l1=['10','08','2022'] #only strings in the iterable object are allowed\n",
    "s1=\"/\".join(l1)\n",
    "print(s1)\n",
    "t1=('Welcome','to','Python')\n",
    "s2=\":\".join(t1)\n",
    "print(s2)"
   ]
  },
  {
   "cell_type": "markdown",
   "metadata": {},
   "source": [
    "## upper(), lower(), swapcase(), title(), capitalize()\n",
    "### > upper() : to convert the string into upper case <br/> > lower() : to convert the string into lower case <br/> > swapcase() : to reverse the case present in the string (upper to lower and lower to upper) <br/> > title() : to make the string's each word start with capital letter. <br/> > capitalize() : to make the string's first character as upper case and rest lowercase (sentence case)"
   ]
  },
  {
   "cell_type": "code",
   "execution_count": 7,
   "metadata": {},
   "outputs": [
    {
     "name": "stdout",
     "output_type": "stream",
     "text": [
      "ABCDEFGH\n",
      "abcdefgh\n",
      "aBcDeFgHiJkL\n",
      "Welcome To Python Programming\n",
      "Welcome to python programming\n"
     ]
    }
   ],
   "source": [
    "s=\"abcdefgh\"\n",
    "print(s.upper())\n",
    "s=\"ABCDEFGH\"\n",
    "print(s.lower())\n",
    "s=\"AbCdEfGhIjKl\"\n",
    "print(s.swapcase())\n",
    "s=\"welcome to python programming\"\n",
    "print(s.title())\n",
    "print(s.capitalize())"
   ]
  },
  {
   "cell_type": "markdown",
   "metadata": {},
   "source": [
    "## startswith(), endswith() methods\n",
    "### > startswith(\"string\"): returns True if the calling string object starts with the string specified in the input argument. It is case sensitive. <br/> > endswith(\"string\"): returns True if the calling string object ends with the string specified in the input argument. It is case sensitive."
   ]
  },
  {
   "cell_type": "code",
   "execution_count": 8,
   "metadata": {},
   "outputs": [
    {
     "name": "stdout",
     "output_type": "stream",
     "text": [
      "False\n",
      "True\n",
      "True\n"
     ]
    }
   ],
   "source": [
    "s1=\"Welcome to Python\"\n",
    "print(s1.startswith(\"welcome\")) # returns False as its case sensitive\n",
    "print(s1.startswith(\"Welcome\"))\n",
    "print(s2.endswith(\"Python\"))"
   ]
  },
  {
   "cell_type": "markdown",
   "metadata": {},
   "source": [
    "## isalpha(), isnumeric() and sorted()\n",
    "### isalpha() : Returns True if all characters in the string are in the alphabet\n",
    "### isnumeric() : Returns True if all characters in the string are numeric\n",
    "### sorted() : It is not a string member function. It returns a sorted 'list' object of the specified iterable object. We can specify ascending or descending order. Strings are sorted alphabetically, and numbers are sorted numerically. Note: We cannot sort a list that contains BOTH string values AND numeric values.\n",
    "### sorted(iterable, key=key, reverse=reverse) <br/> > 'iterable' is Required. The sequence to sort, list, dictionary, tuple etc. <br/> > 'key' is\tOptional. A Function to execute to decide the order. Default is None <br/> > 'reverse' is Optional. A Boolean. False will sort ascending, True will sort descending. Default is False"
   ]
  },
  {
   "cell_type": "code",
   "execution_count": 11,
   "metadata": {},
   "outputs": [
    {
     "name": "stdout",
     "output_type": "stream",
     "text": [
      "True\n",
      "True\n",
      "['*', '1', '2', '3', '@', 'A', 'B', 'C', 'D'] <class 'list'>\n",
      "['D', 'C', 'B', 'A', '@', '3', '2', '1', '*']\n",
      "['And', 'DJango', 'Programming', 'Python', 'To', 'Welcome']\n",
      "['To', 'And', 'Python', 'DJango', 'Welcome', 'Programming']\n"
     ]
    }
   ],
   "source": [
    "s1=\"ABCD\"\n",
    "print(s1.isalpha())\n",
    "s1=\"1234\"\n",
    "print(s1.isnumeric())\n",
    "s1=\"D3C2B1A@*\"\n",
    "l1=sorted(s1) #Ascending order\n",
    "print(l1,type(l1))\n",
    "s1=\"A1B2C3D@*\"\n",
    "print(sorted(s1,reverse=True)) #Descending order\n",
    "l1=[\"Welcome\",\"To\",\"Python\",\"Programming\",\"And\",\"DJango\"]\n",
    "def f1(s1): return len(s1)\n",
    "print(sorted(l1)) # Ascending order w.r.t. alphabetical order\n",
    "print(sorted(l1,key=f1)) # Ascending order w.r.t string length"
   ]
  },
  {
   "cell_type": "markdown",
   "metadata": {},
   "source": [
    "## chr() and ord()\n",
    "### chr(number): returns the character that represents the specified unicode.\n",
    "### ord(character): returns the number representing the unicode code of a specified character."
   ]
  },
  {
   "cell_type": "code",
   "execution_count": 10,
   "metadata": {},
   "outputs": [
    {
     "name": "stdout",
     "output_type": "stream",
     "text": [
      "a\n",
      "97\n"
     ]
    }
   ],
   "source": [
    "print(chr(97))\n",
    "print(ord(\"a\"))"
   ]
  },
  {
   "cell_type": "markdown",
   "metadata": {},
   "source": [
    "## find()\n",
    "### Searches the string for a specified value and returns the position of where it was found\n",
    "### The find() method returns -1 if the value is not found.\n",
    "### find(value), find(value, start, end)\n",
    "### > value:\tRequired. The value to search for.\n",
    "### > start:\tOptional. Where to start the search. Default is 0.\n",
    "### > end:\tOptional. Where to end the search. Default is to the end of the string\n"
   ]
  },
  {
   "cell_type": "code",
   "execution_count": 13,
   "metadata": {},
   "outputs": [
    {
     "name": "stdout",
     "output_type": "stream",
     "text": [
      "Python found at index:  11\n",
      "Django found at index:  -1\n"
     ]
    }
   ],
   "source": [
    "s1=\"Welcome to Python Programming\"\n",
    "print(\"Python found at index: \",s1.find(\"Python\"))\n",
    "print(\"Django found at index: \",s1.find(\"Django\"))"
   ]
  }
 ],
 "metadata": {
  "kernelspec": {
   "display_name": "Python 3.10.7 64-bit",
   "language": "python",
   "name": "python3"
  },
  "language_info": {
   "codemirror_mode": {
    "name": "ipython",
    "version": 3
   },
   "file_extension": ".py",
   "mimetype": "text/x-python",
   "name": "python",
   "nbconvert_exporter": "python",
   "pygments_lexer": "ipython3",
   "version": "3.10.7"
  },
  "vscode": {
   "interpreter": {
    "hash": "205b98b4d1985d493ef88a03e013826e686053393df5367dcc6e26039158c4c1"
   }
  }
 },
 "nbformat": 4,
 "nbformat_minor": 4
}
