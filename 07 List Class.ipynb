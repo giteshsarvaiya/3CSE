{
 "cells": [
  {
   "cell_type": "markdown",
   "metadata": {},
   "source": [
    "# 07 List\n",
    "<h3>\n",
    " > Lists are used to store multiple items under a single variable name.\n",
    "<br/> > Series/Collection: Lists are one of 4 built-in data types in Python used to store collections of data, the other 3 are Tuple, Set, and Dictionary, all with different qualities and usage.\n",
    "<br/> > Lists are created using square brackets : []\n",
    "<br/> > Indexable: List items are indexed, the first item has index [0], the second item has index [1] etc.\n",
    "<br/> > Ordered: Lists are ordered, so when we add elements it automatically gets added at the end. There are methods in list which helps to change the order manually.\n",
    "<br/> > Changeable: The list is changeable, meaning that we can change, add, and remove items in a list after it has been created.\n",
    "<br/> > Allow Duplicates: Since lists are indexed, lists can have items with the same value.\n",
    "<br/> > Heterogenous: Lists can contain elements of different as well as same data types.\n",
    "<br/> > The list() Constructor: It is also possible to use the list() constructor when creating a new list.\n",
    "<br/> > Number of elements in List: We need to use the len() function to find the number of elements in a list as it does not have any member method to find the length.\n",
    "<br/> > String class split() also helps to create a list from a string. Each element of the list would be a substring extracted from the main string.\n",
    "</h3>"
   ]
  },
  {
   "cell_type": "markdown",
   "metadata": {},
   "source": [
    "## Creating a List"
   ]
  },
  {
   "cell_type": "code",
   "execution_count": 15,
   "metadata": {
    "scrolled": true
   },
   "outputs": [
    {
     "name": "stdout",
     "output_type": "stream",
     "text": [
      "[] <class 'list'>\n",
      "[10, 20, 30] <class 'list'>\n",
      "[1, 2, 3, 4, 5] <class 'list'>\n",
      "[10, 20, 30, 40, 50] <class 'list'>\n",
      "['10', '20', '30', '40'] <class 'list'>\n",
      "[10, 20, [1, 2, 3], 30, 40] <class 'list'>\n"
     ]
    }
   ],
   "source": [
    "l1=[] #creating an empty list\n",
    "print(l1,type(l1))\n",
    "l2=[10,20,30] #creating a list with elements\n",
    "print(l2,type(l2))\n",
    "l3=eval(\"[1,2,3,4,5]\") #creating a list using eval()\n",
    "print(l3,type(l3))\n",
    "l4=list((10,20,30,40,50)) #creating a list using constructor\n",
    "print(l4,type(l4))\n",
    "s1=\"10,20,30,40\"\n",
    "l5=s1.split(\",\") #creating a list of substrings from main string s1\n",
    "print(l5,type(l5))\n",
    "l1=[10,20,[1,2,3],30,40] # Nested list\n",
    "print(l1,type(l1))"
   ]
  },
  {
   "cell_type": "markdown",
   "metadata": {},
   "source": [
    "## Traversing a List"
   ]
  },
  {
   "cell_type": "code",
   "execution_count": 23,
   "metadata": {
    "scrolled": true
   },
   "outputs": [
    {
     "name": "stdout",
     "output_type": "stream",
     "text": [
      "Method-1\n",
      "[10, 20, 30, 40, 50, 60]\n",
      "Method-2\n",
      "10 20 30 40 50 60 \n",
      "Method-3\n",
      "10 20 30 40 50 60 "
     ]
    }
   ],
   "source": [
    "# Traversing a List: Method-1\n",
    "print(\"Method-1\")\n",
    "l1=[10,20,30,40,50,60]\n",
    "print(l1)\n",
    "# Traversing a List: Method-2\n",
    "print(\"Method-2\")\n",
    "l1=[10,20,30,40,50,60]\n",
    "i=0\n",
    "while i<len(l1):\n",
    "    print(l1[i], end=\" \")\n",
    "    i+=1\n",
    "# Traversing a List: Method-3\n",
    "print(\"\\nMethod-3\")\n",
    "l1=[10,20,30,40,50,60]\n",
    "for x in l1:\n",
    "    print(x, end=\" \")"
   ]
  },
  {
   "cell_type": "code",
   "execution_count": 24,
   "metadata": {},
   "outputs": [
    {
     "name": "stdout",
     "output_type": "stream",
     "text": [
      "2 4 6 8 "
     ]
    }
   ],
   "source": [
    "# WAP to print only the even numbers present in a List of integers.\n",
    "l1=[1,2,3,4,5,6,7,8,9]\n",
    "for x in l1:\n",
    "    if x%2==0:\n",
    "        print(x,end=\" \")"
   ]
  },
  {
   "cell_type": "code",
   "execution_count": 29,
   "metadata": {},
   "outputs": [
    {
     "name": "stdout",
     "output_type": "stream",
     "text": [
      "10  at +ve index 0 and -ve index -9\n",
      "20  at +ve index 1 and -ve index -8\n",
      "30  at +ve index 2 and -ve index -7\n",
      "40  at +ve index 3 and -ve index -6\n",
      "50  at +ve index 4 and -ve index -5\n",
      "60  at +ve index 5 and -ve index -4\n",
      "70  at +ve index 6 and -ve index -3\n",
      "80  at +ve index 7 and -ve index -2\n",
      "90  at +ve index 8 and -ve index -1\n"
     ]
    }
   ],
   "source": [
    "# WAP to print the list elements along with its positive and its equivalent negative index.\n",
    "l1=[10,20,30,40,50,60,70,80,90]\n",
    "i=0\n",
    "j=len(l1)\n",
    "while i<j:\n",
    "    print(l1[i],\" at +ve index {} and -ve index {}\".format(i,i-j))\n",
    "    i+=1"
   ]
  },
  {
   "cell_type": "markdown",
   "metadata": {},
   "source": [
    "# Note: A Method is a member function of a class and a Function may exsist without a class"
   ]
  },
  {
   "cell_type": "markdown",
   "metadata": {},
   "source": [
    "# List class member methods\n",
    "## As List is mutable so all the member methods will modify the calling list object and will not create a new object.\n",
    "<h3>\n",
    "> append(): Adds an element at the end of the list\n",
    "<br/> > clear(): Removes all the elements from the list\n",
    "<br/> > copy():\tReturns a copy of the list\n",
    "<br/> > count():\tReturns the number of elements with the specified value\n",
    "<br/> > extend():\tAdd the elements of a list (or any iterable), to the end of the current list\n",
    "<br/> > index():\tReturns the index of the first element with the specified value\n",
    "<br/> > insert():\tAdds an element at the specified position\n",
    "<br/> > pop():\tRemoves the element at the specified position\n",
    "<br/> > remove():\tRemoves the item with the specified value\n",
    "<br/> > reverse():\tReverses the order of the list\n",
    "<br/> > sort():\tSorts the list\n",
    "</h3>"
   ]
  },
  {
   "cell_type": "code",
   "execution_count": 33,
   "metadata": {},
   "outputs": [
    {
     "name": "stdout",
     "output_type": "stream",
     "text": [
      "9 <class 'list'>\n"
     ]
    }
   ],
   "source": [
    "# finding the number of elements present in a List\n",
    "# using the len() function (it is not a member method)\n",
    "l1=[10,20,30,40,50,60,70,80,90]\n",
    "print(len(l1),type(l1)) "
   ]
  },
  {
   "cell_type": "code",
   "execution_count": 35,
   "metadata": {},
   "outputs": [
    {
     "name": "stdout",
     "output_type": "stream",
     "text": [
      "[100, 200, 300, 400] <class 'list'>\n"
     ]
    }
   ],
   "source": [
    "# append(): Adds an element at the end of the list\n",
    "# Syntax: list.append(object)\n",
    "l1=[]\n",
    "for n in range(100,500,100):\n",
    "    l1.append(n)\n",
    "print(l1,type(l1))"
   ]
  },
  {
   "cell_type": "code",
   "execution_count": 40,
   "metadata": {},
   "outputs": [
    {
     "name": "stdout",
     "output_type": "stream",
     "text": [
      "[1, 2, 3, 4, 5, 6, 7, 8, 9]  Length:  9\n",
      "[]  Length:  0\n"
     ]
    }
   ],
   "source": [
    "# clear(): Removes all the elements from the list\n",
    "# Syntax: list.clear()\n",
    "l1=[1,2,3,4,5,6,7,8,9]\n",
    "print(l1,\" Length: \",len(l1))\n",
    "l1.clear()\n",
    "print(l1,\" Length: \",len(l1))"
   ]
  },
  {
   "cell_type": "code",
   "execution_count": 44,
   "metadata": {},
   "outputs": [
    {
     "name": "stdout",
     "output_type": "stream",
     "text": [
      "[10, 20, 30, 40, 50, 60, 70, 80, 90] \n",
      " [10, 20, 30, 40, 50, 60, 70, 80, 90]\n",
      "2240225498880 \n",
      " 2240225701440\n"
     ]
    }
   ],
   "source": [
    "# copy(): Returns a copy of the list\n",
    "# Syntax: list.copy()\n",
    "l1=[10,20,30,40,50,60,70,80,90]\n",
    "l2=l1.copy()\n",
    "print(l1,\"\\n\",l2)\n",
    "print(id(l1),\"\\n\",id(l2))"
   ]
  },
  {
   "cell_type": "code",
   "execution_count": 48,
   "metadata": {},
   "outputs": [
    {
     "name": "stdout",
     "output_type": "stream",
     "text": [
      "Count of 10:  1\n",
      "Count of 20:  2\n",
      "Count of 30:  3\n",
      "Count of Z:  4\n"
     ]
    }
   ],
   "source": [
    "# count(): Returns the number of elements with the specified value\n",
    "# Syntax: list.count(value)\n",
    "l1=[10,20,20,30,30,30,\"Z\",\"Z\",\"Z\",\"Z\"]\n",
    "print(\"Count of 10: \",l1.count(10))\n",
    "print(\"Count of 20: \",l1.count(20))\n",
    "print(\"Count of 30: \",l1.count(30))\n",
    "print(\"Count of Z: \",l1.count(\"Z\"))"
   ]
  },
  {
   "cell_type": "code",
   "execution_count": 58,
   "metadata": {},
   "outputs": [
    {
     "name": "stdout",
     "output_type": "stream",
     "text": [
      "['Activa', 'Jupyter']\n",
      "['Activa', 'Jupyter', 'Wagon-R', 'Baleno']\n",
      "['Activa', 'Jupyter', 'Wagon-R', 'Baleno', 'BMW', 'AUDI']\n",
      "['Activa', 'Jupyter', 'Wagon-R', 'Baleno', 'BMW', 'AUDI', 333, 222, 111]\n"
     ]
    }
   ],
   "source": [
    "# extend(): Add the elements of a list (or any iterable), to the end of the current list\n",
    "# Syntax: list.extend(any_iterable_object)\n",
    "l1=[\"Activa\",\"Jupyter\"]\n",
    "print(l1)\n",
    "l1.extend([\"Wagon-R\",\"Baleno\"]) #extending using list\n",
    "print(l1)\n",
    "l1.extend((\"BMW\",\"AUDI\")) #extending using tuple\n",
    "print(l1)\n",
    "l1.extend({111,222,333}) #extending using set \n",
    "print(l1)"
   ]
  },
  {
   "cell_type": "code",
   "execution_count": 60,
   "metadata": {},
   "outputs": [
    {
     "name": "stdout",
     "output_type": "stream",
     "text": [
      "3\n"
     ]
    }
   ],
   "source": [
    "# index(): Returns the index of the first element with the specified value\n",
    "# Syntax: list.index(value)\n",
    "l1=[10,20,20,30,30,30]\n",
    "print(l1.index(30)) #returns the index that has the first occurance of 30"
   ]
  },
  {
   "cell_type": "code",
   "execution_count": 82,
   "metadata": {},
   "outputs": [
    {
     "name": "stdout",
     "output_type": "stream",
     "text": [
      "[0, 1, 2, 3, 4, 5, 6]  Length=  7\n",
      "[0, 1, 2, 'INSERTED ELEMENT', 3, 4, 5, 6]  Length=  8\n",
      "[0, 1, [10, 20, 30], 2, 'INSERTED ELEMENT', 3, 4, 5, 6]  Length=  9\n",
      "[0, 1, [10, 20, 30], 2, 'INSERTED ELEMENT', 3, 4, 5, 6, 999]  Length=  10\n",
      "[111, 0, 1, [10, 20, 30], 2, 'INSERTED ELEMENT', 3, 4, 5, 6, 999]  Length=  11\n"
     ]
    }
   ],
   "source": [
    "# insert(): Adds an element at the specified position\n",
    "# Syntax: list.insert(pos, object)\n",
    "l1=[0,1,2,3,4,5,6]\n",
    "print(l1,\" Length= \",len(l1))\n",
    "l1.insert(3,\"INSERTED ELEMENT\")\n",
    "print(l1,\" Length= \",len(l1))\n",
    "l1.insert(2,[10,20,30])\n",
    "print(l1,\" Length= \",len(l1))\n",
    "l1.insert(100,999) # if the given index is greater than last index then the new element will be added at the end\n",
    "print(l1,\" Length= \",len(l1))\n",
    "l1.insert(-10,111) # if the given index is less than 0 the new element will be added in the front\n",
    "print(l1,\" Length= \",len(l1))"
   ]
  },
  {
   "cell_type": "code",
   "execution_count": 71,
   "metadata": {},
   "outputs": [
    {
     "name": "stdout",
     "output_type": "stream",
     "text": [
      "[10, 20, 30, 40, 50]  Length= 5\n",
      "Popped: 50 [10, 20, 30, 40]  Length= 4\n",
      "Popped: 20 [10, 30, 40]  Length= 3\n"
     ]
    }
   ],
   "source": [
    "# pop(): Removes the element at the specified position\n",
    "# Syntax: list.pop(pos)\n",
    "# default value of 'pos' is -1, which returns the last item\n",
    "# it also returns the popped item\n",
    "l1=[10,20,30,40,50]\n",
    "print(l1,\" Length=\",len(l1))\n",
    "popped=l1.pop()\n",
    "print(\"Popped:\",popped,l1,\" Length=\",len(l1))\n",
    "popped=l1.pop(1)\n",
    "print(\"Popped:\",popped,l1,\" Length=\",len(l1))"
   ]
  },
  {
   "cell_type": "code",
   "execution_count": 74,
   "metadata": {
    "scrolled": true
   },
   "outputs": [
    {
     "name": "stdout",
     "output_type": "stream",
     "text": [
      "[10, 20, 30, 40]  Length= 4\n",
      "None\n",
      "[10, 20, 40]  Length= 3\n"
     ]
    }
   ],
   "source": [
    "# remove(): Removes the item with the specified value\n",
    "# Syntax: list.remove(object)\n",
    "l1=[10,20,30,40]\n",
    "print(l1,\" Length=\",len(l1))\n",
    "l1.remove(30)\n",
    "print(l1,\" Length=\",len(l1))"
   ]
  },
  {
   "cell_type": "code",
   "execution_count": 76,
   "metadata": {},
   "outputs": [
    {
     "name": "stdout",
     "output_type": "stream",
     "text": [
      "[10, 20, 30, 40, 50]\n",
      "[50, 40, 30, 20, 10]\n"
     ]
    }
   ],
   "source": [
    "# reverse(): Reverses the order of the list\n",
    "# Syntax: list.reverse()\n",
    "l1=[10,20,30,40,50]\n",
    "print(l1)\n",
    "l1.reverse()\n",
    "print(l1)"
   ]
  },
  {
   "cell_type": "code",
   "execution_count": 1,
   "metadata": {},
   "outputs": [
    {
     "name": "stdout",
     "output_type": "stream",
     "text": [
      "['Welcome', 'To', 'Python', 'Programming', 'For', 'A to Z']\n",
      "['A to Z', 'For', 'Programming', 'Python', 'To', 'Welcome']\n",
      "['Welcome', 'To', 'Python', 'Programming', 'For', 'A to Z']\n",
      "['To', 'For', 'Python', 'A to Z', 'Welcome', 'Programming']\n"
     ]
    }
   ],
   "source": [
    "# sort(): Sorts the list\n",
    "# Syntax: list.sort(reverse=True|False, key=myFunc)\n",
    "# both the input arguments are optional\n",
    "# 'key' is a function to specify the sorting criteria(s)\n",
    "# While using sort() the list should be Homegeneous\n",
    "l1=[\"Welcome\",\"To\",\"Python\",\"Programming\", \"For\",\"A to Z\"]\n",
    "print(l1)\n",
    "l1.sort() # sorting in Ascending order\n",
    "print(l1)\n",
    "l1.sort(reverse=True) # sorting in Descending order\n",
    "print(l1)\n",
    "def f1(obj):\n",
    "    return len(obj) # returns the length of the input object\n",
    "l1.sort(key=f1) # the f1() function would take as input each object read from the list\n",
    "print(l1) # sorted in Ascending order based on string length"
   ]
  },
  {
   "cell_type": "markdown",
   "metadata": {},
   "source": [
    "# Comparison between List objects\n",
    "### '==, !=, >, <, <=, >=' operator is used to compare contents\n",
    "### It is recommended to Sort the lists before doing any type of comparison, otherwise unexpected results are achieved.\n",
    "### 'is' operator is used to compare references\n",
    "### Mutable objects never get same reference even if their contents are same (eg. list,dict)\n",
    "### Immutable objects always get same reference if their contents are same (eg. int,str)"
   ]
  },
  {
   "cell_type": "code",
   "execution_count": 11,
   "metadata": {
    "scrolled": true
   },
   "outputs": [
    {
     "name": "stdout",
     "output_type": "stream",
     "text": [
      "l1= [1, 2, 3]\n",
      "l2= [1, 2, 3]\n",
      "l1==l2: True\n",
      "l1>l2: False\n",
      "l1<l2: False\n",
      "l1>=l2 True\n",
      "l1<=l2 True\n",
      "l1!=l2 False\n",
      "l1 is l2: False\n",
      "True\n"
     ]
    }
   ],
   "source": [
    "l1=[3,2,1]\n",
    "l2=[1,2,3]\n",
    "# We should first sort the lists before comparing\n",
    "l1.sort()\n",
    "l2.sort()\n",
    "print(\"l1=\",l1)\n",
    "print(\"l2=\",l2)\n",
    "print(\"l1==l2:\",l1==l2) #True\n",
    "print(\"l1>l2:\",l1>l2) #False\n",
    "print(\"l1<l2:\",l1<l2) #False\n",
    "print(\"l1>=l2\",l1>=l2) #True\n",
    "print(\"l1<=l2\",l1<=l2) #True\n",
    "print(\"l1!=l2\",l1!=l2) #False\n",
    "print(\"l1 is l2:\",l1 is l2) #False\n",
    "print(\"l1[0] is l2[0]:\",l1[0] is l2[0]) #True as contents at [0] are immutable values 1"
   ]
  },
  {
   "cell_type": "markdown",
   "metadata": {},
   "source": [
    "# Nested List"
   ]
  },
  {
   "cell_type": "code",
   "execution_count": 14,
   "metadata": {},
   "outputs": [
    {
     "name": "stdout",
     "output_type": "stream",
     "text": [
      "10\n",
      "20\n",
      "[1, 2]\n",
      "1\n",
      "2\n",
      "30\n"
     ]
    }
   ],
   "source": [
    "l1=[10,20,[1,2],30]\n",
    "print(l1[0])\n",
    "print(l1[1])\n",
    "print(l1[2])\n",
    "print(l1[2][0])\n",
    "print(l1[2][1])\n",
    "print(l1[3])"
   ]
  },
  {
   "cell_type": "code",
   "execution_count": 6,
   "metadata": {},
   "outputs": [
    {
     "name": "stdout",
     "output_type": "stream",
     "text": [
      "[10, 20, 30]\n",
      "[40, 50, 60]\n",
      "[70, 80, 90]\n",
      "Method-1\n",
      "10 20 30 \n",
      "40 50 60 \n",
      "70 80 90 \n",
      "Method-2\n",
      "10 20 30\n",
      "40 50 60\n",
      "70 80 90\n"
     ]
    }
   ],
   "source": [
    "l1=[[10,20,30],[40,50,60],[70,80,90]]\n",
    "# Printing the nested list row-wise form\n",
    "for x in l1:\n",
    "    print(x)\n",
    "# Printing the nested in Matrix form: Method-1\n",
    "print(\"Method-1\")\n",
    "for i in range(len(l1)):\n",
    "    for j in range(len(l1[i])):\n",
    "        print(l1[i][j],end=\" \")\n",
    "    print()\n",
    "# Printing the nested in Matrix form: Method-2\n",
    "print(\"Method-2\")\n",
    "for i,j,k in l1: #reading three elements at a time from the sub lists\n",
    "    print(i,j,k)"
   ]
  },
  {
   "cell_type": "markdown",
   "metadata": {},
   "source": [
    "# List Comprehension\n",
    "### Syntax-1: [result-expression for item in iterable] <br/> The value of 'item' will be provided to the 'result-expression' and the 'result-expression' would become the list member or element.\n",
    "### Syntax-2: [result-expression for item in iterable if condition] <br/>For each iteration in for loop when the 'condition' in if statement is True then the 'item' will be provided to the 'result-expression' else nothing will be added to the list at that iteration.\n",
    "### Syntax-3: [result-expression if condition else false-result for item in iterable] <br/>For each iteration in for loop when the 'condition' in if statement is True then the 'item' in current iteration will be provided to the 'result-expression' else the 'false-result' will be provided to the 'result-expression' and the 'result-expression' would become the list member or element.\n",
    "## Note: We need to use a common variable in the if and for so that a connection can be established."
   ]
  },
  {
   "cell_type": "code",
   "execution_count": 24,
   "metadata": {},
   "outputs": [
    {
     "name": "stdout",
     "output_type": "stream",
     "text": [
      "[1, 4, 9, 16, 25, 36, 49, 64, 81, 100]\n",
      "[1, 4, 9, 16, 25, 36, 49, 64, 81, 100]\n"
     ]
    }
   ],
   "source": [
    "# Syntax-1: [result-expression for item in iterable]\n",
    "# WAP to create a list of elements that are squares of integers from 1 to 10.\n",
    "# [1,4,9,16,25,...]\n",
    "# without list comprehension:\n",
    "l1=[]\n",
    "for x in range(1,11):\n",
    "    l1.append(x*x)\n",
    "print(l1)\n",
    "# with list comprehension:\n",
    "l1=[x*x for x in range(1,11)]\n",
    "print(l1)"
   ]
  },
  {
   "cell_type": "code",
   "execution_count": 44,
   "metadata": {},
   "outputs": [
    {
     "name": "stdout",
     "output_type": "stream",
     "text": [
      "l1= [1, 2, 3, 4, 5, 6, 7, 8, 9, 10]\n",
      "l2= [2, 4, 6, 8, 10]\n"
     ]
    }
   ],
   "source": [
    "# Syntax-2: [result-expression for item in iterable if condition]\n",
    "# WAP to create a list of values cotaining only even values extracted from a list of integers \n",
    "# from 1 to 10\n",
    "l1=range(1,11)\n",
    "print(\"l1=\",list(l1))\n",
    "l2=[x for x in l1 if x%2==0]\n",
    "print(\"l2=\",l2)"
   ]
  },
  {
   "cell_type": "code",
   "execution_count": 48,
   "metadata": {},
   "outputs": [
    {
     "name": "stdout",
     "output_type": "stream",
     "text": [
      "L1= [0, 1, 2, 3, 4, 5, 6, 7, 8, 9, 10]\n",
      "L2= [0, 0, 2, 0, 4, 0, 6, 0, 8, 0, 10]\n"
     ]
    }
   ],
   "source": [
    "# Syntax-3: [result-expression if condition else false-result for item in iterable]\n",
    "# WAP to create a list L1 of integers from 1 to 10. From L1 create another list L2 \n",
    "# with the condition that at positions having even numbers in L1 that even number \n",
    "# will be inserted in L2 else 0 will be inserted.\n",
    "L1=[x for x in range(11)]\n",
    "print(\"L1=\",L1)\n",
    "L2=[i if i%2==0 else 0 for i in L1]\n",
    "print(\"L2=\",L2)"
   ]
  },
  {
   "cell_type": "code",
   "execution_count": 53,
   "metadata": {},
   "outputs": [
    {
     "name": "stdout",
     "output_type": "stream",
     "text": [
      "['Maruti', 'BMW', 'Audi', 'Range Rover']\n",
      "['M', 'B', 'A', 'R']\n"
     ]
    }
   ],
   "source": [
    "# WAP to read create a list containing only the first letter from a each string \n",
    "# present in another list of strings\n",
    "l1=[\"Maruti\", \"BMW\", \"Audi\",\"Range Rover\"]\n",
    "l2=[w[0] for w in l1]\n",
    "print(l1)\n",
    "print(l2)"
   ]
  },
  {
   "cell_type": "code",
   "execution_count": 55,
   "metadata": {},
   "outputs": [
    {
     "name": "stdout",
     "output_type": "stream",
     "text": [
      "['Welcome', 'To', 'Python', 'Programming']\n",
      "[7, 2, 6, 11]\n"
     ]
    }
   ],
   "source": [
    "# WAP to read create a list containing only the String length from each string present \n",
    "# in another list of strings.\n",
    "l1=[\"Welcome\",\"To\",\"Python\",\"Programming\"]\n",
    "l2=[len(w) for w in l1]\n",
    "print(l1)\n",
    "print(l2)"
   ]
  },
  {
   "cell_type": "code",
   "execution_count": 56,
   "metadata": {},
   "outputs": [
    {
     "name": "stdout",
     "output_type": "stream",
     "text": [
      "['Welcome', 'To', 'Python', 'Programming']\n",
      "['Welcome', 'Python', 'Programming']\n"
     ]
    }
   ],
   "source": [
    "# WAP to create a list containing only those strings whose length is \n",
    "# greater than 4 characters from each string present in another list of strings\n",
    "l1=[\"Welcome\",\"To\",\"Python\",\"Programming\"]\n",
    "l2=[w for w in l1 if len(w)>4]\n",
    "print(l1)\n",
    "print(l2)"
   ]
  },
  {
   "cell_type": "code",
   "execution_count": 63,
   "metadata": {},
   "outputs": [
    {
     "name": "stdout",
     "output_type": "stream",
     "text": [
      "[10, 20, 30, 40]\n",
      "[30, 40, 50, 60]\n",
      "[10, 20]\n"
     ]
    }
   ],
   "source": [
    "# WAP to create a list by extracting only those elements from first list that are not present in the second list.\n",
    "l1=[10,20,30,40]\n",
    "l2=[30,40,50,60]\n",
    "l3=[x for x in l1 if x not in l2]\n",
    "print(l1)\n",
    "print(l2)\n",
    "print(l3)"
   ]
  },
  {
   "cell_type": "code",
   "execution_count": 1,
   "metadata": {},
   "outputs": [
    {
     "name": "stdout",
     "output_type": "stream",
     "text": [
      "['the', 'quick', 'brown', 'fox', 'jumps', 'over', 'the', 'lazy', 'dog']\n",
      "[('the', 3), ('quick', 5), ('brown', 5), ('fox', 3), ('jumps', 5), ('over', 4), ('the', 3), ('lazy', 4), ('dog', 3)]\n"
     ]
    }
   ],
   "source": [
    "# WAP to convert the following string \"the quck brown fox jumps over the lazy dog\" into list of words \n",
    "# and then create another list that contains tuples having the words and their respective length.\n",
    "s1=\"the quick brown fox jumps over the lazy dog\"\n",
    "l1=s1.split()\n",
    "l2=[(x,len(x)) for x in l1]\n",
    "print(l1)\n",
    "print(l2)"
   ]
  },
  {
   "cell_type": "code",
   "execution_count": 65,
   "metadata": {},
   "outputs": [
    {
     "name": "stdout",
     "output_type": "stream",
     "text": [
      "['the', 'quick', 'brown', 'fox', 'jumps', 'over', 'the', 'lazy', 'dog']\n",
      "['THE', 'QUICK', 'BROWN', 'FOX', 'JUMPS', 'OVER', 'THE', 'LAZY', 'DOG']\n",
      "[['THE', 3], ['QUICK', 5], ['BROWN', 5], ['FOX', 3], ['JUMPS', 5], ['OVER', 4], ['THE', 3], ['LAZY', 4], ['DOG', 3]]\n"
     ]
    }
   ],
   "source": [
    "# WAP to convert the following string \"the quck brown fox jumps over the lazy dog\" into list of words \n",
    "# and then create another list that contains uppercase words extracted from the previous list. \n",
    "# Create another list that contains sublist having uppercase words and its length.\n",
    "s1=\"the quick brown fox jumps over the lazy dog\"\n",
    "words=s1.split()\n",
    "upr=[w.upper() for w in words]\n",
    "upr2=[[w.upper(),len(w)] for w in words]\n",
    "print(words)\n",
    "print(upr)\n",
    "print(upr2)"
   ]
  },
  {
   "cell_type": "code",
   "execution_count": 10,
   "metadata": {},
   "outputs": [
    {
     "name": "stdout",
     "output_type": "stream",
     "text": [
      "[10, 10, 20, 20, 30, 30, 40, 40, 50, 50]\n",
      "[10, 20, 30, 40, 50]\n"
     ]
    }
   ],
   "source": [
    "# WAP to remove duplicate elements from a list and create a new list with those unique elements.\n",
    "l1=[10,10,20,20,30,30,40,40,50,50]\n",
    "l2=[]\n",
    "for x in l1:\n",
    "    if x not in l2:\n",
    "        l2.append(x)\n",
    "print(l1)\n",
    "print(l2)"
   ]
  }
 ],
 "metadata": {
  "kernelspec": {
   "display_name": "Python 3.10.7 64-bit",
   "language": "python",
   "name": "python3"
  },
  "language_info": {
   "codemirror_mode": {
    "name": "ipython",
    "version": 3
   },
   "file_extension": ".py",
   "mimetype": "text/x-python",
   "name": "python",
   "nbconvert_exporter": "python",
   "pygments_lexer": "ipython3",
   "version": "3.10.7"
  },
  "vscode": {
   "interpreter": {
    "hash": "205b98b4d1985d493ef88a03e013826e686053393df5367dcc6e26039158c4c1"
   }
  }
 },
 "nbformat": 4,
 "nbformat_minor": 4
}
