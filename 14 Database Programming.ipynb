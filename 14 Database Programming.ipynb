{
 "cells": [
  {
   "cell_type": "markdown",
   "metadata": {},
   "source": [
    "<h3>14 Database Programming with MySQL in Python</h3>\n",
    "<h4>\n",
    "> MySQL is a database management system (DBMS) more appropriately an RDBMS (relational DBMS) that helps us to maintain data in the form of columns and rows.\n",
    "<hr/> > Database: A database is a collection of tables. \n",
    "<br/> > Tables: A table is contains data in the form of rows and columns.\n",
    "<br/> > SQL queries: SQL(Structured Query Language)\n",
    "<br/> > SQL is Structured Query Language, which is a computer language for storing, manipulating and retrieving data stored in a relational database.\n",
    "<br/> > SQL is the standard language for Relational Database System. All the Relational Database Management Systems (RDMS) like MySQL, MS Access, Oracle, Sybase, etc. use SQL as their standard database language.\n",
    "<br/> > We will use the \"MySQL Connector\" to connect to MySQL server.\n",
    "<br/> > We can run the following command in the command prompt to install \"MySQL Connector\":\n",
    "<br/> >>> python -m pip install mysql-connector-python\n",
    "\n",
    "</h4>"
   ]
  },
  {
   "cell_type": "markdown",
   "metadata": {},
   "source": [
    "<h4>Testing MySQL in python</h4>"
   ]
  },
  {
   "cell_type": "code",
   "execution_count": 1,
   "metadata": {},
   "outputs": [],
   "source": [
    "import mysql.connector\n",
    "# If the above code is executed with no errors then\n",
    "# \"MySQL Connector\" is installed and ready to be used.\n"
   ]
  },
  {
   "cell_type": "markdown",
   "metadata": {},
   "source": [
    "<h4>01 Creating a Connection</h4>\n",
    "<h5>Establishing a connection with RDMS system enables us to perform operations like:\n",
    "<br/> > Create a database\n",
    "<br/> > Delete a database\n",
    "<br/> > Create tables in the database\n",
    "<br/> > Delete tables in the database\n",
    "<br/> > Perform CRUD(Create, Read, Update, and Delete) operations on data present in the tables in the database\n",
    "<br/> > Steps:\n",
    "<br/> >>> 1) import mysql.connector\n",
    "<br/> >>> 2) Use connect() method to connect to the database\n",
    "</h5>"
   ]
  },
  {
   "cell_type": "code",
   "execution_count": 11,
   "metadata": {},
   "outputs": [
    {
     "name": "stdout",
     "output_type": "stream",
     "text": [
      "<mysql.connector.connection_cext.CMySQLConnection object at 0x00000238963577C0>\n",
      "Connection established with MySQL\n"
     ]
    }
   ],
   "source": [
    "# Creating a Connection using connect()\n",
    "import mysql.connector as ctr\n",
    "mydb=ctr.connect(\n",
    "    host=\"localhost\",\n",
    "    user=\"root\",\n",
    "    password=\"\"\n",
    ")\n",
    "print(mydb)\n",
    "# if the above does not produce any error then our connection\n",
    "# is established successfully\n",
    "print(\"Connection established with MySQL\")"
   ]
  },
  {
   "cell_type": "markdown",
   "metadata": {},
   "source": [
    "<h4>02 Creating a Database</h4>\n",
    "<h5>A database is a collection of tables and each table is a collection of rows and columns where we store our data.\n",
    "<br/> SQL query: \"CREATE DATABASE database_name\"\n",
    "<br/> > Steps:\n",
    "<br/> >>> 1) import mysql.connector\n",
    "<br/> >>> 2) Use connect() method to connect to the database, it returns a connection object\n",
    "<br/> >>> 3) Create a cursor object using connection object's cursor() method\n",
    "<br/> >>> 4) Execute SQL queries using the cursor's execute() method\n",
    "</h5>"
   ]
  },
  {
   "cell_type": "code",
   "execution_count": 13,
   "metadata": {},
   "outputs": [
    {
     "name": "stdout",
     "output_type": "stream",
     "text": [
      "Database created successfully\n"
     ]
    }
   ],
   "source": [
    "# Creating a Database, SQL query: \"CREATE DATABASE database_name\"\"\n",
    "import mysql.connector as ctr\n",
    "mydb=ctr.connect(\n",
    "    host=\"localhost\",\n",
    "    user=\"root\",\n",
    "    password=\"\"\n",
    ")\n",
    "mycursor=mydb.cursor()\n",
    "mycursor.execute(\"CREATE DATABASE mydb1\") # firing the sql command\n",
    "# if the above does not produce any error then our \n",
    "# database is created successfully\n",
    "print(\"Database created successfully\")"
   ]
  },
  {
   "cell_type": "markdown",
   "metadata": {},
   "source": [
    "<h4>02(a) Listing the names of all the Databases present in MySQL</h4>\n",
    "<h5>Every database should have a unique name, duplicate databases cannot exist.\n",
    "<br/> SQL query: \"SHOW DATABASES\"\n",
    "<br/> > Steps:\n",
    "<br/> >>> 1) import mysql.connector\n",
    "<br/> >>> 2) Use connect() method to connect to the database, it returns a connection object\n",
    "<br/> >>> 3) Create a cursor object using connection object's cursor() method\n",
    "<br/> >>> 4) Execute SQL queries using the cursor's execute() method\n",
    "<br/> >>> 5) Iterate through the cursor object using for-in loop\n",
    "</h5>"
   ]
  },
  {
   "cell_type": "code",
   "execution_count": 14,
   "metadata": {},
   "outputs": [
    {
     "name": "stdout",
     "output_type": "stream",
     "text": [
      "('information_schema',)\n",
      "('mydb1',)\n",
      "('mysql',)\n",
      "('performance_schema',)\n",
      "('phpmyadmin',)\n",
      "('test',)\n"
     ]
    }
   ],
   "source": [
    "# Listing the names of all the databases, SQL query: \"SHOW DATABASES\"\n",
    "import mysql.connector as ctr\n",
    "mydb=ctr.connect(\n",
    "    host=\"localhost\",\n",
    "    user=\"root\",\n",
    "    password=\"\"\n",
    ")\n",
    "mycursor=mydb.cursor()\n",
    "mycursor.execute(\"SHOW DATABASES\") # firing the sql command\n",
    "for n in mycursor:\n",
    "    print(n)"
   ]
  },
  {
   "cell_type": "markdown",
   "metadata": {},
   "source": [
    "<h4>02(b) Listing the names of all the tables present in a database</h4>\n",
    "<h5>Every table should have a unique name in a database, duplicate tables cannot exist.\n",
    "<br/> SQL query: \"SHOW TABLES\"\n",
    "<br/> > Steps:\n",
    "<br/> >>> 1) import mysql.connector\n",
    "<br/> >>> 2) Use connect() method to connect to the database, it returns a connection object\n",
    "<br/> >>> 3) Create a cursor object using connection object's cursor() method\n",
    "<br/> >>> 4) Execute SQL queries using the cursor's execute() method\n",
    "<br/> >>> 5) Iterate through the cursor object using for-in loop\n",
    "</h5>"
   ]
  },
  {
   "cell_type": "code",
   "execution_count": 18,
   "metadata": {},
   "outputs": [],
   "source": [
    "# Listing names of all the tables in a database\n",
    "import mysql.connector as ctr\n",
    "mydb=ctr.connect(\n",
    "    host=\"localhost\",\n",
    "    user=\"root\",\n",
    "    password=\"\",\n",
    "    database=\"mydb1\"\n",
    ")\n",
    "mycursor=mydb.cursor()\n",
    "mycursor.execute(\"SHOW TABLES\")\n",
    "for n in mycursor:\n",
    "    print(n)\n",
    "# Presently nothing is displayed \n",
    "# as there are no tables present in \"MyDB1\""
   ]
  },
  {
   "cell_type": "markdown",
   "metadata": {},
   "source": [
    "<h4>03 Creating a Table</h4>\n",
    "<h5>A table is a collection of rows and columns.\n",
    "<br/> > Each row represents a record of information\n",
    "<br/> > All the rows have some common relationship with each other, and all the tables in a database are somehow related to each other, that's why the name \"Relational Database\" is used in RDBMS\n",
    "<br/> > SQL query: \"CREATE TABLE table_name(column1 datatype1, column2 datatype2,...,column(n) datatype(n))\"\n",
    "<br/> > Steps:\n",
    "<br/> >>> 1) import mysql.connector\n",
    "<br/> >>> 2) Use connect() method to connect to the database, it returns a connection object\n",
    "<br/> >>> 3) Create a cursor object using connection object's cursor() method\n",
    "<br/> >>> 4) Execute SQL queries using the cursor's execute() method\n",
    "</h5>"
   ]
  },
  {
   "cell_type": "code",
   "execution_count": 15,
   "metadata": {},
   "outputs": [
    {
     "name": "stdout",
     "output_type": "stream",
     "text": [
      "Table created successfully\n"
     ]
    }
   ],
   "source": [
    "# Creating a Table in database\n",
    "import mysql.connector as ctr\n",
    "mydb=ctr.connect(\n",
    "    host=\"localhost\",\n",
    "    user=\"root\",\n",
    "    password=\"\",\n",
    "    database=\"mydb1\"\n",
    ")\n",
    "mycursor=mydb.cursor()\n",
    "mycursor.execute(\"CREATE TABLE Table1(Uname varchar(20),Pswd varchar(20))\")\n",
    "print(\"Table created successfully\")"
   ]
  },
  {
   "cell_type": "markdown",
   "metadata": {},
   "source": [
    "<h4>03(a) Creating a Table with a Primary key that auto increments</h4>\n",
    "<h5>A primary key is a column that can contain only unique values so duplicates are not allowed in that column.\n",
    "<br/> > We can create a primary key that automatically increments so naturally this column will contain unique values.\n",
    "<br/> > Each table can only have one primary key.\n",
    "<br/> > SQL query: \"CREATE TABLE table_name(column1 int AUTO_INCREMENT PRIMARY KEY, column2 datatype2,...,column(n) datatype(n))\"\n",
    "<br/> > Steps:\n",
    "<br/> >>> 1) import mysql.connector\n",
    "<br/> >>> 2) Use connect() method to connect to the database, it returns a connection object\n",
    "<br/> >>> 3) Create a cursor object using connection object's cursor() method\n",
    "<br/> >>> 4) Execute SQL queries using the cursor's execute() method\n",
    "</h5>"
   ]
  },
  {
   "cell_type": "code",
   "execution_count": 13,
   "metadata": {},
   "outputs": [
    {
     "name": "stdout",
     "output_type": "stream",
     "text": [
      "Table created successfully\n"
     ]
    }
   ],
   "source": [
    "# Creating a Table with Primary key\n",
    "import mysql.connector as ctr\n",
    "mydb=ctr.connect(\n",
    "    host=\"localhost\",\n",
    "    user=\"root\",\n",
    "    password=\"\",\n",
    "    database=\"mydb1\"\n",
    ")\n",
    "mycursor=mydb.cursor()\n",
    "mycursor.execute(\"CREATE TABLE Table2(id INT AUTO_INCREMENT PRIMARY KEY,Uname varchar(50), Pswd varchar(50))\")\n",
    "print(\"Table created successfully\")"
   ]
  },
  {
   "cell_type": "markdown",
   "metadata": {},
   "source": [
    "<h4>03(b) Listing all the Tables present in the database</h4>\n",
    "<h5>SQL query: \"SHOW TABLES\"\n",
    "<br/> > Steps:\n",
    "<br/> >>> 1) import mysql.connector\n",
    "<br/> >>> 2) Use connect() method to connect to the database, it returns a connection object\n",
    "<br/> >>> 3) Create a cursor object using connection object's cursor() method\n",
    "<br/> >>> 4) Execute SQL queries using the cursor's execute() method\n",
    "<br/> >>> 5) Iterate through the cursor object using for-in loop\n",
    "</h5>"
   ]
  },
  {
   "cell_type": "code",
   "execution_count": 16,
   "metadata": {},
   "outputs": [
    {
     "name": "stdout",
     "output_type": "stream",
     "text": [
      "Tables present in database: mydb1\n",
      "('table1',)\n",
      "('table2',)\n"
     ]
    }
   ],
   "source": [
    "# Displaying names of all the Tables present in a database\n",
    "import mysql.connector as ctr\n",
    "mydb=ctr.connect(\n",
    "    host=\"localhost\",\n",
    "    user=\"root\",\n",
    "    password=\"\",\n",
    "    database=\"mydb1\"\n",
    ")\n",
    "mycursor=mydb.cursor()\n",
    "mycursor.execute(\"SHOW TABLES\")\n",
    "print(\"Tables present in database: mydb1\")\n",
    "for n in mycursor:\n",
    "    print(n)"
   ]
  },
  {
   "cell_type": "markdown",
   "metadata": {},
   "source": [
    "<h4>04 Removing a table from database</h4>\n",
    "<h5>SQL query-1: \"DROP TABLE table_name\"\n",
    "<br/> SQL query-2: \"DROP TABLE IF EXISTS table_name\"\n",
    "<br/> >>> this query would avoid displaying any error if the table is already deleted or if it does not exist\n",
    "<br/> > Steps:\n",
    "<br/> >>> 1) import mysql.connector\n",
    "<br/> >>> 2) Use connect() method to connect to the database, it returns a connection object\n",
    "<br/> >>> 3) Create a cursor object using connection object's cursor() method\n",
    "<br/> >>> 4) Execute SQL queries using the cursor's execute() method\n",
    "<br/> >>> 5) Commit the changes done in the database using connection object's commit() method\n",
    "</h5>"
   ]
  },
  {
   "cell_type": "code",
   "execution_count": 17,
   "metadata": {},
   "outputs": [
    {
     "name": "stdout",
     "output_type": "stream",
     "text": [
      "Table removed successfully\n"
     ]
    }
   ],
   "source": [
    "# Removing a Table from database\n",
    "import mysql.connector as ctr\n",
    "mydb=ctr.connect(\n",
    "    host=\"localhost\",\n",
    "    user=\"root\",\n",
    "    password=\"\",\n",
    "    database=\"mydb1\"\n",
    ")\n",
    "mycursor=mydb.cursor()\n",
    "# mycursor.execute(\"DROP TABLE Table1\")\n",
    "mycursor.execute(\"DROP TABLE IF EXISTS Table1\")\n",
    "mydb.commit()\n",
    "print(\"Table removed successfully\")"
   ]
  },
  {
   "cell_type": "markdown",
   "metadata": {},
   "source": [
    "<h4>05 Inserting rows(data) into a table (Method-1)</h4>\n",
    "<h5>SQL query-1: \"INSERT INTO table_name(column1,column2,...,column(n)) VALUES(val1,val2,...,val(n))\"\n",
    "<br/> >>> we use this when there is an auto-increment column, here we mention the names of those columns who are not auto-increment\n",
    "<br/> SQL query-2: \"INSERT INTO table_name VALUES(val1,val2,...,val(n))\"\n",
    "<br/> >>> here we should ensure that values for every column is provided otherwise exception will be generated\n",
    "<br/> > Steps:\n",
    "<br/> >>> 1) import mysql.connector\n",
    "<br/> >>> 2) Use connect() method to connect to the database, it returns a connection object\n",
    "<br/> >>> 3) Create a cursor object using connection object's cursor() method\n",
    "<br/> >>> 4) Execute SQL queries using the cursor's execute() method\n",
    "<br/> >>> 5) Commit the changes done in the database using connection object's commit() method\n",
    "</h5>"
   ]
  },
  {
   "cell_type": "code",
   "execution_count": 5,
   "metadata": {},
   "outputs": [
    {
     "name": "stdout",
     "output_type": "stream",
     "text": [
      "Row data inserted in table\n",
      "ID of the last inserted row:  9\n"
     ]
    }
   ],
   "source": [
    "# Inserting one row in the Table\n",
    "import mysql.connector as ctr\n",
    "mydb=ctr.connect(\n",
    "    host=\"localhost\",\n",
    "    user=\"root\",\n",
    "    password=\"\",\n",
    "    database=\"mydb1\"\n",
    ")\n",
    "mycursor=mydb.cursor()\n",
    "mycursor.execute(\"INSERT INTO Table2(Uname,Pswd) VALUES('user1','123')\")\n",
    "mydb.commit() # required to persist the changes\n",
    "print(\"Row data inserted in table\")\n",
    "print(\"ID of the last inserted row: \",mycursor.lastrowid)"
   ]
  },
  {
   "cell_type": "markdown",
   "metadata": {},
   "source": [
    "<h4>05(a) Inserting a row(data) into a table (Method-2)</h4>\n",
    "<h5>SQL query: \"INSERT INTO table_name(column1,column2,...,column(n)) VALUES(%s,%d,...)\"\n",
    "<br/> >>> %s is for strings, %d for integers, %f for floating point\n",
    "<br/> >>> the values provided should match with the data-type of the column\n",
    "<br/> >>> the actual values that would replace the %format should be provided in a separate tuple\n",
    "<br/> > Steps:\n",
    "<br/> >>> 1) import mysql.connector\n",
    "<br/> >>> 2) Use connect() method to connect to the database, it returns a connection object\n",
    "<br/> >>> 3) Create a cursor object using connection object's cursor() method\n",
    "<br/> >>> 4) Execute SQL queries using the cursor's execute() method\n",
    "<br/> >>> 5) Commit the changes done in the database using connection object's commit() method\n",
    "</h5>"
   ]
  },
  {
   "cell_type": "code",
   "execution_count": 6,
   "metadata": {},
   "outputs": [
    {
     "name": "stdout",
     "output_type": "stream",
     "text": [
      "Row(data) inserted successfully\n",
      "Row ID of the last inserted row: 10\n"
     ]
    }
   ],
   "source": [
    "# Inserting one row in the Table using query and values separately\n",
    "import mysql.connector as ctr\n",
    "mydb=ctr.connect(\n",
    "    host=\"localhost\",\n",
    "    user=\"root\",\n",
    "    password=\"\",\n",
    "    database=\"mydb1\"\n",
    ")\n",
    "mycursor=mydb.cursor()\n",
    "qry=\"INSERT INTO Table2(Uname,Pswd) VALUES(%s,%s)\"\n",
    "vals=(\"user2\",\"234\")\n",
    "mycursor.execute(qry,vals)\n",
    "mydb.commit() # required to persist the changes\n",
    "print(\"Row(data) inserted successfully\")\n",
    "print(\"Row ID of the last inserted row:\",mycursor.lastrowid)"
   ]
  },
  {
   "cell_type": "markdown",
   "metadata": {},
   "source": [
    "<h4>05(b) Inserting multiple rows(data) into a table (Method-3)</h4>\n",
    "<h5>SQL query: \"INSERT INTO table_name(column1,column2,...,column(n)) VALUES(%s,%d,...)\"\n",
    "<br/> >>> %s is for strings, %d for integers, %f for floating point\n",
    "<br/> >>> the values provided should match with the data-type of the column\n",
    "<br/> >>> multiple tuples in a list can be provided to provide data for multiple rows\n",
    "<br/> > Steps:\n",
    "<br/> >>> 1) import mysql.connector\n",
    "<br/> >>> 2) Use connect() method to connect to the database, it returns a connection object\n",
    "<br/> >>> 3) Create a cursor object using connection object's cursor() method\n",
    "<br/> >>> 4) Execute SQL queries using the cursor's executemany() method\n",
    "<br/> >>> 5) Commit the changes done in the database using connection object's commit() method\n",
    "</h5>"
   ]
  },
  {
   "cell_type": "code",
   "execution_count": 8,
   "metadata": {},
   "outputs": [
    {
     "name": "stdout",
     "output_type": "stream",
     "text": [
      "All rows inserted successfully\n"
     ]
    }
   ],
   "source": [
    "# Inserting multiple rows in the Table\n",
    "import mysql.connector as ctr\n",
    "mydb=ctr.connect(\n",
    "    host=\"localhost\",\n",
    "    user=\"root\",\n",
    "    password=\"\",\n",
    "    database=\"mydb1\"\n",
    ")\n",
    "mycursor=mydb.cursor()\n",
    "sql=\"INSERT INTO Table2(Uname,Pswd) VALUES(%s,%s)\"\n",
    "vals=[\n",
    "    (\"abc\",\"111\"),\n",
    "    (\"efg\",\"222\"),\n",
    "    (\"ijk\",\"333\"),\n",
    "    (\"mno\",\"444\")\n",
    "]\n",
    "mycursor.executemany(sql,vals)\n",
    "mydb.commit() # required to persist the changes\n",
    "print(\"All rows inserted successfully\")"
   ]
  },
  {
   "cell_type": "markdown",
   "metadata": {},
   "source": [
    "<h4>06 Reading row data from table</h4>\n",
    "<h5>SQL query: \"SELECT * FROM table_name\"\n",
    "<br/> >>> to fetch only one row we use cursor.fetchone()\n",
    "<br/> > Steps:\n",
    "<br/> >>> 1) import mysql.connector\n",
    "<br/> >>> 2) Use connect() method to connect to the database, it returns a connection object\n",
    "<br/> >>> 3) Create a cursor object using connection object's cursor() method\n",
    "<br/> >>> 4) Execute SQL queries using the cursor's execute() method\n",
    "<br/> >>> 5) Use the cursor obeject's fetchone() method\n",
    "</h5>"
   ]
  },
  {
   "cell_type": "code",
   "execution_count": 13,
   "metadata": {},
   "outputs": [
    {
     "name": "stdout",
     "output_type": "stream",
     "text": [
      "(1, 'user1', '123')\n"
     ]
    }
   ],
   "source": [
    "# Reading the first row from table\n",
    "import mysql.connector as ctr\n",
    "mydb=ctr.connect(\n",
    "    host=\"localhost\",\n",
    "    user=\"root\",\n",
    "    password=\"\",\n",
    "    database=\"mydb1\"\n",
    ")\n",
    "mycursor=mydb.cursor()\n",
    "mycursor.execute(\"SELECT * FROM Table2\")\n",
    "res=mycursor.fetchone()\n",
    "print(res)"
   ]
  },
  {
   "cell_type": "markdown",
   "metadata": {},
   "source": [
    "<h4>06(i) Reading all the rows from table</h4>\n",
    "<h5>SQL query: \"SELECT * FROM table_name\"\n",
    "<br/> >>> to fetch all rows either we use cursor.fetchall()\n",
    "<br/> > Steps:\n",
    "<br/> >>> 1) import mysql.connector\n",
    "<br/> >>> 2) Use connect() method to connect to the database, it returns a connection object\n",
    "<br/> >>> 3) Create a cursor object using connection object's cursor() method\n",
    "<br/> >>> 4) Execute SQL queries using the cursor's execute() method\n",
    "<br/> >>> 5) Use the cursor object's fetchall() method, which returns a list of tuples with all rows of a query result set.\n",
    "<br/> >>> 6) Iterate through the returned list of tuples (resultset)\n",
    "</h5>"
   ]
  },
  {
   "cell_type": "code",
   "execution_count": 22,
   "metadata": {},
   "outputs": [
    {
     "name": "stdout",
     "output_type": "stream",
     "text": [
      "(1, 'user1', '123')\n",
      "(4, 'user2', '234')\n",
      "(5, 'abc', '111')\n",
      "(6, 'efg', '222')\n",
      "(7, 'ijk', '333')\n",
      "(8, 'mno', '444')\n",
      "(9, 'user1', '123')\n",
      "(10, 'user2', '234')\n",
      "(11, 'abc', '111')\n",
      "(12, 'efg', '222')\n",
      "(13, 'ijk', '333')\n",
      "(14, 'mno', '444')\n",
      "(15, 'abc', '111')\n",
      "(16, 'efg', '222')\n",
      "(17, 'ijk', '333')\n",
      "(18, 'mno', '444')\n"
     ]
    }
   ],
   "source": [
    "import mysql.connector as ctr\n",
    "mydb=ctr.connect(\n",
    "    host=\"localhost\",\n",
    "    user=\"root\",\n",
    "    password=\"\",\n",
    "    database=\"mydb1\"\n",
    ")\n",
    "mycursor=mydb.cursor()\n",
    "mycursor.execute(\"SELECT * FROM Table2\")\n",
    "res=mycursor.fetchall()\n",
    "for n in res:\n",
    "    print(n)"
   ]
  },
  {
   "cell_type": "markdown",
   "metadata": {},
   "source": [
    "<h4>06(ii) Reading rows with specific columns from table</h4>\n",
    "<h5>SQL query: \"SELECT col1,col2,... FROM table_name\"\n",
    "<br/> > Steps:\n",
    "<br/> >>> 1) import mysql.connector\n",
    "<br/> >>> 2) Use connect() method to connect to the database, it returns a connection object\n",
    "<br/> >>> 3) Create a cursor object using connection object's cursor() method\n",
    "<br/> >>> 4) Execute SQL queries using the cursor's execute() method\n",
    "<br/> >>> 5) Iterate through the cursor object to view the resultset or we can use the fetchall() method.\n",
    "</h5>"
   ]
  },
  {
   "cell_type": "code",
   "execution_count": 1,
   "metadata": {},
   "outputs": [
    {
     "name": "stdout",
     "output_type": "stream",
     "text": [
      "(1, 'user1')\n",
      "(4, 'user2')\n",
      "(5, 'abc')\n",
      "(6, 'efg')\n",
      "(7, 'ijk')\n",
      "(8, 'mno')\n",
      "(9, 'user1')\n",
      "(10, 'user2')\n",
      "(11, 'abc')\n",
      "(12, 'efg')\n",
      "(13, 'ijk')\n",
      "(14, 'mno')\n",
      "(15, 'abc')\n",
      "(16, 'efg')\n",
      "(17, 'ijk')\n",
      "(18, 'mno')\n"
     ]
    }
   ],
   "source": [
    "import mysql.connector as ctr\n",
    "mydb=ctr.connect(\n",
    "    host=\"localhost\",\n",
    "    user=\"root\",\n",
    "    password=\"\",\n",
    "    database=\"mydb1\"\n",
    ")\n",
    "mycursor=mydb.cursor()\n",
    "mycursor.execute(\"SELECT id,uname FROM Table2\")\n",
    "for n in mycursor: # or we can use fetchall() instead of for\n",
    "    print(n)"
   ]
  },
  {
   "cell_type": "markdown",
   "metadata": {},
   "source": [
    "<h4>06(iii) Reading rows with specific conditions from table</h4>\n",
    "<h5>SQL query: \"SELECT * FROM table_name WHERE condition\"\n",
    "<br/> > Steps:\n",
    "<br/> >>> 1) import mysql.connector\n",
    "<br/> >>> 2) Use connect() method to connect to the database, it returns a connection object\n",
    "<br/> >>> 3) Create a cursor object using connection object's cursor() method\n",
    "<br/> >>> 4) Execute SQL queries using the cursor's execute() method\n",
    "<br/> >>> 5) Use the cursor object's fetchall() method, which returns a list of tuples with all rows of a query result set.\n",
    "<br/> >>> 6) Iterate through the returned list of tuples (resultset)\n",
    "</h5>"
   ]
  },
  {
   "cell_type": "code",
   "execution_count": 6,
   "metadata": {},
   "outputs": [
    {
     "name": "stdout",
     "output_type": "stream",
     "text": [
      "(1, 'user1', '123')\n",
      "(9, 'user1', '123')\n"
     ]
    }
   ],
   "source": [
    "import mysql.connector as ctr\n",
    "mydb=ctr.connect(\n",
    "    host=\"localhost\",\n",
    "    user=\"root\",\n",
    "    password=\"\",\n",
    "    database=\"mydb1\"\n",
    ")\n",
    "mycursor=mydb.cursor()\n",
    "mycursor.execute(\"SELECT * FROM table2 WHERE Uname='user1' and Pswd='123'\")\n",
    "result=mycursor.fetchall()\n",
    "for r in result:\n",
    "    print(r)"
   ]
  },
  {
   "cell_type": "markdown",
   "metadata": {},
   "source": [
    "<h4>06(iv) Reading Column names from a table</h4>\n",
    "<h5>SQL query: \"SELECT * FROM table_name\" \n",
    "<br/>cnames_list=cursor.column_names()\n",
    "<br/> > Steps:\n",
    "<br/> >>> 1) import mysql.connector\n",
    "<br/> >>> 2) Use connect() method to connect to the database, it returns a connection object\n",
    "<br/> >>> 3) Create a cursor object using connection object's cursor() method\n",
    "<br/> >>> 4) Execute SQL queries using the cursor's execute() method\n",
    "<br/> >>> 5) Use the cursor object's column_names attribute to read the column names in the form of tuple\n",
    "</h5>"
   ]
  },
  {
   "cell_type": "code",
   "execution_count": 20,
   "metadata": {},
   "outputs": [
    {
     "name": "stdout",
     "output_type": "stream",
     "text": [
      "('id', 'Uname', 'Pswd')\n"
     ]
    }
   ],
   "source": [
    "import mysql.connector as ctr\n",
    "mydb=ctr.connect(\n",
    "    host=\"localhost\",\n",
    "    user=\"root\",\n",
    "    password=\"\",\n",
    "    database=\"mydb1\"\n",
    ")\n",
    "mycursor=mydb.cursor()\n",
    "mycursor.execute(\"SELECT * FROM Table2\")\n",
    "print(mycursor.column_names)"
   ]
  },
  {
   "cell_type": "markdown",
   "metadata": {},
   "source": [
    "<h4>06(v) Reading rows in Ascending/Descending order</h4>\n",
    "<h5>SQL query #1: \"SELECT * FROM table_name ORDER BY col_name\"\n",
    "<br/>SQL query #2: \"SELECT * FROM table_name ORDER BY col_name DESC\"\n",
    "<br/> > Steps:\n",
    "<br/> >>> 1) import mysql.connector\n",
    "<br/> >>> 2) Use connect() method to connect to the database, it returns a connection object\n",
    "<br/> >>> 3) Create a cursor object using connection object's cursor() method\n",
    "<br/> >>> 4) Execute SQL queries using the cursor's execute() method\n",
    "<br/> >>> 5) Use the cursor object's fetchall() or fetchmany(number) method, which returns a list of tuples with all rows of a query result set.\n",
    "<br/> >>> 6) Iterate through the returned list of tuples (resultset)\n",
    "</h5>"
   ]
  },
  {
   "cell_type": "code",
   "execution_count": 36,
   "metadata": {},
   "outputs": [
    {
     "name": "stdout",
     "output_type": "stream",
     "text": [
      "In Ascending order of column Uname\n",
      "(11, 'abc', '111')\n",
      "(15, 'abc', '111')\n",
      "(5, 'abc', '111')\n",
      "(16, 'efg', '222')\n",
      "(6, 'efg', '222')\n",
      "In Descending order of column Uname\n",
      "(4, 'user2', '234')\n",
      "(10, 'user2', '234')\n",
      "(1, 'user1', '123')\n",
      "(9, 'user1', '123')\n",
      "(14, 'mno', '444')\n"
     ]
    }
   ],
   "source": [
    "import mysql.connector as ctr\n",
    "mydb=ctr.connect(\n",
    "    host=\"localhost\",\n",
    "    user=\"root\",\n",
    "    password=\"\",\n",
    "    database=\"mydb1\"\n",
    ")\n",
    "mycursor=mydb.cursor()\n",
    "mycursor.execute(\"SELECT * FROM Table2 ORDER BY Uname\")\n",
    "result=mycursor.fetchmany(5) # fetching only first five rows\n",
    "print(\"In Ascending order of column Uname\")\n",
    "for n in result:\n",
    "    print(n)\n",
    "mycursor.reset() # we need to reset the cursor as its being already used\n",
    "mycursor.execute(\"SELECT * FROM Table2 ORDER BY Uname DESC\")\n",
    "result=mycursor.fetchmany(5)\n",
    "print(\"In Descending order of column Uname\")\n",
    "for n in result:\n",
    "    print(n)"
   ]
  },
  {
   "cell_type": "markdown",
   "metadata": {},
   "source": [
    "<h4>07 Updating records in a Table</h4>\n",
    "<h5>SQL query: \"UPDATE table_name SET column_name=new_value WHERE condition\"\n",
    "<br/>>>> if WHERE clause is not used then all the row data in the specified column will be updated \n",
    "<br/> > Steps:\n",
    "<br/> >>> 1) import mysql.connector\n",
    "<br/> >>> 2) Use connect() method to connect to the database, it returns a connection object\n",
    "<br/> >>> 3) Create a cursor object using connection object's cursor() method\n",
    "<br/> >>> 4) Execute SQL queries using the cursor's execute() method\n",
    "<br/> >>> 5) Use the cursor object's fetchall() method, which returns a list of tuples with all rows of a query result set.\n",
    "<br/> >>> 6) Iterate through the returned list of tuples (resultset)\n",
    "</h5>"
   ]
  },
  {
   "cell_type": "code",
   "execution_count": 38,
   "metadata": {},
   "outputs": [
    {
     "name": "stdout",
     "output_type": "stream",
     "text": [
      "[(1, 'New User', '123')]\n"
     ]
    }
   ],
   "source": [
    "import mysql.connector as ctr\n",
    "mydb=ctr.connect(\n",
    "    host=\"localhost\",\n",
    "    user=\"root\",\n",
    "    password=\"\",\n",
    "    database=\"mydb1\"\n",
    ")\n",
    "mycursor=mydb.cursor()\n",
    "mycursor.execute(\"UPDATE Table2 SET Uname='New User' WHERE Id=1\")\n",
    "mydb.commit() # required to persist the changes\n",
    "mycursor.reset()\n",
    "mycursor.execute(\"SELECT * FROM Table2 WHERE Id=1\")\n",
    "result=mycursor.fetchall()\n",
    "print(result)"
   ]
  },
  {
   "cell_type": "markdown",
   "metadata": {},
   "source": [
    "<h4>08 Deleting records in a Table</h4>\n",
    "<h5>SQL query: \"DELETE FROM table_name WHERE condition\"\n",
    "<br/>>>> if WHERE clause is not used then all the records will be deleted\n",
    "<br/> > Steps:\n",
    "<br/> >>> 1) import mysql.connector\n",
    "<br/> >>> 2) Use connect() method to connect to the database, it returns a connection object\n",
    "<br/> >>> 3) Create a cursor object using connection object's cursor() method\n",
    "<br/> >>> 4) Execute SQL queries using the cursor's execute() method\n",
    "<br/> >>> 5) Commit the changes done in the database using connection object's commit() method \n",
    "</h5>"
   ]
  },
  {
   "cell_type": "code",
   "execution_count": 42,
   "metadata": {},
   "outputs": [
    {
     "name": "stdout",
     "output_type": "stream",
     "text": [
      "(1, 'New User', '123')\n",
      "(4, 'user2', '234')\n",
      "(5, 'abc', '111')\n",
      "(6, 'efg', '222')\n",
      "(7, 'ijk', '333')\n"
     ]
    }
   ],
   "source": [
    "import mysql.connector as ctr\n",
    "mydb=ctr.connect(\n",
    "    host=\"localhost\",\n",
    "    user=\"root\",\n",
    "    password=\"\",\n",
    "    database=\"mydb1\"    \n",
    ")\n",
    "mycursor=mydb.cursor()\n",
    "mycursor.execute(\"DELETE FROM Table2 WHERE Id=2\")\n",
    "mydb.commit() # required to persist the changes\n",
    "mycursor.reset()\n",
    "mycursor.execute(\"SELECT * FROM Table2 ORDER BY Id\")\n",
    "result=mycursor.fetchmany(5) # fetching first 5 rows\n",
    "for n in result:\n",
    "    print(n)"
   ]
  },
  {
   "cell_type": "code",
   "execution_count": null,
   "metadata": {},
   "outputs": [],
   "source": []
  }
 ],
 "metadata": {
  "kernelspec": {
   "display_name": "Python 3.10.7 64-bit",
   "language": "python",
   "name": "python3"
  },
  "language_info": {
   "codemirror_mode": {
    "name": "ipython",
    "version": 3
   },
   "file_extension": ".py",
   "mimetype": "text/x-python",
   "name": "python",
   "nbconvert_exporter": "python",
   "pygments_lexer": "ipython3",
   "version": "3.10.7"
  },
  "orig_nbformat": 4,
  "vscode": {
   "interpreter": {
    "hash": "205b98b4d1985d493ef88a03e013826e686053393df5367dcc6e26039158c4c1"
   }
  }
 },
 "nbformat": 4,
 "nbformat_minor": 2
}
