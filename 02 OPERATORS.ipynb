{
 "cells": [
  {
   "cell_type": "markdown",
   "metadata": {},
   "source": [
    "## Operators in Python"
   ]
  },
  {
   "cell_type": "markdown",
   "metadata": {},
   "source": [
    "### Arithmetic operators"
   ]
  },
  {
   "cell_type": "code",
   "execution_count": null,
   "metadata": {},
   "outputs": [],
   "source": [
    "'''\n",
    "Arithmetic operators:\n",
    "+   addition for numeric types and concatenation for string types\n",
    "-   subtraction\n",
    "/   float division\n",
    "//  floor division (result is nearest integer value in float format)\n",
    "*   multiplication for numeric types and repetition for string types\n",
    "**  power\n",
    "'''"
   ]
  },
  {
   "cell_type": "markdown",
   "metadata": {},
   "source": [
    "### Relational operators and Logical operators"
   ]
  },
  {
   "cell_type": "code",
   "execution_count": null,
   "metadata": {},
   "outputs": [],
   "source": [
    "'''\n",
    "Relational operators: result is always boolean value\n",
    ">, >=, <, <=, ==, !=\n",
    "\n",
    "Logical operators: result is always boolean value\n",
    "and, or, not\n",
    "\n",
    "NON-ZERO is treated as True\n",
    "ZERO is treated as False\n",
    "'''"
   ]
  },
  {
   "cell_type": "markdown",
   "metadata": {},
   "source": [
    "### Chaining of relational operators"
   ]
  },
  {
   "cell_type": "code",
   "execution_count": 10,
   "metadata": {
    "scrolled": true
   },
   "outputs": [
    {
     "name": "stdout",
     "output_type": "stream",
     "text": [
      "True\n",
      "True\n",
      "False\n"
     ]
    }
   ],
   "source": [
    "# Chaining of relational operators can be done\n",
    "# In this case all the conditions should be True to get True or else False\n",
    "print(10<20<30) # True, as all conditions are True\n",
    "print(10==10==10) # True, as all conditions are True\n",
    "print(10>20<30) # False, as one of the conditions is False"
   ]
  },
  {
   "cell_type": "code",
   "execution_count": 25,
   "metadata": {
    "scrolled": true
   },
   "outputs": [
    {
     "name": "stdout",
     "output_type": "stream",
     "text": [
      "True\n",
      "True\n",
      "True\n",
      "True\n",
      "True\n",
      "False\n",
      "20\n",
      "0\n",
      "100\n",
      "999\n",
      "True\n"
     ]
    }
   ],
   "source": [
    "print(10==10.0)\n",
    "print(1==True)\n",
    "print(0==False)\n",
    "print(True and True)\n",
    "print(True or False)\n",
    "print(not True)\n",
    "print(1 and 20) #for non-boolean arguments: returns RHS, if LHS is true else it returns LHS\n",
    "print(0 and 20) #for non-boolean arguments: returns RHS, if LHS is true else it returns LHS\n",
    "print(0 or 100) #for non-boolean arguments: returns LHS, if LHS is true else it returns RHS\n",
    "print(999 or 0) #for non-boolean arguments: returns LHS, if LHS is true else it returns RHS\n",
    "print(not 0)"
   ]
  },
  {
   "cell_type": "markdown",
   "metadata": {},
   "source": [
    "### Bitwise operators"
   ]
  },
  {
   "cell_type": "code",
   "execution_count": null,
   "metadata": {},
   "outputs": [],
   "source": [
    "'''\n",
    "Bitwise operators: only applicable for integer and boolean\n",
    "& : bitwise AND : output is 1 only when RHS and LHS bit is 1\n",
    "| : bitwise OR : output is 1 when any RHS and LHS bit is 1\n",
    "^ : bitwise XOR : output is 0 when RHS and LHS bits are same\n",
    "~ : bitwise complement : evaluates 1st complement\n",
    "<< : bitwise left shift\n",
    ">> : bitwise right shift\n",
    "'''"
   ]
  },
  {
   "cell_type": "code",
   "execution_count": 5,
   "metadata": {},
   "outputs": [
    {
     "name": "stdout",
     "output_type": "stream",
     "text": [
      "3\n"
     ]
    }
   ],
   "source": [
    "print(~-4)"
   ]
  },
  {
   "cell_type": "markdown",
   "metadata": {},
   "source": [
    "### Assignment operator"
   ]
  },
  {
   "cell_type": "code",
   "execution_count": 5,
   "metadata": {},
   "outputs": [
    {
     "name": "stdout",
     "output_type": "stream",
     "text": [
      "10 20 30\n"
     ]
    }
   ],
   "source": [
    "# Assignment operator\n",
    "a,b,c=10,20,30\n",
    "print(a,b,c)"
   ]
  },
  {
   "cell_type": "markdown",
   "metadata": {},
   "source": [
    "### Ternary operator"
   ]
  },
  {
   "cell_type": "code",
   "execution_count": 7,
   "metadata": {
    "scrolled": true
   },
   "outputs": [
    {
     "name": "stdout",
     "output_type": "stream",
     "text": [
      "200\n",
      "100\n"
     ]
    }
   ],
   "source": [
    "# Ternary operator\n",
    "# Syntax: true-value if condition else false-value\n",
    "x=100 if 10>30 else 200\n",
    "print(x)\n",
    "x=100 if 10<20 else 200\n",
    "print(x)"
   ]
  },
  {
   "cell_type": "code",
   "execution_count": 10,
   "metadata": {},
   "outputs": [
    {
     "name": "stdout",
     "output_type": "stream",
     "text": [
      "Enter a number222\n",
      "Enter another number111\n",
      "Smallest value:  111\n"
     ]
    }
   ],
   "source": [
    "a=int(input(\"Enter a number\"))\n",
    "b=int(input(\"Enter another number\"))\n",
    "x=a if a<b else b\n",
    "print(\"Smallest value: \",x)"
   ]
  },
  {
   "cell_type": "code",
   "execution_count": 17,
   "metadata": {
    "scrolled": true
   },
   "outputs": [
    {
     "name": "stdout",
     "output_type": "stream",
     "text": [
      "Enter 1st number7\n",
      "Enter 2nd number4\n",
      "Enter 3rd number6\n",
      "Greatest:  7\n"
     ]
    }
   ],
   "source": [
    "a=int(input('Enter 1st number'))\n",
    "b=int(input('Enter 2nd number'))\n",
    "c=int(input('Enter 3rd number'))\n",
    "x=a if a>b else b if b>c else c\n",
    "print(\"Greatest: \",x)"
   ]
  },
  {
   "cell_type": "markdown",
   "metadata": {},
   "source": [
    "### Identity Operator"
   ]
  },
  {
   "cell_type": "code",
   "execution_count": 22,
   "metadata": {},
   "outputs": [
    {
     "name": "stdout",
     "output_type": "stream",
     "text": [
      "address of a:  140713318033472\n",
      "address of b:  140713318033472\n",
      "True\n",
      "False\n"
     ]
    }
   ],
   "source": [
    "# Identity Operator (address comparison)\n",
    "# 'is' returns True when LHS and RHS objects point towards same memory location else False\n",
    "# 'is not' returns True when LHS and RHS objects point towards different memory location else False\n",
    "a=10\n",
    "b=10\n",
    "print('address of a: ',id(a))\n",
    "print('address of b: ',id(b))\n",
    "print(a is b) # True: as values of a & b are between 0 and 256 else False\n",
    "print(a is not b)"
   ]
  },
  {
   "cell_type": "code",
   "execution_count": 24,
   "metadata": {
    "scrolled": true
   },
   "outputs": [
    {
     "name": "stdout",
     "output_type": "stream",
     "text": [
      "address of a:  1653010649904\n",
      "address of b:  1653010649872\n",
      "False\n",
      "True\n"
     ]
    }
   ],
   "source": [
    "a=1000\n",
    "b=1000\n",
    "print('address of a: ',id(a))\n",
    "print('address of b: ',id(b))\n",
    "print(a is b) # False: as values of a & b are not between 0 and 256\n",
    "print(a==b) # True as == does content comparison"
   ]
  },
  {
   "cell_type": "markdown",
   "metadata": {},
   "source": [
    "### Membership operator"
   ]
  },
  {
   "cell_type": "code",
   "execution_count": 27,
   "metadata": {
    "scrolled": true
   },
   "outputs": [
    {
     "name": "stdout",
     "output_type": "stream",
     "text": [
      "True\n",
      "False\n",
      "False\n"
     ]
    }
   ],
   "source": [
    "# Membership operator\n",
    "# 'in' returns True when LHS is present in the collection present in RHS\n",
    "# 'not in' returns True when LHS is not present in the collection present in RHS\n",
    "s1='123456'\n",
    "print('3' in s1)\n",
    "print('9' in s1)\n",
    "print('3' not in s1)"
   ]
  },
  {
   "cell_type": "code",
   "execution_count": null,
   "metadata": {},
   "outputs": [],
   "source": []
  }
 ],
 "metadata": {
  "kernelspec": {
   "display_name": "Python 3",
   "language": "python",
   "name": "python3"
  },
  "language_info": {
   "codemirror_mode": {
    "name": "ipython",
    "version": 3
   },
   "file_extension": ".py",
   "mimetype": "text/x-python",
   "name": "python",
   "nbconvert_exporter": "python",
   "pygments_lexer": "ipython3",
   "version": "3.8.5"
  }
 },
 "nbformat": 4,
 "nbformat_minor": 4
}
