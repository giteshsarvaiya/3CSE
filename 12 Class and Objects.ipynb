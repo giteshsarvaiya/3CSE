{
 "cells": [
  {
   "cell_type": "markdown",
   "metadata": {},
   "source": [
    "<h3>11 Class and Objects</h3>\n",
    "<h4>\n",
    "> Python is an object oriented programming language.\n",
    "<br/> > Almost everything in Python is an object, with its properties and methods.\n",
    "<br/> > A property or a data member of a class is just a variable or variables declared with in the class to store some values.\n",
    "<br/> > A member method is a function defined inside the class that helps in viewing/manipulating the data members of that class. A member method can only called by using the object of that class.\n",
    "<br/> > A Class acts like a \"blueprint\" for creating objects.\n",
    "<br/> > Objects created from a class aquire all the properties or members of the class. Objects are actualization of a class.\n",
    "<br/> > To create a class we use the keyword \"class\"\n",
    "<br/> > Syntax for creating a class: class class_name:\n",
    "<br/> > Syntax for creating an unnamed object of a class: class_name()\n",
    "<br/> > Syntax for creating an reference object: object_name = class_name()\n",
    "<br/> > Syntax for accessing members: object_name.member_name\n",
    "</h4>"
   ]
  },
  {
   "cell_type": "code",
   "execution_count": 3,
   "metadata": {},
   "outputs": [
    {
     "name": "stdout",
     "output_type": "stream",
     "text": [
      "100\n",
      "Member Method f1() called\n"
     ]
    }
   ],
   "source": [
    "class Test:\n",
    "    v1=100  #data member (property) of the class\n",
    "    def f1(self):  # member method of the class\n",
    "        print(\"Member Method f1() called\")\n",
    "        \n",
    "ob1=Test()  # creating an object \"ob1\" of class \"Test\"\n",
    "print(ob1.v1) # accessing the data member inside ob1\n",
    "ob1.f1() # accessing member method inside ob1"
   ]
  },
  {
   "cell_type": "markdown",
   "metadata": {},
   "source": [
    "<h3>The \"__init__()\" constructor method</h3>\n",
    "<h4>\n",
    "> All classes have a method called __init__() implicitly available, which is always executed every time an object of any class is created.\n",
    "<br/>> We can customize the __init__() method to assign values to object properties (data members), or other operations that are necessary to do when the object is being created\n",
    "<br/>> We can put input arguments in __init__(), the input argument values can be used to initialize the data members (properties) of the class\n",
    "</h4>"
   ]
  },
  {
   "cell_type": "code",
   "execution_count": 2,
   "metadata": {},
   "outputs": [
    {
     "name": "stdout",
     "output_type": "stream",
     "text": [
      "__init__() method called from Test1\n",
      "__init__() method called from Test2\n"
     ]
    }
   ],
   "source": [
    "class Test1:\n",
    "    def __init__(self):\n",
    "        print(\"__init__() method called from Test1\")\n",
    "class Test2:\n",
    "    def __init__(self):\n",
    "        print(\"__init__() method called from Test2\")\n",
    "\n",
    "ob1=Test1() # implicity calls the __init__() method of Test1 class\n",
    "ob1=Test2() # implicity calls the __init__() method of Test2 class"
   ]
  },
  {
   "cell_type": "markdown",
   "metadata": {},
   "source": [
    "<h3>The \"__del__()\" destructor method</h3>\n",
    "<h4>\n",
    "> All classes have a method called __del__() implicitly available, which is always executed every time an object reference becomes None and it becomes eligible of garbage collection.\n",
    "<br/>> We can explicity call the \"del\" operator on an object to make it eligible for garbage collection and due to which the __del__() method of that object gets called.\n",
    "<br/>> In Python, destructors are not needed as much as in C++ because Python has a garbage collector that handles memory management automatically.\n",
    "</h4>"
   ]
  },
  {
   "cell_type": "code",
   "execution_count": 7,
   "metadata": {},
   "outputs": [
    {
     "name": "stdout",
     "output_type": "stream",
     "text": [
      "Class-A Constructor called for:  ob1\n",
      "Class-A Constructor called for:  ob2\n",
      "Class-A Destructor called for:  ob1\n",
      "Class-A Destructor called for:  ob2\n"
     ]
    }
   ],
   "source": [
    "class A:\n",
    "    def __init__(self,nm):\n",
    "        self.nm=nm\n",
    "        print(\"Class-A Constructor called for: \",self.nm)\n",
    "    def __del__(self):\n",
    "        print(\"Class-A Destructor called for: \",self.nm)\n",
    "\n",
    "ob1=A(\"ob1\")\n",
    "ob2=A(\"ob2\")\n",
    "ob1=None\n",
    "del ob2"
   ]
  },
  {
   "cell_type": "markdown",
   "metadata": {},
   "source": [
    "<h2>First argument in member (instance) methods (\"self\")</h2>\n",
    "<h3>\n",
    "> The first parameter is a reference to the current instance of the class, and is used to access members (data or methods) that belongs to the class.\n",
    "<br/>> It does not have to be named \"self\" , we can call it whatever we like, but it has to be the first parameter of any function in the class\n",
    "<br/>> The first input argument in every member method is mandatory and that will be used as the reference to the calling object.\n",
    "<br/>> The first argument of the member method holds the reference to the calling object.\n",
    "<br/>> While calling a member method we do not need to provide any value to the first argument, the python's virtual machine automatically assigns the reference of the calling object to the first argument, we only need to provide values to the arguments apart from the first argument.\n",
    "<br/>> Usually \"self\" is the name given to the first argument, but the name can be anything\n",
    "</h3>"
   ]
  },
  {
   "cell_type": "code",
   "execution_count": 7,
   "metadata": {},
   "outputs": [
    {
     "name": "stdout",
     "output_type": "stream",
     "text": [
      "Address of ob1=  1685888956832\n",
      "Address of self=  1685888956832\n",
      "Address of ob2=  1685889448112\n",
      "Address of myself=  1685889448112\n"
     ]
    }
   ],
   "source": [
    "class Test:\n",
    "    def f1(self):\n",
    "        print(\"Address of self= \",id(self))\n",
    "\n",
    "ob1=Test()\n",
    "print(\"Address of ob1= \",id(ob1))\n",
    "ob1.f1()\n",
    "# The addresses of the calling object and \"self\" (first argument) are same\n",
    "\n",
    "class Test2:\n",
    "    def f2(myself):\n",
    "        print(\"Address of myself= \",id(myself))\n",
    "ob2=Test2()\n",
    "print(\"Address of ob2= \",id(ob2))\n",
    "ob2.f2()\n",
    "# The addresses of the calling object and \"myself\" (first argument) are same"
   ]
  },
  {
   "cell_type": "markdown",
   "metadata": {},
   "source": [
    "<h2>Creating data members from within member methods</h2>\n",
    "<h3>\n",
    "> Using any member method we can create data members\n",
    "<br/>> Syntax: self.data_member_name=value\n",
    "</h3>"
   ]
  },
  {
   "cell_type": "code",
   "execution_count": 7,
   "metadata": {},
   "outputs": [
    {
     "name": "stdout",
     "output_type": "stream",
     "text": [
      "Name=  Default Name\n",
      "Rno.=  0\n"
     ]
    }
   ],
   "source": [
    "class Test:\n",
    "    def __init__(self):\n",
    "        self.name=\"Default Name\"    # data member created\n",
    "        self.rno=0                  # data member created\n",
    "    def f1(self):\n",
    "        print(\"Name= \",self.name)   # accessing data member\n",
    "        print(\"Rno.= \",self.rno)    # accessing data member\n",
    "\n",
    "ob1=Test()\n",
    "ob1.f1()"
   ]
  },
  {
   "cell_type": "markdown",
   "metadata": {},
   "source": [
    "<h2>Creating member methods with arguments</h2>"
   ]
  },
  {
   "cell_type": "code",
   "execution_count": 4,
   "metadata": {},
   "outputs": [
    {
     "name": "stdout",
     "output_type": "stream",
     "text": [
      "Student's Name:  Amit\n",
      "Student's Roll no.:  111\n",
      "Student's Name:  Sumit\n",
      "Student's Roll no.:  222\n"
     ]
    }
   ],
   "source": [
    "class Student:\n",
    "    def fill(self, nm, rno):\n",
    "        self.sname=nm\n",
    "        self.rollno=rno\n",
    "    def show(self):\n",
    "        print(\"Student's Name: \",self.sname)\n",
    "        print(\"Student's Roll no.: \",self.rollno)\n",
    "\n",
    "ob1=Student()\n",
    "ob1.fill(\"Amit\",111)\n",
    "ob2=Student()\n",
    "ob2.fill(\"Sumit\",222)\n",
    "ob1.show()\n",
    "ob2.show()"
   ]
  },
  {
   "cell_type": "markdown",
   "metadata": {},
   "source": [
    "<H2>Creating a list of objects</H2>"
   ]
  },
  {
   "cell_type": "code",
   "execution_count": 6,
   "metadata": {},
   "outputs": [
    {
     "name": "stdout",
     "output_type": "stream",
     "text": [
      "Employee Name:  AAA\n",
      "Employee Department:  CSE\n",
      "Employee Name:  BBB\n",
      "Employee Department:  ETC\n",
      "Employee Name:  CCC\n",
      "Employee Department:  EEE\n"
     ]
    }
   ],
   "source": [
    "class Employee:\n",
    "    def fill(self):\n",
    "        self.ename=input(\"Enter Employee Name: \")\n",
    "        self.edept=input(\"Enter Department: \")\n",
    "    def show(self):\n",
    "        print(\"Employee Name: \",self.ename)\n",
    "        print(\"Employee Department: \",self.edept)\n",
    "\n",
    "emplist=[]\n",
    "for i in range(3):\n",
    "    ob1=Employee()\n",
    "    ob1.fill()\n",
    "    emplist.append(ob1)\n",
    "\n",
    "for n in emplist:\n",
    "    n.show()"
   ]
  },
  {
   "cell_type": "markdown",
   "metadata": {},
   "source": [
    "<h2> \"pass\" keyword </h2>\n",
    "<h3>\n",
    "> Is is used to represent no operation\n",
    "<br/>> If we want to do nothing inside any member method then we can use \"pass\" keyword in the definition of the method body\n",
    "</h3>"
   ]
  },
  {
   "cell_type": "code",
   "execution_count": null,
   "metadata": {},
   "outputs": [],
   "source": [
    "class Test:\n",
    "    def f1(this):\n",
    "        pass  # the method f1() will do nothing\n",
    "\n",
    "ob1=Test()\n",
    "ob1.f1() # no output"
   ]
  },
  {
   "cell_type": "markdown",
   "metadata": {},
   "source": [
    "<h2>Inheritance</h2>\n",
    "<h3>\n",
    "> When one class (called as the child class) inherits or aquires the data members(properties) and member methods of another class (called as the parent class)\n",
    "<br/>> Syntax: Child_class(Parent_class):\n",
    "<br/>> Using child class object we can access the child class as well as parent class members (data and methods)\n",
    "</h3>"
   ]
  },
  {
   "cell_type": "markdown",
   "metadata": {},
   "source": [
    "<h3>Single Level Inheritance</h3>\n",
    "<h4>One Parent and One Child class</h4>"
   ]
  },
  {
   "cell_type": "code",
   "execution_count": 9,
   "metadata": {},
   "outputs": [
    {
     "name": "stdout",
     "output_type": "stream",
     "text": [
      "Parent class f1()\n",
      "Child class f2()\n"
     ]
    }
   ],
   "source": [
    "class Parent:\n",
    "    def f1(this):\n",
    "        print(\"Parent class f1()\") \n",
    "\n",
    "class Child(Parent):\n",
    "    def f2(this):\n",
    "        print(\"Child class f2()\")\n",
    "\n",
    "ob1=Child()\n",
    "ob1.f1() # accessing parent class method\n",
    "ob1.f2() # accessing child class method"
   ]
  },
  {
   "cell_type": "markdown",
   "metadata": {},
   "source": [
    "<h3>Mutli Level Inheritance</h3>\n",
    "<h4>Chain of Parent and Child classes one after another</h4>"
   ]
  },
  {
   "cell_type": "code",
   "execution_count": 19,
   "metadata": {},
   "outputs": [
    {
     "name": "stdout",
     "output_type": "stream",
     "text": [
      "GrandParent class f1()\n",
      "Parent class f2()\n",
      "Child class f3()\n"
     ]
    }
   ],
   "source": [
    "class GrandParent:\n",
    "    def f1(this):\n",
    "        print(\"GrandParent class f1()\") \n",
    "\n",
    "class Parent(GrandParent):\n",
    "    def f2(this):\n",
    "        print(\"Parent class f2()\") \n",
    "\n",
    "class Child(Parent):\n",
    "    def f3(this):\n",
    "        print(\"Child class f3()\")\n",
    "\n",
    "c=Child()\n",
    "c.f1()\n",
    "c.f2()\n",
    "c.f3()"
   ]
  },
  {
   "cell_type": "markdown",
   "metadata": {},
   "source": [
    "<h3>Mutliple Inheritance</h3>\n",
    "<h4>Mutliple Parent classes and One Child class</h4>"
   ]
  },
  {
   "cell_type": "code",
   "execution_count": 21,
   "metadata": {},
   "outputs": [
    {
     "name": "stdout",
     "output_type": "stream",
     "text": [
      "Class A f1()\n",
      "Class B f2()\n",
      "Class C f3()\n"
     ]
    }
   ],
   "source": [
    "class A:\n",
    "    def f1(this):\n",
    "        print(\"Class A f1()\")\n",
    "class B:\n",
    "    def f2(this):\n",
    "        print(\"Class B f2()\")\n",
    "class C(A,B):\n",
    "    def f3(this):\n",
    "        print(\"Class C f3()\")\n",
    "\n",
    "ob1=C()\n",
    "ob1.f1()\n",
    "ob1.f2()\n",
    "ob1.f3()"
   ]
  },
  {
   "cell_type": "markdown",
   "metadata": {},
   "source": [
    "<h3>Hierarchical Inheritance</h3>\n",
    "<h4>One Parent class and Mutliple Child classes</h4>"
   ]
  },
  {
   "cell_type": "code",
   "execution_count": 23,
   "metadata": {},
   "outputs": [
    {
     "name": "stdout",
     "output_type": "stream",
     "text": [
      "Class A f1()\n",
      "Class B f2()\n",
      "Class A f1()\n",
      "Class C f3()\n"
     ]
    }
   ],
   "source": [
    "class A:\n",
    "    def f1(this):\n",
    "        print(\"Class A f1()\")\n",
    "class B(A):\n",
    "    def f2(this):\n",
    "        print(\"Class B f2()\")\n",
    "class C(A):\n",
    "    def f3(this):\n",
    "        print(\"Class C f3()\")\n",
    "\n",
    "ob1=B()\n",
    "ob2=C()\n",
    "ob1.f1()\n",
    "ob1.f2()\n",
    "ob2.f1()\n",
    "ob2.f3()"
   ]
  },
  {
   "cell_type": "markdown",
   "metadata": {},
   "source": [
    "<h3>Hybrid Inheritance</h3>\n",
    "<h4>A mix of above mentioned types</h4>"
   ]
  },
  {
   "cell_type": "code",
   "execution_count": 24,
   "metadata": {},
   "outputs": [
    {
     "name": "stdout",
     "output_type": "stream",
     "text": [
      "Class A f1()\n",
      "Class B f2()\n",
      "Class C f3()\n",
      "Class D f4()\n"
     ]
    }
   ],
   "source": [
    "class A:\n",
    "    def f1(this):\n",
    "        print(\"Class A f1()\")\n",
    "class B(A):\n",
    "    def f2(this):\n",
    "        print(\"Class B f2()\")\n",
    "class C(A):\n",
    "    def f3(this):\n",
    "        print(\"Class C f3()\")\n",
    "class D(B,C):\n",
    "    def f4(this):\n",
    "        print(\"Class D f4()\")\n",
    "\n",
    "ob1=D()\n",
    "ob1.f1()\n",
    "ob1.f2()\n",
    "ob1.f3()\n",
    "ob1.f4()"
   ]
  },
  {
   "cell_type": "markdown",
   "metadata": {},
   "source": [
    "<h3>Overriding</h3>\n",
    "<h4>\n",
    "> Inheritance is mandatory\n",
    "<br/>> Child class method overrides the parent class method if both methods have same name\n",
    "<br/>> In order to call the Parent class version we have two ways:\n",
    "<br/>>>> use: Parent_class_name.method_name(self,argument_list)\n",
    "<br/>>>> use: super().method_name(argument_list)\n",
    "</h4>"
   ]
  },
  {
   "cell_type": "code",
   "execution_count": 10,
   "metadata": {},
   "outputs": [
    {
     "name": "stdout",
     "output_type": "stream",
     "text": [
      "Child class B: f1()\n",
      "Child class C: f1()\n"
     ]
    }
   ],
   "source": [
    "class A:\n",
    "    def f1(self):\n",
    "        print(\"Parent class A: f1()\")\n",
    "class B(A):\n",
    "    def f1(self):\n",
    "        print(\"Child class B: f1()\")\n",
    "class C(A):\n",
    "    def f1(self):\n",
    "        print(\"Child class C: f1()\")\n",
    "\n",
    "ob1=B()\n",
    "ob1.f1() # the child class f1() overshadows or overrides the parent class f1()\n",
    "ob2=C()\n",
    "ob2.f1() # the child class f1() overshadows or overrides the parent class f1()"
   ]
  },
  {
   "cell_type": "markdown",
   "metadata": {},
   "source": [
    "<h3>Calling the hidden/overshadowed parent class method</h3>\n",
    "<h4>\n",
    "> In order to call the Parent class version we have two ways:\n",
    "<br/>>>> use: Parent_class_name.method_name(self,argument_list)\n",
    "<br/>>>> use: super().method_name(argument_list)\n",
    "</h4>"
   ]
  },
  {
   "cell_type": "code",
   "execution_count": 12,
   "metadata": {},
   "outputs": [
    {
     "name": "stdout",
     "output_type": "stream",
     "text": [
      "Child class B: f1()\n",
      "Parent class A: f1()\n",
      "Child class C: f1()\n",
      "Parent class A: f1()\n"
     ]
    }
   ],
   "source": [
    "class A:\n",
    "    def f1(self):\n",
    "        print(\"Parent class A: f1()\")\n",
    "class B(A):\n",
    "    def f1(self):\n",
    "        print(\"Child class B: f1()\")\n",
    "        A.f1(self) #calls the parent class f1(), we need to add the \"self\" as the first argument\n",
    "class C(A):\n",
    "    def f1(self):\n",
    "        print(\"Child class C: f1()\")\n",
    "        super().f1() #calls the parent class f1(), no need to add the \"self\" as the first argument\n",
    "\n",
    "ob1=B()\n",
    "ob1.f1() \n",
    "ob1=C()\n",
    "ob1.f1()"
   ]
  },
  {
   "cell_type": "markdown",
   "metadata": {},
   "source": [
    "<h3>Static Members (data and methods)</h3>\n",
    "<h4>\n",
    "> We always need to use \"Class_name.\" to access the static members whether within class or outside class\n",
    "<br/>>> Static methods:\n",
    "<br/>> They do not have any compulsory first argument eg. \"self\"\n",
    "<br/>> They are not called using the instance/object of the class but instead by using the name of the class\n",
    "<br/>>>> Declaration: def method_name(argument_list)\n",
    "<br/>>>> Calling: Class_name.method_name(input_arg_values)\n",
    "<br/>> Static data members:\n",
    "<br/>>>> Static data members are those which are not declared inside the member methods\n",
    "<br/>>>> Delcaration: variable_name=value\n",
    "<br/>>>> Using static data member: Class_name.static_data_member\n",
    "</h4>"
   ]
  },
  {
   "cell_type": "code",
   "execution_count": 25,
   "metadata": {},
   "outputs": [
    {
     "name": "stdout",
     "output_type": "stream",
     "text": [
      "n=  1\n",
      "n=  2\n",
      "n=  3\n"
     ]
    }
   ],
   "source": [
    "class A:\n",
    "    n=0 # static data member, as it not defined inside any member method\n",
    "    def f1(): # static method\n",
    "        A.n+=1\n",
    "        print(\"n= \",A.n)\n",
    "\n",
    "A.f1() # as n is static the last updated value of n will be printed\n",
    "A.f1() # as n is static the last updated value of n will be printed\n",
    "A.f1() # as n is static the last updated value of n will be printed"
   ]
  }
 ],
 "metadata": {
  "kernelspec": {
   "display_name": "Python 3.10.7 64-bit",
   "language": "python",
   "name": "python3"
  },
  "language_info": {
   "codemirror_mode": {
    "name": "ipython",
    "version": 3
   },
   "file_extension": ".py",
   "mimetype": "text/x-python",
   "name": "python",
   "nbconvert_exporter": "python",
   "pygments_lexer": "ipython3",
   "version": "3.10.7"
  },
  "orig_nbformat": 4,
  "vscode": {
   "interpreter": {
    "hash": "205b98b4d1985d493ef88a03e013826e686053393df5367dcc6e26039158c4c1"
   }
  }
 },
 "nbformat": 4,
 "nbformat_minor": 2
}
