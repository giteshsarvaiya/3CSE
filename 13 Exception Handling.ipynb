{
 "cells": [
  {
   "cell_type": "markdown",
   "metadata": {},
   "source": [
    "<h3>13 Exception Handling</h3>\n",
    "<h4>\n",
    "> Exception is an unexpected condition where an error occurs during runtime, which causes the execution to stop.\n",
    "<hr/> > Every exception in Python is an object. \n",
    "<br/> > For every exception type, corresponding classes are available.\n",
    "<br/> > Whevever an exception occurs PVM will create the corresponding exception object and will check for handling code. \n",
    "<br/> > If handling code is not available then Python interpreter terminates the program abnormally and prints corresponding exception information to the console.\n",
    "<br/> > The rest of the program won't be executed.\n",
    "<hr/> > Some of the common error/exception classes are as follows:\n",
    "<br/> >>> IndexError:\tWhen the wrong index of a list is retrieved.\n",
    "<br/> >>> AttributeError:\tIt occurs when an attribute assignment is failed.\n",
    "<br/> >>> ImportError:\tIt occurs when an imported module is not found.\n",
    "<br/> >>> KeyError:\tIt occurs when the key of the dictionary is not found.\n",
    "<br/> >>> NameError:\tIt occurs when the variable is not defined.\n",
    "<br/> >>> TypeError:\tIt occurs when a function and operation are applied in an incorrect type.\n",
    "<br/> >>> There are hundreds of error/exception classes in python.\n",
    "<hr/> > Every Exception in Python is a class.\n",
    "<br/> > All exception classes are child classes of BaseException.i.e every exception class extends BaseException either directly or indirectly. \n",
    "<br/> > Hence BaseException acts as root for Python Exception Hierarchy.\n",
    "<hr/>\n",
    "<img src=\"Python Exception Hierarchy.png\" />\n",
    "<hr/>\n",
    "<br/> > In program code we can provide mechanism to handle the error conditions (exception) so that the program is not terminated abruptly.\n",
    "<br/> > Exception handling constructs in Python are as follows:\n",
    "<br/> >>> try, except, else and finally.\n",
    "<br/> >>> The 'try' block lets us test a block of code for errors.\n",
    "<br/> >>> The 'except' block lets us handle the error.\n",
    "<br/> >>> The 'else' block lets us execute code when there is no error.\n",
    "<br/> >>> The 'finally' block lets us execute code, regardless of the result of the 'try' and 'except' blocks.\n",
    "<hr/>\n",
    "Usage Syntax of exception handling blocks:\n",
    "<br/>try:\n",
    "<br/> >>> Code that might generate error in runtime\n",
    "<br/>except:\n",
    "<br/> >>> Will be executed if exception inside try\n",
    "<br/>else:\n",
    "<br/> >>> Will be executed if there is no exception inside try\n",
    "<br/>finally:\n",
    "<br/> >>> Will be executed whether exception raised or not raised and handled or not handled\n",
    "<br/> > For raising an exception: raise exception-class-object\n",
    "<hr/>\n",
    "Various possible combinations of try-except-else-finally:\n",
    "<br/>1. Without except or finally block we cannot write try block.\n",
    "<br/>2. except without try is always invalid.\n",
    "<br/>3. finally without try is always invalid.\n",
    "<br/>4. We can write multiple except blocks for the same try,but we cannot write multiple finally blocks for the same try\n",
    "<br/>5. without except we cannot write else block.\n",
    "<br/>6. In try-except-else-finally order is important.\n",
    "</h4>"
   ]
  },
  {
   "cell_type": "code",
   "execution_count": 14,
   "metadata": {},
   "outputs": [
    {
     "name": "stdout",
     "output_type": "stream",
     "text": [
      "try block\n",
      "except block\n",
      "Exception caught by our program\n",
      "Program ended\n"
     ]
    }
   ],
   "source": [
    "# Exception not handled and exception handled by our program\n",
    "try:\n",
    "    print(\"try block\")\n",
    "    print(a)\n",
    "except:\n",
    "    print(\"except block\")\n",
    "    print(\"Exception caught by our program\")\n",
    "print(\"Program ended\")"
   ]
  },
  {
   "cell_type": "code",
   "execution_count": 15,
   "metadata": {},
   "outputs": [
    {
     "name": "stdout",
     "output_type": "stream",
     "text": [
      "try block\n",
      "except block\n",
      "Exception caught by our program:  name 'a' is not defined\n",
      "Program ended\n"
     ]
    }
   ],
   "source": [
    "# Displaying the details about the exception caught by our program\n",
    "try:\n",
    "    print(\"try block\")\n",
    "    print(a)\n",
    "except Exception as e:\n",
    "    print(\"except block\")\n",
    "    print(\"Exception caught by our program: \",e)\n",
    "print(\"Program ended\")"
   ]
  },
  {
   "cell_type": "code",
   "execution_count": 16,
   "metadata": {},
   "outputs": [
    {
     "name": "stdout",
     "output_type": "stream",
     "text": [
      "try block\n",
      "except NameError block\n",
      "Variable a is not defined\n",
      "Program ended\n"
     ]
    }
   ],
   "source": [
    "# Using multiple except blocks\n",
    "try:\n",
    "    print(\"try block\")\n",
    "    print(a)\n",
    "except NameError:\n",
    "    print(\"except NameError block\")\n",
    "    print(\"Variable a is not defined\")\n",
    "except:\n",
    "    print(\"Universal except block\")\n",
    "print(\"Program ended\")"
   ]
  },
  {
   "cell_type": "code",
   "execution_count": 17,
   "metadata": {},
   "outputs": [
    {
     "name": "stdout",
     "output_type": "stream",
     "text": [
      "try block\n",
      "Welcome to Python\n",
      "else block\n",
      "No Exception Occured so else block\n",
      "Program ended\n"
     ]
    }
   ],
   "source": [
    "# Using else block\n",
    "try:\n",
    "    print(\"try block\")\n",
    "    print(\"Welcome to Python\")\n",
    "except:\n",
    "    print(\"except block\")\n",
    "    print(\"Universal except block\")\n",
    "else:\n",
    "    print(\"else block\")\n",
    "    print(\"No Exception Occured so else block\")\n",
    "print(\"Program ended\")"
   ]
  },
  {
   "cell_type": "code",
   "execution_count": 18,
   "metadata": {},
   "outputs": [
    {
     "name": "stdout",
     "output_type": "stream",
     "text": [
      "try block\n",
      "Welcome to Python\n",
      "else block\n",
      "No Exception Occured so else block\n",
      "finally block\n",
      "finally executed irrespective of any exception or not\n",
      "Program ended\n"
     ]
    }
   ],
   "source": [
    "# Using finally block\n",
    "try:\n",
    "    print(\"try block\")\n",
    "    print(\"Welcome to Python\")\n",
    "except:\n",
    "    print(\"except block\")\n",
    "    print(\"Universal except block\")\n",
    "else:\n",
    "    print(\"else block\")\n",
    "    print(\"No Exception Occured so else block\")\n",
    "finally:\n",
    "    print(\"finally block\")\n",
    "    print(\"finally executed irrespective of any exception or not\")\n",
    "print(\"Program ended\")"
   ]
  },
  {
   "cell_type": "code",
   "execution_count": 21,
   "metadata": {},
   "outputs": [
    {
     "name": "stdout",
     "output_type": "stream",
     "text": [
      "try block\n",
      "except block\n",
      "Exception caught:  Our Raised Exception\n"
     ]
    }
   ],
   "source": [
    "# raising an exception\n",
    "try:\n",
    "    print(\"try block\")\n",
    "    raise Exception(\"Our Raised Exception\")\n",
    "except Exception as e:\n",
    "    print(\"except block\")\n",
    "    print(\"Exception caught: \",e)"
   ]
  },
  {
   "cell_type": "code",
   "execution_count": 24,
   "metadata": {},
   "outputs": [
    {
     "name": "stdout",
     "output_type": "stream",
     "text": [
      "This is my customized exception\n"
     ]
    }
   ],
   "source": [
    "# Customized Exception\n",
    "class MyExcp(Exception):\n",
    "    def __str__(self):\n",
    "        return \"This is my customized exception\"\n",
    "\n",
    "try:\n",
    "    raise MyExcp\n",
    "except MyExcp as e:\n",
    "    print(e)"
   ]
  },
  {
   "cell_type": "code",
   "execution_count": 25,
   "metadata": {},
   "outputs": [
    {
     "name": "stdout",
     "output_type": "stream",
     "text": [
      "Below Age Exception\n"
     ]
    }
   ],
   "source": [
    "# Customized Exception\n",
    "# WAP to create a function that accepts age and raises a\n",
    "# customized exception when the age is less than 18.\n",
    "# The exception message should be \"Below Age Exception\"\n",
    "class MyExcp(Exception):\n",
    "    def __init__(self, msg):\n",
    "        self.msg=msg\n",
    "    def __str__(self):\n",
    "        return self.msg\n",
    "\n",
    "def f1(age):\n",
    "    if age<18:\n",
    "        e=MyExcp(\"Below Age Exception\")        \n",
    "        raise e\n",
    "\n",
    "try:\n",
    "    f1(10)\n",
    "except Exception as e1:\n",
    "    print(e1)"
   ]
  },
  {
   "cell_type": "code",
   "execution_count": null,
   "metadata": {},
   "outputs": [],
   "source": []
  }
 ],
 "metadata": {
  "kernelspec": {
   "display_name": "Python 3.10.7 64-bit",
   "language": "python",
   "name": "python3"
  },
  "language_info": {
   "codemirror_mode": {
    "name": "ipython",
    "version": 3
   },
   "file_extension": ".py",
   "mimetype": "text/x-python",
   "name": "python",
   "nbconvert_exporter": "python",
   "pygments_lexer": "ipython3",
   "version": "3.10.7"
  },
  "orig_nbformat": 4,
  "vscode": {
   "interpreter": {
    "hash": "205b98b4d1985d493ef88a03e013826e686053393df5367dcc6e26039158c4c1"
   }
  }
 },
 "nbformat": 4,
 "nbformat_minor": 2
}
