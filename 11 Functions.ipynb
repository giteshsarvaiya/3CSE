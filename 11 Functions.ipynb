{
 "cells": [
  {
   "cell_type": "markdown",
   "metadata": {},
   "source": [
    "<h4>11 Functions</h4>\n",
    "<h5> A function is a block of code which only runs when it is called.\n",
    "<br/> > We can pass data, known as parameters, into a function.\n",
    "<br/> > From a function's perspective:\n",
    "<br/> >>> A parameter is the variable listed inside the parentheses in the function definition.\n",
    "<br/> >>> An argument is the value that is sent to the function when it is called.\n",
    "<br/> > A function can return data as a result using \"return\" keyword.\n",
    "<br/> > In Python a function is defined using the \"def\" keyword\n",
    "<br/>Syntax for defining a function:\n",
    "<pre>  \n",
    "def function_name(input_parameter_list):\n",
    "    function_definition_block\n",
    "    return return_value\n",
    "</pre>\n",
    "Syntax for calling a function: \n",
    "<br/> > function_name(argument_values)\n",
    "</h5>"
   ]
  },
  {
   "cell_type": "code",
   "execution_count": 2,
   "metadata": {},
   "outputs": [
    {
     "name": "stdout",
     "output_type": "stream",
     "text": [
      "Welcome to Python\n"
     ]
    }
   ],
   "source": [
    "# Creating a function without input arguments\n",
    "def f1(): \n",
    "    print(\"Welcome to Python\") #function definition block\n",
    "# calling the function\n",
    "f1()"
   ]
  },
  {
   "cell_type": "code",
   "execution_count": 5,
   "metadata": {},
   "outputs": [
    {
     "name": "stdout",
     "output_type": "stream",
     "text": [
      "greater(10,20)= 20\n",
      "greater(20,10)= 20\n"
     ]
    }
   ],
   "source": [
    "# Creating a function with input paramters\n",
    "def greater(a,b): #(a,b) are i/p paramters\n",
    "    if a>b:\n",
    "        gt=a\n",
    "    else:\n",
    "        gt=b\n",
    "    return gt\n",
    "res=greater(10,20) #(10,20) are i/p arguments\n",
    "print(\"greater(10,20)=\",res)\n",
    "res=greater(20,10) #(20,10) are i/p arguments\n",
    "print(\"greater(20,10)=\",res)"
   ]
  },
  {
   "cell_type": "code",
   "execution_count": 6,
   "metadata": {},
   "outputs": [
    {
     "name": "stdout",
     "output_type": "stream",
     "text": [
      "greater(10,20)= 20\n",
      "greater(20,10)= 20\n"
     ]
    }
   ],
   "source": [
    "# Using argument names to send data into the function\n",
    "def greater(a,b): \n",
    "    if a>b:\n",
    "        gt=a\n",
    "    else:\n",
    "        gt=b\n",
    "    return gt\n",
    "res=greater(a=10,b=20) \n",
    "print(\"greater(10,20)=\",res)\n",
    "res=greater(b=10,a=20) \n",
    "print(\"greater(20,10)=\",res)"
   ]
  },
  {
   "cell_type": "code",
   "execution_count": 9,
   "metadata": {},
   "outputs": [
    {
     "name": "stdout",
     "output_type": "stream",
     "text": [
      "greater(a=10)= 10\n",
      "greater(b=10)= 10\n"
     ]
    }
   ],
   "source": [
    "# Default values to parameters\n",
    "def greater(a=0,b=0): \n",
    "    if a>b:\n",
    "        gt=a\n",
    "    else:\n",
    "        gt=b\n",
    "    return gt\n",
    "res=greater(a=10)  # the default value of b will be 0\n",
    "print(\"greater(a=10)=\",res)\n",
    "res=greater(b=10) # the default value of a will be 0\n",
    "print(\"greater(b=10)=\",res)"
   ]
  },
  {
   "cell_type": "markdown",
   "metadata": {},
   "source": [
    "<h4>Functions with variable parameters/arguments (*param)</h4>\n",
    "<h5> A function is a block of code which only runs when it is called.\n",
    "<br/> > If we do not know how many arguments that will be passed into our function, add a * before the parameter name in the function definition.\n",
    "<br/> > This way the function will receive a tuple of arguments, and can access the items accordingly.\n",
    "<br/>Syntax for defining a function with variable parameter:\n",
    "<pre>  \n",
    "def function_name(*input_parameter):\n",
    "    function_definition_block\n",
    "    return return_value\n",
    "</pre>\n",
    "We can call the function with zero or any number of arguments\n",
    "</h5>"
   ]
  },
  {
   "cell_type": "code",
   "execution_count": 15,
   "metadata": {},
   "outputs": [
    {
     "name": "stdout",
     "output_type": "stream",
     "text": [
      "Input parameters as tuple: ()\n",
      "Sum= 0\n",
      "Input parameters as tuple: (10, 20)\n",
      "Sum= 30\n",
      "Input parameters as tuple: (10, 20, 30)\n",
      "Sum= 60\n",
      "Input parameters as tuple: (10, 20, 30, 40)\n",
      "Sum= 100\n"
     ]
    }
   ],
   "source": [
    "# function with variable parameter (*param)\n",
    "def add(*p):\n",
    "    print(\"Input parameters as tuple:\",p)\n",
    "    sum=0\n",
    "    for n in p:\n",
    "        sum+=n\n",
    "    return sum\n",
    "# calling the function add() with variable number of arguments\n",
    "print(\"Sum=\",add()) \n",
    "print(\"Sum=\",add(10,20))\n",
    "print(\"Sum=\",add(10,20,30))\n",
    "print(\"Sum=\",add(10,20,30,40))"
   ]
  },
  {
   "cell_type": "markdown",
   "metadata": {},
   "source": [
    "<h4>Arbitrary Keyword Arguments/Paramters, (**kwargs)</h4>\n",
    "<h5> If we do not know how many keyword arguments that will be passed into our function, then we add two asterisk: ** before the parameter name in the function definition.\n",
    "<br/> > This way the function will receive a dictionary of arguments, and can access the items accordingly:\n",
    "<br/>Syntax for defining a function with arbitary keyword parameter:\n",
    "<pre>  \n",
    "def function_name(**input_parameter):\n",
    "    function_definition_block\n",
    "    return return_value\n",
    "</pre>\n",
    "We can call the function with zero or any number of arguments and specify the parameter name along with its value assigned to it\n",
    "</h5>"
   ]
  },
  {
   "cell_type": "code",
   "execution_count": 17,
   "metadata": {},
   "outputs": [
    {
     "name": "stdout",
     "output_type": "stream",
     "text": [
      "Variable Parameters with names: {}\n",
      "Variable Parameters with names: {'fname': '3rd Semester', 'lname': 'CSE'}\n",
      "Param name: fname  Param value= 3rd Semester\n",
      "Param name: lname  Param value= CSE\n",
      "Variable Parameters with names: {'a': 10, 'b': 20, 'c': 30}\n",
      "Param name: a  Param value= 10\n",
      "Param name: b  Param value= 20\n",
      "Param name: c  Param value= 30\n",
      "Variable Parameters with names: {'s1': 'Welcome', 's2': 'To', 's3': 'Python'}\n",
      "Param name: s1  Param value= Welcome\n",
      "Param name: s2  Param value= To\n",
      "Param name: s3  Param value= Python\n"
     ]
    }
   ],
   "source": [
    "# Arbitrary Keyword Arguments/Paramters, (**kwargs)\n",
    "def disp(**k):\n",
    "    print(\"Variable Parameters with names:\",k)\n",
    "    for n in k:\n",
    "        print(\"Param name:\",n,\" Param value=\",k[n])\n",
    "disp()\n",
    "disp(fname=\"3rd Semester\",lname=\"CSE\")\n",
    "disp(a=10,b=20,c=30)\n",
    "disp(s1=\"Welcome\",s2=\"To\",s3=\"Python\")"
   ]
  },
  {
   "cell_type": "markdown",
   "metadata": {},
   "source": [
    "<h4>Do Nothing Functions (pass)</h4>\n",
    "<h5> If we want a function to do nothing or it should not have any code in the definition part then we use the keyword \"pass\"\n",
    "<br> > Function definitions cannot be empty, but if we for some reason have a function definition with no content, then we put in the \"pass\" statement to avoid getting an error.\n",
    "<br/>Syntax for defining a function with no code in definition:\n",
    "<pre>  \n",
    "def function_name(input_parameter_list):\n",
    "    pass\n",
    "</pre>\n",
    "When we call this function it performs no operations but executes completely\n",
    "</h5>"
   ]
  },
  {
   "cell_type": "code",
   "execution_count": 18,
   "metadata": {},
   "outputs": [],
   "source": [
    "# Do Nothing Functions (pass)\n",
    "# def f1():\n",
    "    # this will cause error as definition body is empty\n",
    "def f2():\n",
    "    pass\n",
    "f1() # no output"
   ]
  },
  {
   "cell_type": "markdown",
   "metadata": {},
   "source": [
    "<h4>Recursion</h4>\n",
    "<h5> When a function calls itself from its own definition body then its called recursion.\n",
    "<br> > An unplanned recursion code may either not start or may run for ever as it is similar to using a loop.\n",
    "<br> > Before planning to write a recursion code we should ensure conditions that would start and stop the recursion, generally using if-else construct.\n",
    "<br/> > We normally use the \"return\" statement to stop the recursion.\n",
    "</h5>"
   ]
  },
  {
   "cell_type": "code",
   "execution_count": 29,
   "metadata": {},
   "outputs": [
    {
     "name": "stdout",
     "output_type": "stream",
     "text": [
      "1 2 3 4 5 6 7 8 9 10 \n",
      "5 6 7 8 9 10 11 12 13 14 15 "
     ]
    }
   ],
   "source": [
    "# Recursion\n",
    "# WAP to print values from any start value to end value\n",
    "# using recursion\n",
    "def f1(start=1,end=10):\n",
    "    if start<=end: \n",
    "        print(start,end=\" \")\n",
    "        f1(start+1,end) # recursive call\n",
    "    else:\n",
    "        return # ending the recursion\n",
    "f1() # from 1 to 10\n",
    "print()\n",
    "f1(5,15) # from 5 to 15"
   ]
  },
  {
   "cell_type": "code",
   "execution_count": 42,
   "metadata": {},
   "outputs": [
    {
     "name": "stdout",
     "output_type": "stream",
     "text": [
      "2 4 6 8 10 \n",
      "6 8 10 12 14 "
     ]
    }
   ],
   "source": [
    "# WAP to print only even numbers from \n",
    "# start value to end value using recursion\n",
    "def f1(start=1,end=10):\n",
    "    if start<=end: \n",
    "        if start%2==0: print(start,end=\" \")\n",
    "        f1(start+1,end) # recursive call\n",
    "    else:\n",
    "        return # ending the recursion\n",
    "f1() # from 1 to 10\n",
    "print()\n",
    "f1(5,15) # from 5 to 15"
   ]
  },
  {
   "cell_type": "code",
   "execution_count": 43,
   "metadata": {},
   "outputs": [
    {
     "name": "stdout",
     "output_type": "stream",
     "text": [
      "1 4 9 16 25 36 49 64 81 100 \n",
      "25 36 49 64 81 100 121 144 169 196 225 "
     ]
    }
   ],
   "source": [
    "# WAP to print squares of numbers from \n",
    "# start value to end value using recursion\n",
    "def f1(start=1,end=10):\n",
    "    if start<=end: \n",
    "        print(start**2,end=\" \")\n",
    "        f1(start+1,end) # recursive call\n",
    "    else:\n",
    "        return # ending the recursion\n",
    "f1() # from 1 to 10\n",
    "print()\n",
    "f1(5,15) # from 5 to 15"
   ]
  },
  {
   "cell_type": "code",
   "execution_count": 41,
   "metadata": {},
   "outputs": [
    {
     "name": "stdout",
     "output_type": "stream",
     "text": [
      "0 1 1 2 3 5 8 13 21 34 "
     ]
    }
   ],
   "source": [
    "# WAP to print fibonacci sequence using resursion\n",
    "# 0 1 1 2 3 5 8 13 ....\n",
    "def fib(n,ctr=1,a=0,b=1,c=0):\n",
    "    if ctr<=n-2:\n",
    "       c=a+b\n",
    "       print(c,end=\" \")\n",
    "       a,b=b,c\n",
    "       fib(n,ctr+1,a,b,c)\n",
    "    else:\n",
    "        return\n",
    "print(0,1,end=\" \")\n",
    "fib(10)"
   ]
  },
  {
   "cell_type": "markdown",
   "metadata": {},
   "source": [
    "<h4>Lambda functions</h4>\n",
    "<h5> They are single line anonymous (without any name) functions\n",
    "<br/> > They are used when we require\n",
    "<br/> > A lambda function can take any number of arguments, but can only have one expression\n",
    "<br/> > \"lambda\" keyword is used\n",
    "<br/> Syntax:   lambda input_parameters : result_expression\n",
    "<br/> >>> here, the \"result_expression\" is returned back when the function finishes\n",
    "<br/> >>> generally, we should make sure that in the \"result_expression\" the \"input_parameters\" are used\n",
    "</h5>"
   ]
  },
  {
   "cell_type": "code",
   "execution_count": 46,
   "metadata": {},
   "outputs": [
    {
     "name": "stdout",
     "output_type": "stream",
     "text": [
      "4 9 16 25\n"
     ]
    }
   ],
   "source": [
    "# WAP to implement a lambda function that returns \n",
    "# the square of any number given\n",
    "f1=lambda n:n**2\n",
    "print(f1(2),f1(3),f1(4),f1(5))"
   ]
  },
  {
   "cell_type": "code",
   "execution_count": 48,
   "metadata": {},
   "outputs": [
    {
     "name": "stdout",
     "output_type": "stream",
     "text": [
      "60 6\n"
     ]
    }
   ],
   "source": [
    "# WAP to implement a lambda function to add three numbers\n",
    "f1=lambda a,b,c:a+b+c\n",
    "print(f1(10,20,30),f1(1,2,3))"
   ]
  },
  {
   "cell_type": "code",
   "execution_count": 50,
   "metadata": {},
   "outputs": [
    {
     "name": "stdout",
     "output_type": "stream",
     "text": [
      "4\n",
      "8\n",
      "16\n"
     ]
    }
   ],
   "source": [
    "# Lambda functions inside other functions\n",
    "# WAP to return any number to the power of any number \n",
    "# using lambda function inside another function\n",
    "def f1(n):\n",
    "    return lambda a:n**a\n",
    "f2=f1(2)\n",
    "print(f2(2)) #2 to the power of 2\n",
    "print(f2(3)) #2 to the power of 3\n",
    "print(f2(4)) #2 to the power of 4"
   ]
  },
  {
   "cell_type": "code",
   "execution_count": 4,
   "metadata": {},
   "outputs": [
    {
     "name": "stdout",
     "output_type": "stream",
     "text": [
      "30\n",
      "120\n",
      "300\n"
     ]
    }
   ],
   "source": [
    "f1=lambda a=10,b=20:a+b\n",
    "n=f1()\n",
    "print(n)\n",
    "n=f1(100)\n",
    "print(n)\n",
    "n=f1(100,200)\n",
    "print(n)"
   ]
  }
 ],
 "metadata": {
  "kernelspec": {
   "display_name": "Python 3.10.7 64-bit",
   "language": "python",
   "name": "python3"
  },
  "language_info": {
   "codemirror_mode": {
    "name": "ipython",
    "version": 3
   },
   "file_extension": ".py",
   "mimetype": "text/x-python",
   "name": "python",
   "nbconvert_exporter": "python",
   "pygments_lexer": "ipython3",
   "version": "3.10.7"
  },
  "orig_nbformat": 4,
  "vscode": {
   "interpreter": {
    "hash": "205b98b4d1985d493ef88a03e013826e686053393df5367dcc6e26039158c4c1"
   }
  }
 },
 "nbformat": 4,
 "nbformat_minor": 2
}
