{
 "cells": [
  {
   "cell_type": "markdown",
   "metadata": {},
   "source": [
    "<h2>03 Modules and Libraries</h2> "
   ]
  },
  {
   "cell_type": "markdown",
   "metadata": {},
   "source": [
    "<h3> > Module: it is a collection of methods & classes:  we need to 'import' module\n",
    "<br/>> Library: it is a collection of modules\n",
    "</h3>"
   ]
  },
  {
   "cell_type": "markdown",
   "metadata": {},
   "source": [
    "<h3>Using import to include the module members in our program\n",
    "</h3>"
   ]
  },
  {
   "cell_type": "code",
   "execution_count": 5,
   "metadata": {},
   "outputs": [
    {
     "name": "stdout",
     "output_type": "stream",
     "text": [
      "7.0\n",
      "3.141592653589793\n"
     ]
    }
   ],
   "source": [
    "import math\n",
    "print(math.sqrt(49)) # method\n",
    "print(math.pi) # constant"
   ]
  },
  {
   "cell_type": "markdown",
   "metadata": {},
   "source": [
    "<h3> Giving a name to the imported module (aliasing)\n",
    "</h3>"
   ]
  },
  {
   "cell_type": "code",
   "execution_count": 7,
   "metadata": {},
   "outputs": [
    {
     "name": "stdout",
     "output_type": "stream",
     "text": [
      "7.0\n",
      "3.141592653589793\n"
     ]
    }
   ],
   "source": [
    "# We can give a name to the imported module (aliasing)\n",
    "import math as m  # here m becomes an alias for math module\n",
    "print(m.sqrt(49))\n",
    "print(m.pi)"
   ]
  },
  {
   "cell_type": "markdown",
   "metadata": {},
   "source": [
    "<h3> Importing the exact method or constant from a module\n",
    "</h3>"
   ]
  },
  {
   "cell_type": "code",
   "execution_count": 8,
   "metadata": {
    "scrolled": true
   },
   "outputs": [
    {
     "name": "stdout",
     "output_type": "stream",
     "text": [
      "7.0\n",
      "3.141592653589793\n"
     ]
    }
   ],
   "source": [
    "# We can directly import the exact method or constant\n",
    "from math import sqrt  #sqrt is now imported\n",
    "from math import pi  #pi is now imported\n",
    "print(sqrt(49))\n",
    "print(pi)"
   ]
  },
  {
   "cell_type": "markdown",
   "metadata": {},
   "source": [
    "<h3> Importing all the members from a module\n",
    "</h3>"
   ]
  },
  {
   "cell_type": "code",
   "execution_count": 10,
   "metadata": {},
   "outputs": [
    {
     "name": "stdout",
     "output_type": "stream",
     "text": [
      "7.0\n",
      "3.141592653589793\n"
     ]
    }
   ],
   "source": [
    "# We can import all the methods and classes from a module (not recommended)\n",
    "from math import *  # all the members of the module will be imported\n",
    "print(sqrt(49))\n",
    "print(pi)"
   ]
  },
  {
   "cell_type": "markdown",
   "metadata": {},
   "source": [
    "<h3> Creating our own module\n",
    "<pre>\n",
    "def f1():\n",
    "    print(\"function f1() in module 'MyModule1.py\")\n",
    "def f1():\n",
    "    print(\"function f1() in module 'MyModule1.py\")\n",
    "</pre>\n",
    "Now we need to save this code inside a file named \"MyModule1.py\" in the same directory (current working directory)\n",
    "<br/> Then we can use the \"import\" statement to import MyModule1 and use the member functions\n",
    "</h3>"
   ]
  },
  {
   "cell_type": "code",
   "execution_count": 1,
   "metadata": {},
   "outputs": [
    {
     "name": "stdout",
     "output_type": "stream",
     "text": [
      "function f1() in module 'MyModule1.py\n",
      "function f2() in module 'MyModule1.py\n"
     ]
    }
   ],
   "source": [
    "import MyModule1\n",
    "MyModule1.f1()\n",
    "MyModule1.f2()"
   ]
  },
  {
   "cell_type": "code",
   "execution_count": 3,
   "metadata": {},
   "outputs": [
    {
     "name": "stdout",
     "output_type": "stream",
     "text": [
      "function f1() in module 'MyModule1.py\n",
      "function f2() in module 'MyModule1.py\n"
     ]
    }
   ],
   "source": [
    "# Aliasing the module name\n",
    "import MyModule1 as m1\n",
    "m1.f1()\n",
    "m1.f2()"
   ]
  },
  {
   "cell_type": "code",
   "execution_count": 6,
   "metadata": {},
   "outputs": [
    {
     "name": "stdout",
     "output_type": "stream",
     "text": [
      "function f1() in module 'MyModule1.py\n"
     ]
    }
   ],
   "source": [
    "# Importing only the specific member from the module\n",
    "from MyModule1 import f1\n",
    "f1()\n",
    "# f2() #error as f2() is not imported from MyModule1"
   ]
  }
 ],
 "metadata": {
  "kernelspec": {
   "display_name": "Python 3.10.7 64-bit",
   "language": "python",
   "name": "python3"
  },
  "language_info": {
   "codemirror_mode": {
    "name": "ipython",
    "version": 3
   },
   "file_extension": ".py",
   "mimetype": "text/x-python",
   "name": "python",
   "nbconvert_exporter": "python",
   "pygments_lexer": "ipython3",
   "version": "3.10.7"
  },
  "vscode": {
   "interpreter": {
    "hash": "205b98b4d1985d493ef88a03e013826e686053393df5367dcc6e26039158c4c1"
   }
  }
 },
 "nbformat": 4,
 "nbformat_minor": 4
}
