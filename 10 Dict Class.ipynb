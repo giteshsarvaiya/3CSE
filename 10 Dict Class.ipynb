{
 "cells": [
  {
   "cell_type": "markdown",
   "metadata": {},
   "source": [
    "# 10 Dict class (Dictionary)\n",
    "### > They are used to store data values in key:value pairs.\n",
    "### > A dictionary is a collection which is <br/> >>> ordered (Python 3.7 onwards), <br/> >>> changeable, <br/> >>> extensible and <br/> >>> do not allow duplicate keys.\n",
    "### > Hetrogeneous objects are allowed for both key and values.\n",
    "### > Indexing and Slicing concepts are not applicable\n",
    "### > Symbol used: { }"
   ]
  },
  {
   "cell_type": "markdown",
   "metadata": {},
   "source": [
    "# Creating Dictionary (dict object)"
   ]
  },
  {
   "cell_type": "code",
   "execution_count": 13,
   "metadata": {},
   "outputs": [
    {
     "name": "stdout",
     "output_type": "stream",
     "text": [
      "{} <class 'dict'>\n",
      "{} <class 'dict'>\n",
      "{111: 'Suman', 222: 'Suresh', 333: 'Ramesh'} <class 'dict'>\n",
      "{'Name': 'Amit', 'RollNo': 123, 'Dept': 'CSE'} <class 'dict'>\n"
     ]
    }
   ],
   "source": [
    "#### Method-1\n",
    "d1={} #empty dictionary\n",
    "print(d1,type(d1))\n",
    "#### Method-2\n",
    "d2=dict() #empty dictionary\n",
    "print(d2,type(d2))\n",
    "#### Method-3\n",
    "# Inserting key:value pairs in the dictionary\n",
    "# syntax: dict[key] = value\n",
    "d1[111]=\"Aman\"\n",
    "d1[111]=\"Suman\" # in case of duplicate key the last entry would be preserved\n",
    "d1[222]=\"Suresh\"\n",
    "d1[333]=\"Ramesh\"\n",
    "d2[444]=\"Laxman\"\n",
    "print(d1, type(d1))\n",
    "#### Method-4\n",
    "# Also we can expicitly mention the key:value pairs in the {}\n",
    "d3={\n",
    "    \"Name\":\"Amit\",\n",
    "    \"RollNo\":123,\n",
    "    \"Dept\":\"CSE\"\n",
    "}\n",
    "print(d3,type(d3))"
   ]
  },
  {
   "cell_type": "markdown",
   "metadata": {},
   "source": [
    "# Accessing elements from a Dictionary"
   ]
  },
  {
   "cell_type": "code",
   "execution_count": 5,
   "metadata": {
    "scrolled": true
   },
   "outputs": [
    {
     "name": "stdout",
     "output_type": "stream",
     "text": [
      "123\n",
      "123\n",
      "{'Name': 'Amit', 'RollNo': 123, 'Dept': 'CSE'}\n",
      "Key: Name  Value: Amit\n",
      "Key: RollNo  Value: 123\n",
      "Key: Dept  Value: CSE\n",
      "dict_keys(['Name', 'RollNo', 'Dept'])\n",
      "dict_values(['Amit', 123, 'CSE'])\n",
      "dict_items([('Name', 'Amit'), ('RollNo', 123), ('Dept', 'CSE')])\n"
     ]
    }
   ],
   "source": [
    "d3={\n",
    "    \"Name\":\"Amit\",\n",
    "    \"RollNo\":123,\n",
    "    \"Dept\":\"CSE\"\n",
    "}\n",
    "#### Method-1\n",
    "print(d3[\"RollNo\"]) # accessing individual value using key\n",
    "#### Method-2\n",
    "print(d3.get(\"RollNo\")) # accessing individual value using key\n",
    "#### Method-3\n",
    "print(d3) # accessing all the elements\n",
    "#### Method-4\n",
    "for x in d3: #gets the keys into x\n",
    "    print(\"Key:\",x,\" Value:\",d3[x]) #accessing key and value separately\n",
    "#### Method-5\n",
    "print(d3.keys()) # get all the keys\n",
    "#### Method-6\n",
    "print(d3.values()) # get all the values\n",
    "#### Method-7\n",
    "print(d3.items()) # get all key value pairs as tuples in a list"
   ]
  },
  {
   "cell_type": "markdown",
   "metadata": {},
   "source": [
    "# Changing items in the Dictionary"
   ]
  },
  {
   "cell_type": "code",
   "execution_count": 10,
   "metadata": {},
   "outputs": [
    {
     "name": "stdout",
     "output_type": "stream",
     "text": [
      "{111: 'Ramesh', 222: 'Suresh', 333: 'Amit', 444: 'Sumit'}\n",
      "{111: 'Ramesh', 222: 'Suresh', 333: 'ZZZ', 444: 'Sumit'}\n",
      "{111: 'Ramesh', 222: 'Suresh', 333: 'ZZZ', 444: 'XYZ'}\n",
      "{111: 'Ramesh', 222: 'Suresh', 333: 'ZZZ'}\n"
     ]
    },
    {
     "ename": "NameError",
     "evalue": "name 'd1' is not defined",
     "output_type": "error",
     "traceback": [
      "\u001b[1;31m---------------------------------------------------------------------------\u001b[0m",
      "\u001b[1;31mNameError\u001b[0m                                 Traceback (most recent call last)",
      "\u001b[1;32m<ipython-input-10-bf362b87dbc4>\u001b[0m in \u001b[0;36m<module>\u001b[1;34m\u001b[0m\n\u001b[0;32m     17\u001b[0m \u001b[1;31m#### Method-4\u001b[0m\u001b[1;33m\u001b[0m\u001b[1;33m\u001b[0m\u001b[1;33m\u001b[0m\u001b[0m\n\u001b[0;32m     18\u001b[0m \u001b[1;32mdel\u001b[0m \u001b[0md1\u001b[0m\u001b[1;33m\u001b[0m\u001b[1;33m\u001b[0m\u001b[0m\n\u001b[1;32m---> 19\u001b[1;33m \u001b[0mprint\u001b[0m\u001b[1;33m(\u001b[0m\u001b[0md1\u001b[0m\u001b[1;33m)\u001b[0m\u001b[1;33m\u001b[0m\u001b[1;33m\u001b[0m\u001b[0m\n\u001b[0m",
      "\u001b[1;31mNameError\u001b[0m: name 'd1' is not defined"
     ]
    }
   ],
   "source": [
    "d1={\n",
    "    111:\"Ramesh\",\n",
    "    222:\"Suresh\",\n",
    "    333:\"Amit\",\n",
    "    444:\"Sumit\"\n",
    "}\n",
    "print(d1)\n",
    "#### Method-1\n",
    "d1[333]=\"ZZZ\" #value at key 333 is changed\n",
    "print(d1)\n",
    "#### Method-2\n",
    "d1.update({444:\"XYZ\"}) #value at key 444 is changed\n",
    "print(d1)\n"
   ]
  },
  {
   "cell_type": "markdown",
   "metadata": {},
   "source": [
    "# Removing elements from the Dictionary"
   ]
  },
  {
   "cell_type": "code",
   "execution_count": 16,
   "metadata": {
    "scrolled": true
   },
   "outputs": [
    {
     "name": "stdout",
     "output_type": "stream",
     "text": [
      "Ramesh\n",
      "{222: 'Suresh', 333: 'Amit', 444: 'Sumit'}\n",
      "(444, 'Sumit')\n",
      "{222: 'Suresh', 333: 'Amit'}\n",
      "{222: 'Suresh'}\n",
      "{}\n"
     ]
    }
   ],
   "source": [
    "d1={\n",
    "    111:\"Ramesh\",\n",
    "    222:\"Suresh\",\n",
    "    333:\"Amit\",\n",
    "    444:\"Sumit\"\n",
    "}\n",
    "#### Method-1\n",
    "print(d1.pop(111)) # removes the item with the specified key name, it returns the value part of popped item\n",
    "print(d1)\n",
    "#### Method-2\n",
    "print(d1.popitem()) # removes the last inserted item (in versions before 3.7, a random item is removed instead)\n",
    "# it returns the popped item as a tuple\n",
    "print(d1)\n",
    "#### Method-3\n",
    "del d1[333] # deleting the element whose key is 444\n",
    "print(d1)\n",
    "#### Method-4\n",
    "d1.clear() # removes all the elements from the dictionary\n",
    "print(d1) # empty dictionary\n",
    "#### Method-2\n",
    "del d1 # deleting the entire dictionary\n",
    "#print(d1) # error as d1 does not exist due to previous stmt"
   ]
  },
  {
   "cell_type": "markdown",
   "metadata": {},
   "source": [
    "# Traversing though the Dictionary"
   ]
  },
  {
   "cell_type": "code",
   "execution_count": 28,
   "metadata": {},
   "outputs": [
    {
     "name": "stdout",
     "output_type": "stream",
     "text": [
      "Keys (Method-1):\n",
      "111\n",
      "222\n",
      "333\n",
      "444\n",
      "Keys (Method-2):\n",
      "111\n",
      "222\n",
      "333\n",
      "444\n",
      "Values (Method-1):\n",
      "Ramesh\n",
      "Suresh\n",
      "Amit\n",
      "Sumit\n",
      "Values (Method-2):\n",
      "Ramesh\n",
      "Suresh\n",
      "Amit\n",
      "Sumit\n",
      "Printing Key-Value pairs:\n",
      "(111, 'Ramesh')\n",
      "(222, 'Suresh')\n",
      "(333, 'Amit')\n",
      "(444, 'Sumit')\n"
     ]
    }
   ],
   "source": [
    "d1={\n",
    "    111:\"Ramesh\",\n",
    "    222:\"Suresh\",\n",
    "    333:\"Amit\",\n",
    "    444:\"Sumit\"\n",
    "}\n",
    "print(\"Keys (Method-1):\")\n",
    "for k in d1: # print the keys\n",
    "    print(k)\n",
    "print(\"Keys (Method-2):\")\n",
    "for k in d1.keys(): # print the keys\n",
    "    print(k)\n",
    "print(\"Values (Method-1):\")\n",
    "for k in d1:\n",
    "    print(d1[k]) # using key to print the value\n",
    "print(\"Values (Method-2):\")\n",
    "for v in d1.values():\n",
    "    print(v) # print values\n",
    "print(\"Printing Key-Value pairs:\")\n",
    "for n in d1.items():\n",
    "    print(n)"
   ]
  },
  {
   "cell_type": "markdown",
   "metadata": {},
   "source": [
    "# Making Copy of the Dictionary"
   ]
  },
  {
   "cell_type": "code",
   "execution_count": 39,
   "metadata": {
    "scrolled": true
   },
   "outputs": [
    {
     "name": "stdout",
     "output_type": "stream",
     "text": [
      "Method-1: Shallow Copy\n",
      "{111: 'Ramesh', 222: 'Suresh', 333: 'Amit', 444: 'Sumit'} \n",
      " {111: 'Ramesh', 222: 'Suresh', 333: 'Amit', 444: 'Sumit'}\n",
      "{111: 'ZZZ', 222: 'Suresh', 333: 'Amit', 444: 'Sumit'} \n",
      " {111: 'ZZZ', 222: 'Suresh', 333: 'Amit', 444: 'Sumit'}\n",
      "2054049197696 2054049197696\n",
      "Method-2: Deep Copy\n",
      "{111: 'ZZZ', 222: 'Suresh', 333: 'Amit', 444: 'Sumit'} \n",
      " {111: 'ZZZ', 222: 'Suresh', 333: 'Amit', 444: 'Sumit'}\n",
      "2054049197696 2054051737728\n",
      "{111: 'Ramesh', 222: 'Suresh', 333: 'Amit', 444: 'Sumit'} \n",
      " {111: 'ZZZ', 222: 'Suresh', 333: 'Amit', 444: 'Sumit'}\n",
      "Method-3: Deep Copy\n",
      "{111: 'Ramesh', 222: 'Suresh', 333: 'Amit', 444: 'Sumit'} \n",
      " {111: 'Ramesh', 222: 'Suresh', 333: 'Amit', 444: 'Sumit'}\n",
      "2054049197696 2054054393664\n",
      "{111: 'Maruti', 222: 'Suresh', 333: 'Amit', 444: 'Sumit'} \n",
      " {111: 'Ramesh', 222: 'Suresh', 333: 'Amit', 444: 'Sumit'}\n"
     ]
    }
   ],
   "source": [
    "d1={\n",
    "    111:\"Ramesh\",\n",
    "    222:\"Suresh\",\n",
    "    333:\"Amit\",\n",
    "    444:\"Sumit\"\n",
    "}\n",
    "#### Method-1: Shallow Copy\n",
    "print(\"Method-1: Shallow Copy\")\n",
    "d2=d1 # Both point to same memory location\n",
    "        # This results in Shallow copy: changes in d1 will be reflected in d2 and vice-versa\n",
    "print(d1,\"\\n\",d2)\n",
    "d1[111]=\"ZZZ\" # this change will be reflected in d2 as they are reference to same memory location\n",
    "print(d1,\"\\n\",d2)\n",
    "print(id(d1),id(d2)) # both the memory addresses are same\n",
    "#### Method-2: Deep Copy\n",
    "print(\"Method-2: Deep Copy\")\n",
    "d2=dict(d1) # Deep Copy: both point to different memory locations\n",
    "            # Changes in d1 will not be relfected in d2\n",
    "print(d1,\"\\n\",d2)\n",
    "print(id(d1),id(d2))\n",
    "d1[111]=\"Ramesh\" # only d1 changes d2 remains unchaged\n",
    "print(d1,\"\\n\",d2)\n",
    "#### Method-3: Deep Copy\n",
    "print(\"Method-3: Deep Copy\")\n",
    "d2=d1.copy() # Deep Copy: both point to different memory locations\n",
    "            # Changes in d1 will not be relfected in d2\n",
    "print(d1,\"\\n\",d2)\n",
    "print(id(d1),id(d2))\n",
    "d1[111]=\"Maruti\" # only d1 changes d2 remains unchaged\n",
    "print(d1,\"\\n\",d2)"
   ]
  },
  {
   "cell_type": "markdown",
   "metadata": {},
   "source": [
    "<h3>Dictionary Comprehension</h3>"
   ]
  },
  {
   "cell_type": "code",
   "execution_count": 7,
   "metadata": {},
   "outputs": [
    {
     "name": "stdout",
     "output_type": "stream",
     "text": [
      "{'Welcome': 7, 'to': 2, 'Python': 6, 'Programming': 11}\n"
     ]
    }
   ],
   "source": [
    "# WAP to create a dictionary extracted from a list of strings,\n",
    "# where the key is the string and value is the string length.\n",
    "# Use Dictionary comprehension\n",
    "s1=\"Welcome to Python Programming\"\n",
    "l1=s1.split()\n",
    "d1={n:len(n) for n in l1}\n",
    "print(d1)"
   ]
  },
  {
   "cell_type": "code",
   "execution_count": 10,
   "metadata": {},
   "outputs": [
    {
     "name": "stdout",
     "output_type": "stream",
     "text": [
      "{'User1': 111, 'User2': 222, 'User3': 333, 'User4': 444, 'User5': 555}\n"
     ]
    }
   ],
   "source": [
    "# WAP to build a dictionary from two lists, one containing\n",
    "# names of 5 usernames and another list containing their passwords.\n",
    "# Use dictionary comprehension. (Hint: use zip())\n",
    "unames=[\"User1\",\"User2\", \"User3\", \"User4\",\"User5\"]\n",
    "pswds=[111,222,333,444,555]\n",
    "d1={un:ps for un,ps in zip(unames,pswds)}\n",
    "print(d1)"
   ]
  },
  {
   "cell_type": "code",
   "execution_count": 15,
   "metadata": {},
   "outputs": [
    {
     "name": "stdout",
     "output_type": "stream",
     "text": [
      "[1, 2, 3, 4, 5, 6, 7, 8, 9] ['One', 'Two', 'Three', 'Four', 'Five', 'Six', 'Seven', 'Eight', 'Nine']\n",
      "{2: 'Two', 4: 'Four', 6: 'Six', 8: 'Eight'}\n",
      "{1: 'One', 3: 'Three', 5: 'Five', 7: 'Seven', 9: 'Nine'}\n"
     ]
    }
   ],
   "source": [
    "# WAP to create two dictionaries, one should contain \n",
    "# keys as even numbers and their respective values and \n",
    "# another dictionary should contain as odd numbers and \n",
    "# their respective values.\n",
    "# List 1 contents are [1,2,3,4,5,6,7,8,9]\n",
    "# List 2 contents are extracted from the string\n",
    "# \"One Two Three Four Five Six Seven Eight Nine\"\n",
    "# Use Dictionary comprehension (Hint: use zip())\n",
    "l1=[1,2,3,4,5,6,7,8,9]\n",
    "s1=\"One Two Three Four Five Six Seven Eight Nine\"\n",
    "l2=s1.split()\n",
    "print(l1,l2)\n",
    "d1={m:n for m,n in zip(l1,l2) if m%2==0}\n",
    "print(d1)\n",
    "d2={m:n for m,n in zip(l1,l2) if m%2!=0}\n",
    "print(d2)"
   ]
  },
  {
   "cell_type": "code",
   "execution_count": 14,
   "metadata": {},
   "outputs": [
    {
     "name": "stdout",
     "output_type": "stream",
     "text": [
      "[1, 2, 3, 4, 5, 6, 7, 8, 9] ['Even', 'Even', 'Even', 'Even', 'Even', 'Even', 'Even', 'Even', 'Even']\n",
      "{1: 'ODD', 2: 'Even', 3: 'ODD', 4: 'Even', 5: 'ODD', 6: 'Even', 7: 'ODD', 8: 'Even', 9: 'ODD'}\n"
     ]
    }
   ],
   "source": [
    "l1=[1,2,3,4,5,6,7,8,9]\n",
    "s1=\"Even Even Even Even Even Even Even Even Even\"\n",
    "l2=s1.split()\n",
    "print(l1,l2)\n",
    "d1={k:v if k%2==0 else \"ODD\" for k,v in zip(l1,l2)}\n",
    "print(d1)"
   ]
  }
 ],
 "metadata": {
  "kernelspec": {
   "display_name": "Python 3.10.7 64-bit",
   "language": "python",
   "name": "python3"
  },
  "language_info": {
   "codemirror_mode": {
    "name": "ipython",
    "version": 3
   },
   "file_extension": ".py",
   "mimetype": "text/x-python",
   "name": "python",
   "nbconvert_exporter": "python",
   "pygments_lexer": "ipython3",
   "version": "3.10.7"
  },
  "vscode": {
   "interpreter": {
    "hash": "205b98b4d1985d493ef88a03e013826e686053393df5367dcc6e26039158c4c1"
   }
  }
 },
 "nbformat": 4,
 "nbformat_minor": 4
}
