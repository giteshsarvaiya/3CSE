{
 "cells": [
  {
   "cell_type": "markdown",
   "metadata": {},
   "source": [
    "# 05 Flow Control\n",
    "### Satements that control the flow of execution order \n",
    "### Two Types:<br/> 1) Conditional Statements: <br/> > if <br/> > if-else <br/> > if-elif <br/> > if-elif-else <br/> 2) Iterative Statements (looping): <br/> > for-in <br/> > while <br/> > break or continue or pass (transfer statements)"
   ]
  },
  {
   "cell_type": "markdown",
   "metadata": {},
   "source": [
    "### >>> if, if-else, if-elif and if-elif-else statements "
   ]
  },
  {
   "cell_type": "code",
   "execution_count": 1,
   "metadata": {},
   "outputs": [
    {
     "name": "stdout",
     "output_type": "stream",
     "text": [
      "value of a is 10\n",
      "Out of if\n",
      "20 > 10\n",
      "Out of if\n",
      "Greatest=  20\n",
      "Out of if\n"
     ]
    }
   ],
   "source": [
    "# if statement\n",
    "a=10\n",
    "b=20\n",
    "c=30\n",
    "#form-1\n",
    "if a==10:  \n",
    "    print(\"value of a is 10\")\n",
    "print(\"Out of if\")\n",
    "\n",
    "#form-2\n",
    "if a>b:\n",
    "    print(\"%d > %d\"%(a,b))\n",
    "else:\n",
    "    print(\"%d > %d\"%(b,a))\n",
    "print(\"Out of if\")\n",
    "\n",
    "#form-3\n",
    "a=20\n",
    "b=30\n",
    "c=10\n",
    "if a>b or a>c:\n",
    "    print(\"Greatest= \",a)\n",
    "elif b>c:\n",
    "    print(\"Greatest= \",b)\n",
    "else:\n",
    "    print(\"Greatest= \",c)\n",
    "print(\"Out of if\")"
   ]
  },
  {
   "cell_type": "code",
   "execution_count": 2,
   "metadata": {},
   "outputs": [
    {
     "name": "stdout",
     "output_type": "stream",
     "text": [
      "Enter first value: \"AAA\"\n",
      "Enter second value: \"BBB\"\n",
      "Greater=  BBB\n"
     ]
    }
   ],
   "source": [
    "a=eval(input(\"Enter first value: \"))\n",
    "b=eval(input(\"Enter second value: \"))\n",
    "if a>b:\n",
    "    print(\"Greater= \",a)\n",
    "else:\n",
    "    print(\"Greater= \",b)"
   ]
  },
  {
   "cell_type": "markdown",
   "metadata": {},
   "source": [
    "### >>> for-in loop"
   ]
  },
  {
   "cell_type": "code",
   "execution_count": 5,
   "metadata": {},
   "outputs": [
    {
     "name": "stdout",
     "output_type": "stream",
     "text": [
      "W\n",
      "e\n",
      "l\n",
      "c\n",
      "o\n",
      "m\n",
      "e\n",
      " \n",
      "t\n",
      "o\n",
      " \n",
      "P\n",
      "y\n",
      "t\n",
      "h\n",
      "o\n",
      "n\n"
     ]
    }
   ],
   "source": [
    "# syntax: for each-element in sequence\n",
    "# sample program for printing each character from a string\n",
    "s1=\"Welcome to Python\"\n",
    "for x in s1:\n",
    "    print(x)"
   ]
  },
  {
   "cell_type": "code",
   "execution_count": 7,
   "metadata": {},
   "outputs": [
    {
     "name": "stdout",
     "output_type": "stream",
     "text": [
      "10\n",
      "20\n",
      "30\n",
      "40\n"
     ]
    }
   ],
   "source": [
    "# sample program to read each element from a list\n",
    "l1=[10,20,30,40]\n",
    "for x in l1:\n",
    "    print(x)"
   ]
  },
  {
   "cell_type": "code",
   "execution_count": 38,
   "metadata": {},
   "outputs": [
    {
     "name": "stdout",
     "output_type": "stream",
     "text": [
      "0\n"
     ]
    }
   ],
   "source": [
    "for x in range(1):\n",
    "    print(x)"
   ]
  },
  {
   "cell_type": "markdown",
   "metadata": {},
   "source": [
    "### >>>while loop"
   ]
  },
  {
   "cell_type": "code",
   "execution_count": 11,
   "metadata": {},
   "outputs": [
    {
     "name": "stdout",
     "output_type": "stream",
     "text": [
      "1\n",
      "2\n",
      "3\n",
      "4\n",
      "5\n"
     ]
    }
   ],
   "source": [
    "# syntax: while condition: loop-body\n",
    "a=1\n",
    "while a<=5:\n",
    "    print(a)\n",
    "    a+=1"
   ]
  },
  {
   "cell_type": "code",
   "execution_count": 32,
   "metadata": {},
   "outputs": [
    {
     "name": "stdout",
     "output_type": "stream",
     "text": [
      "* * * * * * * * * \n",
      "* * * * * * * * \n",
      "* * * * * * * \n",
      "* * * * * * \n",
      "* * * * * \n",
      "* * * * \n",
      "* * * \n",
      "* * \n",
      "* \n",
      "\n"
     ]
    }
   ],
   "source": [
    "# Nested loop : loop inside loop\n",
    "i=1\n",
    "j=1\n",
    "N=10\n",
    "while i<=N:\n",
    "    j=1\n",
    "    while j<=N-i:\n",
    "        print(\"*\",end=' ')\n",
    "        j+=1\n",
    "    i+=1\n",
    "    print()"
   ]
  },
  {
   "cell_type": "code",
   "execution_count": 33,
   "metadata": {
    "scrolled": true
   },
   "outputs": [
    {
     "name": "stdout",
     "output_type": "stream",
     "text": [
      "\n",
      "* \n",
      "* * \n",
      "* * * \n",
      "* * * * \n",
      "* * * * * \n",
      "* * * * * * \n",
      "* * * * * * * \n",
      "* * * * * * * * \n",
      "* * * * * * * * * \n",
      "* * * * * * * * * * \n"
     ]
    }
   ],
   "source": [
    "N=10\n",
    "for i in range(N+1):\n",
    "    j=1;\n",
    "    while j<=i:\n",
    "        print(\"*\",end=\" \")\n",
    "        j+=1\n",
    "    print()"
   ]
  },
  {
   "cell_type": "code",
   "execution_count": 34,
   "metadata": {},
   "outputs": [
    {
     "name": "stdout",
     "output_type": "stream",
     "text": [
      "\n",
      "* \n",
      "* * \n",
      "* * * \n",
      "* * * * \n",
      "* * * * * \n",
      "* * * * * * \n",
      "* * * * * * * \n",
      "* * * * * * * * \n",
      "* * * * * * * * * \n",
      "* * * * * * * * * * \n"
     ]
    }
   ],
   "source": [
    "N=10\n",
    "for i in range(N+1):\n",
    "    for j in range(i):\n",
    "        print(\"*\",end=\" \")\n",
    "    print()"
   ]
  },
  {
   "cell_type": "code",
   "execution_count": 35,
   "metadata": {},
   "outputs": [
    {
     "name": "stdout",
     "output_type": "stream",
     "text": [
      "0\n"
     ]
    }
   ],
   "source": [
    "for x in range(1):\n",
    "    print(x)"
   ]
  },
  {
   "cell_type": "code",
   "execution_count": 3,
   "metadata": {
    "scrolled": true
   },
   "outputs": [
    {
     "name": "stdout",
     "output_type": "stream",
     "text": [
      "Enter any string: Python\n",
      "at index[0]or[-6] = P\n",
      "at index[1]or[-5] = y\n",
      "at index[2]or[-4] = t\n",
      "at index[3]or[-3] = h\n",
      "at index[4]or[-2] = o\n",
      "at index[5]or[-1] = n\n"
     ]
    }
   ],
   "source": [
    "# WAP to print positive and negative index of all characters present in a string\n",
    "s1=input(\"Enter any string: \")\n",
    "ln=len(s1)\n",
    "for x in range(ln):\n",
    "    print(\"at index[{}]or[{}] = {}\".format(x,x-ln,s1[x]))"
   ]
  },
  {
   "cell_type": "code",
   "execution_count": 4,
   "metadata": {},
   "outputs": [
    {
     "name": "stdout",
     "output_type": "stream",
     "text": [
      "Python\n",
      "nohtyP\n"
     ]
    }
   ],
   "source": [
    "# WAP to print forward and reverse of a string using slicing\n",
    "s1=\"Python\"\n",
    "print(s1[:])\n",
    "print(s1[::-1])"
   ]
  },
  {
   "cell_type": "markdown",
   "metadata": {},
   "source": [
    "## Control Transfer Statements\n",
    "### break, continue and pass statements"
   ]
  },
  {
   "cell_type": "code",
   "execution_count": 6,
   "metadata": {
    "scrolled": true
   },
   "outputs": [
    {
     "name": "stdout",
     "output_type": "stream",
     "text": [
      "1\n",
      "2\n",
      "3\n",
      "4\n",
      "loop ended\n"
     ]
    }
   ],
   "source": [
    "# break: breaks the loop and comes out of the loop without checking condition\n",
    "# WAP to break the loop when value comes to 5\n",
    "for n in range(1,11):\n",
    "    if(n==5):\n",
    "        break\n",
    "    print(n)\n",
    "print(\"loop ended\")"
   ]
  },
  {
   "cell_type": "code",
   "execution_count": 11,
   "metadata": {
    "scrolled": true
   },
   "outputs": [
    {
     "name": "stdout",
     "output_type": "stream",
     "text": [
      "0\n",
      "1\n",
      "2\n",
      "\n",
      "4\n",
      "5\n",
      "6\n",
      "7\n",
      "\n",
      "9\n",
      "10\n"
     ]
    }
   ],
   "source": [
    "# continue: skip current iteration and jump to condition checking\n",
    "# WAP to skip 3 and 8 from a collection of numbers from 1 to 10\n",
    "for n in range(11):\n",
    "    if(n==3 or n==8):\n",
    "        print()\n",
    "        continue\n",
    "    print(n)"
   ]
  },
  {
   "cell_type": "markdown",
   "metadata": {},
   "source": [
    "## 'else' statement with loops (for and while)\n",
    "### else executes only when the loop executes completely"
   ]
  },
  {
   "cell_type": "code",
   "execution_count": 15,
   "metadata": {},
   "outputs": [
    {
     "name": "stdout",
     "output_type": "stream",
     "text": [
      "0\n",
      "1\n",
      "2\n",
      "3\n",
      "4\n",
      "loop executed normally\n",
      "Loop End\n",
      "0\n",
      "1\n",
      "2\n",
      "3\n",
      "Loop End\n"
     ]
    }
   ],
   "source": [
    "## else stament with loops\n",
    "### else executes only when the loop executes completely without break (due to break statement)\n",
    "for n in range(5):\n",
    "    print(n)\n",
    "else:\n",
    "    print(\"loop executed normally\")# this will be executed as loop completed without break\n",
    "print(\"Loop End\")\n",
    "for n in range(5):\n",
    "    if(n==4): break\n",
    "    print(n)\n",
    "else:\n",
    "    print(\"Loop executed normally\") # this will not be executed as loop broke in between\n",
    "print(\"Loop End\")"
   ]
  },
  {
   "cell_type": "markdown",
   "metadata": {},
   "source": [
    "## 'pass' statement\n",
    "### it is used to create a block which does not do any thing\n",
    "### it is used just to satisfy the compiler an empty statements are not allowed with flow control statements and function body (ex: abstract methods in classes)"
   ]
  },
  {
   "cell_type": "code",
   "execution_count": 16,
   "metadata": {
    "scrolled": true
   },
   "outputs": [
    {
     "ename": "IndentationError",
     "evalue": "expected an indented block (<ipython-input-16-c3f56ee15e2a>, line 3)",
     "output_type": "error",
     "traceback": [
      "\u001b[1;36m  File \u001b[1;32m\"<ipython-input-16-c3f56ee15e2a>\"\u001b[1;36m, line \u001b[1;32m3\u001b[0m\n\u001b[1;33m    else:\u001b[0m\n\u001b[1;37m    ^\u001b[0m\n\u001b[1;31mIndentationError\u001b[0m\u001b[1;31m:\u001b[0m expected an indented block\n"
     ]
    }
   ],
   "source": [
    "# Following if statement will generate error as there is no statement in true part\n",
    "if True:\n",
    "else:\n",
    "    print(\"else\")"
   ]
  },
  {
   "cell_type": "code",
   "execution_count": 19,
   "metadata": {},
   "outputs": [
    {
     "name": "stdout",
     "output_type": "stream",
     "text": [
      "10\n"
     ]
    }
   ],
   "source": [
    "a=10\n",
    "if a==10:\n",
    "    print(a)\n",
    "else:\n",
    "    pass\n",
    "################\n",
    "for x in range(10):\n",
    "    pass\n",
    "################\n",
    "while a!=10:\n",
    "    pass\n",
    "###############\n",
    "def f1():\n",
    "    pass"
   ]
  },
  {
   "cell_type": "markdown",
   "metadata": {},
   "source": [
    "## 'del' statement\n",
    "### it is used to delete a variable from memory to free the memory\n",
    "### syntax-1: del variable\n",
    "### syntax-2: del var1, var2, ..."
   ]
  },
  {
   "cell_type": "code",
   "execution_count": 22,
   "metadata": {},
   "outputs": [
    {
     "name": "stdout",
     "output_type": "stream",
     "text": [
      "140736390443904\n"
     ]
    },
    {
     "ename": "NameError",
     "evalue": "name 'a' is not defined",
     "output_type": "error",
     "traceback": [
      "\u001b[1;31m---------------------------------------------------------------------------\u001b[0m",
      "\u001b[1;31mNameError\u001b[0m                                 Traceback (most recent call last)",
      "\u001b[1;32m<ipython-input-22-3651337a94b4>\u001b[0m in \u001b[0;36m<module>\u001b[1;34m\u001b[0m\n\u001b[0;32m      2\u001b[0m \u001b[0mprint\u001b[0m\u001b[1;33m(\u001b[0m\u001b[0mid\u001b[0m\u001b[1;33m(\u001b[0m\u001b[0ma\u001b[0m\u001b[1;33m)\u001b[0m\u001b[1;33m)\u001b[0m\u001b[1;33m\u001b[0m\u001b[1;33m\u001b[0m\u001b[0m\n\u001b[0;32m      3\u001b[0m \u001b[1;32mdel\u001b[0m \u001b[0ma\u001b[0m\u001b[1;33m\u001b[0m\u001b[1;33m\u001b[0m\u001b[0m\n\u001b[1;32m----> 4\u001b[1;33m \u001b[0mprint\u001b[0m\u001b[1;33m(\u001b[0m\u001b[0ma\u001b[0m\u001b[1;33m)\u001b[0m \u001b[1;31m# error as 'a' deleted from memory\u001b[0m\u001b[1;33m\u001b[0m\u001b[1;33m\u001b[0m\u001b[0m\n\u001b[0m",
      "\u001b[1;31mNameError\u001b[0m: name 'a' is not defined"
     ]
    }
   ],
   "source": [
    "a=100\n",
    "print(id(a))\n",
    "del a\n",
    "print(a) # error as 'a' deleted from memory"
   ]
  },
  {
   "cell_type": "code",
   "execution_count": 28,
   "metadata": {},
   "outputs": [
    {
     "name": "stdout",
     "output_type": "stream",
     "text": [
      "[10, 20, 30]\n",
      "[10, 30]\n"
     ]
    }
   ],
   "source": [
    "l1=[10,20,30]\n",
    "print(l1)\n",
    "del l1[1] #this can be done only for mutable objects\n",
    "print(l1)"
   ]
  },
  {
   "cell_type": "markdown",
   "metadata": {},
   "source": [
    "## None\n",
    "### it is used for pointing an object towards null\n",
    "### it does not delete the object but deletes the memory reference it is pointing to"
   ]
  },
  {
   "cell_type": "code",
   "execution_count": 34,
   "metadata": {},
   "outputs": [
    {
     "name": "stdout",
     "output_type": "stream",
     "text": [
      "TEST 1982736371248\n",
      "None 140736390207616\n",
      "None 140736390207616\n",
      "None 140736390207616\n"
     ]
    }
   ],
   "source": [
    "s1=\"TEST\"\n",
    "print(s1,id(s1))\n",
    "s1=None\n",
    "print(s1,id(s1))\n",
    "s2=None\n",
    "print(s2,id(s2))\n",
    "del s2\n",
    "print(s1,id(s1))"
   ]
  },
  {
   "cell_type": "code",
   "execution_count": 7,
   "metadata": {},
   "outputs": [
    {
     "name": "stdout",
     "output_type": "stream",
     "text": [
      "YES\n"
     ]
    }
   ],
   "source": [
    "if('a'>'A'):\n",
    "    print(\"YES\")\n",
    "else:\n",
    "    print(\"NO\")"
   ]
  },
  {
   "cell_type": "code",
   "execution_count": 4,
   "metadata": {},
   "outputs": [
    {
     "name": "stdout",
     "output_type": "stream",
     "text": [
      "371\n",
      "YES\n"
     ]
    }
   ],
   "source": [
    "# WAP to check whether a number is Armstrong number or not\n",
    "n=371\n",
    "print(n)\n",
    "z=n\n",
    "sum=0\n",
    "while True:\n",
    "    m=n%10\n",
    "    if(m==0): break\n",
    "    sum=sum+(m**3)\n",
    "    n=n//10\n",
    "if sum==z:\n",
    "    print(\"YES\")\n",
    "else:\n",
    "    print(\"NO\")\n",
    "    \n"
   ]
  }
 ],
 "metadata": {
  "kernelspec": {
   "display_name": "Python 3.10.7 64-bit",
   "language": "python",
   "name": "python3"
  },
  "language_info": {
   "codemirror_mode": {
    "name": "ipython",
    "version": 3
   },
   "file_extension": ".py",
   "mimetype": "text/x-python",
   "name": "python",
   "nbconvert_exporter": "python",
   "pygments_lexer": "ipython3",
   "version": "3.10.7"
  },
  "vscode": {
   "interpreter": {
    "hash": "205b98b4d1985d493ef88a03e013826e686053393df5367dcc6e26039158c4c1"
   }
  }
 },
 "nbformat": 4,
 "nbformat_minor": 4
}
