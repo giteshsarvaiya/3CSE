{
 "cells": [
  {
   "cell_type": "markdown",
   "metadata": {},
   "source": [
    "# 04 Input and Output statements"
   ]
  },
  {
   "cell_type": "markdown",
   "metadata": {},
   "source": [
    "## input()\n",
    "### > 'input()' function helps in taking input from keyboard. <br/> > input function treats every input as str, so we need to do explicit typecasting"
   ]
  },
  {
   "cell_type": "code",
   "execution_count": 4,
   "metadata": {},
   "outputs": [
    {
     "name": "stdout",
     "output_type": "stream",
     "text": [
      "Enter something: 111\n",
      "<class 'str'>\n",
      "Enter something more: 222\n",
      "<class 'int'>\n"
     ]
    }
   ],
   "source": [
    "# 'input()' function helps in taking input from keyboard.\n",
    "# input function treats every input as str, so we need to do explicit typecasting\n",
    "a=input(\"Enter something: \")\n",
    "print(type(a))\n",
    "b=int(input(\"Enter something more: \"))\n",
    "print(type(b))"
   ]
  },
  {
   "cell_type": "code",
   "execution_count": 1,
   "metadata": {},
   "outputs": [
    {
     "name": "stdout",
     "output_type": "stream",
     "text": [
      "Input two values separated by space: 111 222\n",
      "['111', '222'] <class 'list'>\n",
      "111 222\n"
     ]
    }
   ],
   "source": [
    "# Program to read two values sperated by space in a single string and extract them\n",
    "s=input(\"Input two values separated by space: \")\n",
    "lst=s.split() #creating a list of string values\n",
    "print(lst,type(lst))\n",
    "x=lst[0]\n",
    "y=lst[1]\n",
    "print(x,y)"
   ]
  },
  {
   "cell_type": "code",
   "execution_count": 3,
   "metadata": {},
   "outputs": [
    {
     "name": "stdout",
     "output_type": "stream",
     "text": [
      "Input two values separated by space: 111,222\n",
      "['111', '222'] <class 'list'>\n",
      "111 222\n"
     ]
    }
   ],
   "source": [
    "# Program to read two values sperated by comma in a single string and extract them\n",
    "s=input(\"Input two values separated by space: \")\n",
    "lst=s.split(',') #creating a list of string values\n",
    "print(lst,type(lst))\n",
    "x=lst[0]\n",
    "y=lst[1]\n",
    "print(x,y)"
   ]
  },
  {
   "cell_type": "code",
   "execution_count": 7,
   "metadata": {},
   "outputs": [
    {
     "name": "stdout",
     "output_type": "stream",
     "text": [
      "Enter two values separated by a space: 111 222\n",
      "111 <class 'int'>\n",
      "222 <class 'int'>\n"
     ]
    }
   ],
   "source": [
    "# Program to read mutliple values from keyboard using a single line of Python statement\n",
    "# Note: here we need to use list comprehension\n",
    "x,y=[int(x) for x in input(\"Enter two values separated by a space: \").split()]\n",
    "print(x,type(x))\n",
    "print(y,type(y))"
   ]
  },
  {
   "cell_type": "code",
   "execution_count": 9,
   "metadata": {},
   "outputs": [
    {
     "name": "stdout",
     "output_type": "stream",
     "text": [
      "Enter two values separated by a comma: 111,222\n",
      "111 <class 'int'>\n",
      "222 <class 'int'>\n"
     ]
    }
   ],
   "source": [
    "# Program to read mutliple values from keyboard using a single line of Python statement\n",
    "# Note: here we need to use list comprehension\n",
    "x,y=[int(x) for x in input(\"Enter two values separated by a comma: \").split(',')]\n",
    "print(x,type(x))\n",
    "print(y,type(y))"
   ]
  },
  {
   "cell_type": "markdown",
   "metadata": {},
   "source": [
    "## eval()\n",
    "### > 'eval()' is used to evaluate any expression in the form of a string <br/> > it prints the result of the evaluation of the expression within the string\n"
   ]
  },
  {
   "cell_type": "code",
   "execution_count": 15,
   "metadata": {
    "scrolled": true
   },
   "outputs": [
    {
     "name": "stdout",
     "output_type": "stream",
     "text": [
      "False\n",
      "60\n",
      "enter any number: 111\n",
      "111\n"
     ]
    }
   ],
   "source": [
    "print(eval('10>20'))\n",
    "print(eval('10+20+30'))\n",
    "print(eval(input(\"enter any number: \")))"
   ]
  },
  {
   "cell_type": "code",
   "execution_count": 13,
   "metadata": {},
   "outputs": [
    {
     "name": "stdout",
     "output_type": "stream",
     "text": [
      "Enter anything[10,20,30]\n",
      "[10, 20, 30] <class 'list'>\n"
     ]
    }
   ],
   "source": [
    "x=eval(input('Enter anything'))\n",
    "print(x,type(x))"
   ]
  },
  {
   "cell_type": "code",
   "execution_count": 16,
   "metadata": {},
   "outputs": [
    {
     "name": "stdout",
     "output_type": "stream",
     "text": [
      "Enter anything10,20,30\n",
      "(10, 20, 30) <class 'tuple'>\n"
     ]
    }
   ],
   "source": [
    "x=eval(input('Enter anything'))\n",
    "print(x,type(x))"
   ]
  },
  {
   "cell_type": "code",
   "execution_count": 18,
   "metadata": {},
   "outputs": [
    {
     "name": "stdout",
     "output_type": "stream",
     "text": [
      "Enter three values of different data types separated by comma: 111,'ABCD',12.34\n",
      "111 <class 'int'>\n",
      "ABCD <class 'str'>\n",
      "12.34 <class 'float'>\n"
     ]
    }
   ],
   "source": [
    "# eval() can be used to take data of different data types\n",
    "a,b,c=[eval(x) for x in input('Enter three values of different data types separated by comma: ').split(',')]\n",
    "print(a,type(a))\n",
    "print(b,type(b))\n",
    "print(c,type(c))"
   ]
  },
  {
   "cell_type": "markdown",
   "metadata": {},
   "source": [
    "## print()"
   ]
  },
  {
   "cell_type": "code",
   "execution_count": 3,
   "metadata": {},
   "outputs": [
    {
     "name": "stdout",
     "output_type": "stream",
     "text": [
      "Welcome to Python\n",
      "Welcome toPython\n"
     ]
    }
   ],
   "source": [
    "# print() function can be passed with any number of arguments\n",
    "# print() adds a newline automatically at the end of the output\n",
    "print(\"Welcome to\",\"Python\") #two arguments o/p: Welcome to Python\n",
    "print(\"Welcome to\"+\"Python\") #one argument o/p: Welcome toPython"
   ]
  },
  {
   "cell_type": "code",
   "execution_count": 6,
   "metadata": {},
   "outputs": [
    {
     "name": "stdout",
     "output_type": "stream",
     "text": [
      "Values: 10 20 30\n",
      "Values::10:20:30\n"
     ]
    }
   ],
   "source": [
    "# using 'sep' attribute we can put a symbol in between the values printed\n",
    "a,b,c=10,20,30\n",
    "print(\"Values:\",a,b,c)\n",
    "print(\"Values:\",a,b,c,sep=':')"
   ]
  },
  {
   "cell_type": "code",
   "execution_count": 7,
   "metadata": {},
   "outputs": [
    {
     "name": "stdout",
     "output_type": "stream",
     "text": [
      "Welcome To#Python\n"
     ]
    }
   ],
   "source": [
    "# using 'end' attribute to put the specified separator instead of newline at the end of output\n",
    "print(\"Welcome\",end=' ')\n",
    "print(\"To\",end='#')\n",
    "print(\"Python\")"
   ]
  },
  {
   "cell_type": "code",
   "execution_count": 12,
   "metadata": {},
   "outputs": [
    {
     "name": "stdout",
     "output_type": "stream",
     "text": [
      "Age= 20, Salary= 12345.500000, Name= Suresh\n"
     ]
    }
   ],
   "source": [
    "# print() with formatted string\n",
    "# formatted strings should contain any or all of the \n",
    "# %i : int\n",
    "# %d : int\n",
    "# %f : float\n",
    "# %s : str\n",
    "# print(\"formatted string\" %(variable list))\n",
    "age=20\n",
    "sal=12345.50\n",
    "nm=\"Suresh\"\n",
    "print(\"Age= %d, Salary= %f, Name= %s\"%(age,sal,nm))"
   ]
  },
  {
   "cell_type": "code",
   "execution_count": 14,
   "metadata": {},
   "outputs": [
    {
     "name": "stdout",
     "output_type": "stream",
     "text": [
      "Name= Amit List= [10, 20, 30]\n"
     ]
    }
   ],
   "source": [
    "nm=\"Amit\"\n",
    "l=[10,20,30]\n",
    "print(\"Name= %s List= %s\"%(nm,l))"
   ]
  },
  {
   "cell_type": "code",
   "execution_count": 21,
   "metadata": {},
   "outputs": [
    {
     "name": "stdout",
     "output_type": "stream",
     "text": [
      "Age= 20, Salary= 12345.5, Name= Suresh\n"
     ]
    }
   ],
   "source": [
    "# String with replacement operator {} 1st form\n",
    "age=20\n",
    "sal=12345.50\n",
    "nm=\"Suresh\"\n",
    "msg=\"Age= {}, Salary= {}, Name= {}\".format(age,sal,nm)\n",
    "print(msg)"
   ]
  },
  {
   "cell_type": "code",
   "execution_count": 20,
   "metadata": {},
   "outputs": [
    {
     "name": "stdout",
     "output_type": "stream",
     "text": [
      "Age= 20, Salary= 12345.5, Name= Suresh\n"
     ]
    }
   ],
   "source": [
    "# String with replacement operator {} 2nd form\n",
    "age=20\n",
    "sal=12345.50\n",
    "nm=\"Suresh\"\n",
    "msg=\"Age= {0}, Salary= {1}, Name= {2}\".format(age,sal,nm)\n",
    "print(msg)"
   ]
  },
  {
   "cell_type": "code",
   "execution_count": 22,
   "metadata": {},
   "outputs": [
    {
     "name": "stdout",
     "output_type": "stream",
     "text": [
      "Age= 20, Salary= 12345.5, Name= Suresh\n"
     ]
    }
   ],
   "source": [
    "# String with replacement operator {} 3rd form\n",
    "age=20\n",
    "sal=12345.50\n",
    "nm=\"Suresh\"\n",
    "msg=\"Age= {a}, Salary= {b}, Name= {c}\".format(a=age,b=sal,c=nm)\n",
    "print(msg)"
   ]
  }
 ],
 "metadata": {
  "kernelspec": {
   "display_name": "Python 3.10.7 64-bit",
   "language": "python",
   "name": "python3"
  },
  "language_info": {
   "codemirror_mode": {
    "name": "ipython",
    "version": 3
   },
   "file_extension": ".py",
   "mimetype": "text/x-python",
   "name": "python",
   "nbconvert_exporter": "python",
   "pygments_lexer": "ipython3",
   "version": "3.10.7"
  },
  "vscode": {
   "interpreter": {
    "hash": "205b98b4d1985d493ef88a03e013826e686053393df5367dcc6e26039158c4c1"
   }
  }
 },
 "nbformat": 4,
 "nbformat_minor": 4
}
