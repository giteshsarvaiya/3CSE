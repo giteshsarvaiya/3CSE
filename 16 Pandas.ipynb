{
 "cells": [
  {
   "cell_type": "markdown",
   "metadata": {},
   "source": [
    "<h4>16 Pandas</h4>\n",
    "<h5>> Pandas is a Python library.\n",
    "<br/>> Pandas is used to analyze data.\n",
    "<br/>> It has functions for analyzing, cleaning, exploring, and manipulating data.\n",
    "<br/>> Pandas allows us to analyze data sets and make conclusions based on statistical theories.\n",
    "<br/>> Pandas can clean messy data sets, and make them readable and relevant.\n",
    "<br/>> For installing pandas library we use the following code:\n",
    "<br/>>>> pip install pandas\n",
    "<br/>> For using pandas library we use the following code:\n",
    "<br/>>>> import pandas as pd\n",
    "<br/>>>> now using pd. we can call all the pandas functions\n",
    "</h5>"
   ]
  },
  {
   "cell_type": "code",
   "execution_count": 2,
   "metadata": {},
   "outputs": [
    {
     "name": "stdout",
     "output_type": "stream",
     "text": [
      "Collecting pandas\n",
      "  Downloading pandas-1.5.1-cp310-cp310-win_amd64.whl (10.4 MB)\n",
      "     --------------------------------------- 10.4/10.4 MB 10.7 MB/s eta 0:00:00\n",
      "Requirement already satisfied: numpy>=1.21.0 in d:\\python installed\\lib\\site-packages (from pandas) (1.23.4)\n",
      "Requirement already satisfied: python-dateutil>=2.8.1 in c:\\users\\admin\\appdata\\roaming\\python\\python310\\site-packages (from pandas) (2.8.2)\n",
      "Collecting pytz>=2020.1\n",
      "  Downloading pytz-2022.6-py2.py3-none-any.whl (498 kB)\n",
      "     ------------------------------------- 498.1/498.1 kB 10.4 MB/s eta 0:00:00\n",
      "Requirement already satisfied: six>=1.5 in c:\\users\\admin\\appdata\\roaming\\python\\python310\\site-packages (from python-dateutil>=2.8.1->pandas) (1.16.0)\n",
      "Installing collected packages: pytz, pandas\n",
      "Successfully installed pandas-1.5.1 pytz-2022.6\n",
      "Note: you may need to restart the kernel to use updated packages.\n"
     ]
    },
    {
     "name": "stderr",
     "output_type": "stream",
     "text": [
      "\n",
      "[notice] A new release of pip available: 22.2.2 -> 22.3\n",
      "[notice] To update, run: python.exe -m pip install --upgrade pip\n"
     ]
    }
   ],
   "source": [
    "pip install pandas"
   ]
  },
  {
   "cell_type": "markdown",
   "metadata": {},
   "source": [
    "<h4>1) Pandas Series</h4>\n",
    "<h5>> A Pandas Series is like a column in a table.\n",
    "<br/>> It is a one-dimensional array holding data of any type.\n",
    "<br/>> We can use pandas.Series() function to create a pandas series.\n",
    "<br/>> Every value present in pandas series has a unique label, using which we can access the elements.\n",
    "<br/>> We can specify our own labels or else the values are labeled with their index number. First value has index 0, second value has index 1 etc.\n",
    "<br/>> To access elements from a pandas series we use:\n",
    "<br/>>>> series[label]\n",
    "</h5>"
   ]
  },
  {
   "cell_type": "code",
   "execution_count": 51,
   "metadata": {},
   "outputs": [
    {
     "name": "stdout",
     "output_type": "stream",
     "text": [
      "0    10\n",
      "1    20\n",
      "2    30\n",
      "3    40\n",
      "4    50\n",
      "5    60\n",
      "dtype: int64 <class 'pandas.core.series.Series'>\n"
     ]
    }
   ],
   "source": [
    "# Creating a pandas series from a list\n",
    "# pandas.Series(list)\n",
    "import pandas as pd\n",
    "l1=[10,20,30,40,50,60]\n",
    "s1=pd.Series(l1)\n",
    "print(s1,type(s1))"
   ]
  },
  {
   "cell_type": "code",
   "execution_count": 7,
   "metadata": {},
   "outputs": [
    {
     "name": "stdout",
     "output_type": "stream",
     "text": [
      "30 60\n"
     ]
    }
   ],
   "source": [
    "# Accessing elements using labels\n",
    "# using Series[index]\n",
    "import pandas as pd\n",
    "l1=[10,20,30,40,50,60]\n",
    "s1=pd.Series(l1)\n",
    "print(s1[2],s1[5]) # 30 60"
   ]
  },
  {
   "cell_type": "code",
   "execution_count": 9,
   "metadata": {},
   "outputs": [
    {
     "name": "stdout",
     "output_type": "stream",
     "text": [
      "L1    10\n",
      "L2    20\n",
      "L3    30\n",
      "dtype: int64\n",
      "20\n"
     ]
    }
   ],
   "source": [
    "# Creating our own labels using index=[\"idx1\",\"id2\",...] argument\n",
    "import pandas as pd\n",
    "l1=[10,20,30]\n",
    "s1=pd.Series(l1,index=[\"L1\",\"L2\",\"L3\"])\n",
    "print(s1)\n",
    "# Accessing elements using labels\n",
    "print(s1[\"L2\"]) # 20"
   ]
  },
  {
   "cell_type": "code",
   "execution_count": 13,
   "metadata": {},
   "outputs": [
    {
     "name": "stdout",
     "output_type": "stream",
     "text": [
      "Name           AMIT\n",
      "Rno             111\n",
      "Dept            CSE\n",
      "Addr           Durg\n",
      "Phone    1234567890\n",
      "dtype: object\n"
     ]
    }
   ],
   "source": [
    "# Creating pandas series from a dictionary\n",
    "# using pandas.Series(dictionary) method\n",
    "import pandas as pd\n",
    "d1={\n",
    "    \"Name\":\"AMIT\",\n",
    "    \"Rno\":111,\n",
    "    \"Dept\":\"CSE\",\n",
    "    \"Addr\":\"Durg\",\n",
    "    \"Phone\":1234567890\n",
    "}\n",
    "s1=pd.Series(d1)\n",
    "print(s1)"
   ]
  },
  {
   "cell_type": "code",
   "execution_count": 14,
   "metadata": {},
   "outputs": [
    {
     "name": "stdout",
     "output_type": "stream",
     "text": [
      "Name    AMIT\n",
      "Addr    Durg\n",
      "dtype: object\n"
     ]
    }
   ],
   "source": [
    "# Creating pandas series of selected data from a dictionary\n",
    "# using index=[\"col1\",\"col2\"...] parameter\n",
    "import pandas as pd\n",
    "Student={\n",
    "    \"Name\":\"AMIT\",\n",
    "    \"Rno\":111,\n",
    "    \"Dept\":\"CSE\",\n",
    "    \"Addr\":\"Durg\",\n",
    "    \"Phone\":1234567890\n",
    "}\n",
    "s1=pd.Series(Student,index=[\"Name\",\"Addr\"])\n",
    "print(s1)"
   ]
  },
  {
   "cell_type": "markdown",
   "metadata": {},
   "source": [
    "<h4>2) Pandas DataFrame</h4>\n",
    "<h5>> Data sets in Pandas are usually multi-dimensional tables, called DataFrames.\n",
    "<br/>> Series is like a single column but a DataFrame is the whole table with rows and columns.\n",
    "<br/>> Syntax: pandas.DataFrame(ndarray/Iterable/dict/DataFrame)\n",
    "<br/>> By default the row labels/indexes are labelled from 0 onwards\n",
    "</h5>"
   ]
  },
  {
   "cell_type": "code",
   "execution_count": 19,
   "metadata": {},
   "outputs": [
    {
     "name": "stdout",
     "output_type": "stream",
     "text": [
      "     Name  Roll     Dept\n",
      "0    Amit   111      CSE\n",
      "1   Sumit   222  CSE(DS)\n",
      "2    Lata   333  CSE(AI)\n",
      "3  Suresh   444       IT\n"
     ]
    }
   ],
   "source": [
    "# Creating a pandas dataframe from a dictionary\n",
    "# using pandas.DataFrame(dictionary) method\n",
    "import pandas as pd\n",
    "Students={\n",
    "    \"Name\":[\"Amit\",\"Sumit\",\"Lata\",\"Suresh\"],\n",
    "    \"Roll\":[111,222,333,444],\n",
    "    \"Dept\":[\"CSE\",\"CSE(DS)\",\"CSE(AI)\",\"IT\"]\n",
    "}\n",
    "df1=pd.DataFrame(Students)\n",
    "# the keys become the column names \n",
    "# and each element from each list becomes row data\n",
    "print(df1)"
   ]
  },
  {
   "cell_type": "code",
   "execution_count": 24,
   "metadata": {},
   "outputs": [
    {
     "name": "stdout",
     "output_type": "stream",
     "text": [
      "     Name     Dept\n",
      "0    Amit      CSE\n",
      "1   Sumit  CSE(DS)\n",
      "2    Lata  CSE(AI)\n",
      "3  Suresh       IT\n"
     ]
    }
   ],
   "source": [
    "# Using columns parameter to add only selected columns \n",
    "# from the dictionary to the DataFrame\n",
    "import pandas as pd\n",
    "Students={\n",
    "    \"Name\":[\"Amit\",\"Sumit\",\"Lata\",\"Suresh\"],\n",
    "    \"Roll\":[111,222,333,444],\n",
    "    \"Dept\":[\"CSE\",\"CSE(DS)\",\"CSE(AI)\",\"IT\"]\n",
    "}\n",
    "df1=pd.DataFrame(Students,columns=[\"Name\",\"Dept\"])\n",
    "print(df1)"
   ]
  },
  {
   "cell_type": "code",
   "execution_count": 1,
   "metadata": {},
   "outputs": [
    {
     "name": "stdout",
     "output_type": "stream",
     "text": [
      "     Name  Roll     Dept\n",
      "0    Amit   111      CSE\n",
      "1   Sumit   222  CSE(DS)\n",
      "2    Lata   333  CSE(AI)\n",
      "3  Suresh   444       IT\n",
      "Name      Sumit\n",
      "Roll        222\n",
      "Dept    CSE(DS)\n",
      "Name: 1, dtype: object\n",
      "   Name  Roll     Dept\n",
      "0  Amit   111      CSE\n",
      "2  Lata   333  CSE(AI)\n",
      "    Name  Roll     Dept\n",
      "0   Amit   111      CSE\n",
      "1  Sumit   222  CSE(DS)\n",
      "2   Lata   333  CSE(AI)\n",
      "Sumit\n"
     ]
    }
   ],
   "source": [
    "# Locating specific row(s) from a DataFrame\n",
    "# using DataFrame.loc[index] to locate one row\n",
    "# using DataFrame.loc[[rowindex1,rowsindex2,...]] to locate multiple rows\n",
    "# we can perform slicing using DataFrame.loc[start:end]\n",
    "# the slice includes 'start' as well as 'end' indexes\n",
    "import pandas as pd\n",
    "Students={\n",
    "    \"Name\":[\"Amit\",\"Sumit\",\"Lata\",\"Suresh\"],\n",
    "    \"Roll\":[111,222,333,444],\n",
    "    \"Dept\":[\"CSE\",\"CSE(DS)\",\"CSE(AI)\",\"IT\"]\n",
    "}\n",
    "df1=pd.DataFrame(Students)\n",
    "print(df1)\n",
    "# locating 2nd row\n",
    "print(df1.loc[1]) \n",
    "# locating rows with 0 and 2 index\n",
    "print(df1.loc[[0,2]]) \n",
    "# locating row index 0 to 2 using slicing\n",
    "# when using loc[start:end], the end index is also included in the result\n",
    "print(df1.loc[0:2]) \n",
    "# locating a single cell data: df.loc[row_index,column_name]\n",
    "print(df1.loc[1,\"Name\"])"
   ]
  },
  {
   "cell_type": "markdown",
   "metadata": {},
   "source": [
    "<h4>3) Pandas DataFrame created from a csv file</h4>\n",
    "<h5>> Syntax: pandas.read_csv(\"csv_file_name.csv\")\n",
    "</h5>"
   ]
  },
  {
   "cell_type": "code",
   "execution_count": 41,
   "metadata": {},
   "outputs": [
    {
     "name": "stdout",
     "output_type": "stream",
     "text": [
      "           Date      Open      High       Low     Close    Shares Traded  \\\n",
      "0   03-Oct-2022  17102.10  17114.65  16855.55  16887.35        285850587   \n",
      "1   04-Oct-2022  17147.45  17287.30  17117.30  17274.30        231601639   \n",
      "2   06-Oct-2022  17379.25  17428.80  17315.65  17331.80        268239320   \n",
      "3   07-Oct-2022  17287.20  17337.35  17216.95  17314.65        216273136   \n",
      "4   10-Oct-2022  17094.35  17280.15  17064.70  17241.00        234005512   \n",
      "5   11-Oct-2022  17256.05  17261.80  16950.30  16983.55        282617982   \n",
      "6   12-Oct-2022  17025.55  17142.35  16960.05  17123.60        256037322   \n",
      "7   13-Oct-2022  17087.35  17112.35  16956.95  17014.35        266438674   \n",
      "8   14-Oct-2022  17322.30  17348.55  17169.75  17185.70        226997138   \n",
      "9   17-Oct-2022  17144.80  17328.55  17098.55  17311.80        212223419   \n",
      "10  18-Oct-2022  17438.75  17527.80  17434.05  17486.95        239493630   \n",
      "11  19-Oct-2022  17568.15  17607.60  17472.85  17512.25        210480869   \n",
      "12  20-Oct-2022  17423.10  17584.15  17421.00  17563.95        249604832   \n",
      "13  21-Oct-2022  17622.85  17670.15  17520.75  17576.30        277702680   \n",
      "14  24-Oct-2022  17736.35  17777.55  17707.40  17730.75         45029477   \n",
      "15  25-Oct-2022  17808.30  17811.50  17637.00  17656.35        251358203   \n",
      "16  27-Oct-2022  17771.40  17783.90  17654.50  17736.95        324649088   \n",
      "17  28-Oct-2022  17756.40  17838.90  17723.70  17786.80        250030113   \n",
      "18  31-Oct-2022  17910.20  18022.80  17899.90  18012.20        227174539   \n",
      "19  01-Nov-2022  18130.70  18175.80  18060.15  18145.40                -   \n",
      "\n",
      "   Turnover (Rs. Cr)  \n",
      "0           21860.54  \n",
      "1           18480.43  \n",
      "2           20404.46  \n",
      "3           17043.26  \n",
      "4           16220.67  \n",
      "5           22178.37  \n",
      "6           18098.41  \n",
      "7           18189.64  \n",
      "8           17813.47  \n",
      "9           16887.83  \n",
      "10          18224.95  \n",
      "11          17200.79  \n",
      "12          18345.60  \n",
      "13          23547.38  \n",
      "14           3772.49  \n",
      "15          20338.32  \n",
      "16          24166.30  \n",
      "17          19099.59  \n",
      "18          19846.47  \n",
      "19                 -  \n"
     ]
    }
   ],
   "source": [
    "# Creating a DataFrame from a csv file \n",
    "# using pandas.read_csv(\"csv_file_name.csv\") method\n",
    "# file name: \"NIFTY50_EOD.csv\"\n",
    "import pandas as pd\n",
    "df1=pd.read_csv(\"NIFTY50_EOD.csv\")\n",
    "print(df1)"
   ]
  },
  {
   "cell_type": "code",
   "execution_count": 45,
   "metadata": {},
   "outputs": [
    {
     "name": "stdout",
     "output_type": "stream",
     "text": [
      "           Date      Open      High\n",
      "0   03-Oct-2022  17102.10  17114.65\n",
      "1   04-Oct-2022  17147.45  17287.30\n",
      "2   06-Oct-2022  17379.25  17428.80\n",
      "3   07-Oct-2022  17287.20  17337.35\n",
      "4   10-Oct-2022  17094.35  17280.15\n",
      "5   11-Oct-2022  17256.05  17261.80\n",
      "6   12-Oct-2022  17025.55  17142.35\n",
      "7   13-Oct-2022  17087.35  17112.35\n",
      "8   14-Oct-2022  17322.30  17348.55\n",
      "9   17-Oct-2022  17144.80  17328.55\n",
      "10  18-Oct-2022  17438.75  17527.80\n",
      "11  19-Oct-2022  17568.15  17607.60\n",
      "12  20-Oct-2022  17423.10  17584.15\n",
      "13  21-Oct-2022  17622.85  17670.15\n",
      "14  24-Oct-2022  17736.35  17777.55\n",
      "15  25-Oct-2022  17808.30  17811.50\n",
      "16  27-Oct-2022  17771.40  17783.90\n",
      "17  28-Oct-2022  17756.40  17838.90\n",
      "18  31-Oct-2022  17910.20  18022.80\n",
      "19  01-Nov-2022  18130.70  18175.80\n"
     ]
    }
   ],
   "source": [
    "# Selecting specific columns to read from csv file into the DataFrame\n",
    "# using usecols=[\"col1\",\"col2\",...] parameter\n",
    "import pandas as pd\n",
    "df1=pd.read_csv(\"NIFTY50_EOD.csv\",usecols=[\"Date\",\"Open\",\"High\"])\n",
    "print(df1)"
   ]
  },
  {
   "cell_type": "code",
   "execution_count": 46,
   "metadata": {},
   "outputs": [
    {
     "name": "stdout",
     "output_type": "stream",
     "text": [
      "          Date      Open      High       Low     Close  Shares Traded  \\\n",
      "0  03-Oct-2022  17102.10  17114.65  16855.55  16887.35      285850587   \n",
      "1  04-Oct-2022  17147.45  17287.30  17117.30  17274.30      231601639   \n",
      "2  06-Oct-2022  17379.25  17428.80  17315.65  17331.80      268239320   \n",
      "3  07-Oct-2022  17287.20  17337.35  17216.95  17314.65      216273136   \n",
      "4  10-Oct-2022  17094.35  17280.15  17064.70  17241.00      234005512   \n",
      "5  11-Oct-2022  17256.05  17261.80  16950.30  16983.55      282617982   \n",
      "6  12-Oct-2022  17025.55  17142.35  16960.05  17123.60      256037322   \n",
      "\n",
      "   Turnover (Rs. Cr)  \n",
      "0           21860.54  \n",
      "1           18480.43  \n",
      "2           20404.46  \n",
      "3           17043.26  \n",
      "4           16220.67  \n",
      "5           22178.37  \n",
      "6           18098.41  \n"
     ]
    }
   ],
   "source": [
    "# Reading specific number of rows from csv file into the DataFrame\n",
    "# using nrows=n parameter\n",
    "import pandas as pd\n",
    "df1=pd.read_csv(\"NIFTY50_EOD.csv\",nrows=7)\n",
    "print(df1)"
   ]
  },
  {
   "cell_type": "code",
   "execution_count": 47,
   "metadata": {},
   "outputs": [
    {
     "name": "stdout",
     "output_type": "stream",
     "text": [
      "          Date      Open\n",
      "0  03-Oct-2022  17102.10\n",
      "1  04-Oct-2022  17147.45\n",
      "2  06-Oct-2022  17379.25\n",
      "3  07-Oct-2022  17287.20\n",
      "4  10-Oct-2022  17094.35\n",
      "5  11-Oct-2022  17256.05\n",
      "6  12-Oct-2022  17025.55\n"
     ]
    }
   ],
   "source": [
    "# Reading specific number of rows and columns \n",
    "# from csv file into the DataFrame\n",
    "# using nrows=n and usecols=[\"col1\",\"col2\",...] parameters\n",
    "import pandas as pd\n",
    "df1=pd.read_csv(\"NIFTY50_EOD.csv\",nrows=7,usecols=[\"Date\",\"Open\"])\n",
    "print(df1)"
   ]
  },
  {
   "cell_type": "code",
   "execution_count": 53,
   "metadata": {},
   "outputs": [
    {
     "name": "stdout",
     "output_type": "stream",
     "text": [
      "          Date      Open      High       Low     Close    Shares Traded  \\\n",
      "0  03-Oct-2022  17102.10  17114.65  16855.55  16887.35        285850587   \n",
      "1  04-Oct-2022  17147.45  17287.30  17117.30  17274.30        231601639   \n",
      "2  06-Oct-2022  17379.25  17428.80  17315.65  17331.80        268239320   \n",
      "\n",
      "  Turnover (Rs. Cr)  \n",
      "0          21860.54  \n",
      "1          18480.43  \n",
      "2          20404.46  \n",
      "           Date     Open     High       Low    Close    Shares Traded  \\\n",
      "17  28-Oct-2022  17756.4  17838.9  17723.70  17786.8        250030113   \n",
      "18  31-Oct-2022  17910.2  18022.8  17899.90  18012.2        227174539   \n",
      "19  01-Nov-2022  18130.7  18175.8  18060.15  18145.4                -   \n",
      "\n",
      "   Turnover (Rs. Cr)  \n",
      "17          19099.59  \n",
      "18          19846.47  \n",
      "19                 -  \n"
     ]
    }
   ],
   "source": [
    "# Reading top and bottom rows from the DataFrame\n",
    "# using DataFrame.head(n) and DataFrame.tail(n) methods\n",
    "# default value of n=5\n",
    "import pandas as pd\n",
    "df1=pd.read_csv(\"NIFTY50_EOD.csv\")\n",
    "print(df1.head(3))\n",
    "print(df1.tail(3))"
   ]
  },
  {
   "cell_type": "code",
   "execution_count": 71,
   "metadata": {},
   "outputs": [
    {
     "name": "stdout",
     "output_type": "stream",
     "text": [
      "0     17102.10\n",
      "1     17147.45\n",
      "2     17379.25\n",
      "3     17287.20\n",
      "4     17094.35\n",
      "5     17256.05\n",
      "6     17025.55\n",
      "7     17087.35\n",
      "8     17322.30\n",
      "9     17144.80\n",
      "10    17438.75\n",
      "11    17568.15\n",
      "12    17423.10\n",
      "13    17622.85\n",
      "14    17736.35\n",
      "15    17808.30\n",
      "16    17771.40\n",
      "17    17756.40\n",
      "18    17910.20\n",
      "19    18130.70\n",
      "Name: Open, dtype: float64\n"
     ]
    }
   ],
   "source": [
    "# Viewing a particular column from the DataFrame\n",
    "# using DataFrame[\"column_name\"]\n",
    "import pandas as pd\n",
    "df1=pd.read_csv(\"NIFTY50_EOD.csv\")\n",
    "print(df1[\"Open\"])"
   ]
  },
  {
   "cell_type": "code",
   "execution_count": 75,
   "metadata": {},
   "outputs": [
    {
     "name": "stdout",
     "output_type": "stream",
     "text": [
      "         Date      Open      High       Low     Close  Shares Traded  \\\n",
      "14  24-Oct-22  17736.35  17777.55  17707.40  17730.75     45029477.0   \n",
      "15  25-Oct-22  17808.30  17811.50  17637.00  17656.35    251358203.0   \n",
      "16  27-Oct-22  17771.40  17783.90  17654.50  17736.95    324649088.0   \n",
      "17  28-Oct-22  17756.40  17838.90  17723.70  17786.80    250030113.0   \n",
      "18  31-Oct-22  17910.20  18022.80  17899.90  18012.20    227174539.0   \n",
      "19  01-Nov-22  18130.70  18175.80  18060.15  18145.40            NaN   \n",
      "\n",
      "    Turnover (Rs. Cr)  \n",
      "14            3772.49  \n",
      "15           20338.32  \n",
      "16           24166.30  \n",
      "17           19099.59  \n",
      "18           19846.47  \n",
      "19                NaN  \n"
     ]
    }
   ],
   "source": [
    "# Viewing data from the DataFrame based on some criteria\n",
    "# using DataFrame[condition involving the DataFrame[\"col\"]]\n",
    "import pandas as pd\n",
    "df1=pd.read_csv(\"NIFTY50_EOD.csv\")\n",
    "print(df1[df1[\"Open\"]>17700])"
   ]
  },
  {
   "cell_type": "code",
   "execution_count": 81,
   "metadata": {},
   "outputs": [
    {
     "name": "stdout",
     "output_type": "stream",
     "text": [
      "17736.35\n",
      "Date                  24-Oct-22\n",
      "Open                   17736.35\n",
      "High                   17777.55\n",
      "Low                     17707.4\n",
      "Close                  17730.75\n",
      "Shares Traded        45029477.0\n",
      "Turnover (Rs. Cr)       3772.49\n",
      "Name: 14, dtype: object\n"
     ]
    }
   ],
   "source": [
    "# Viewing data present in a particular cell in the DataFrame\n",
    "# using DataFrame.loc[row_index,\"column_name\"]\n",
    "import pandas as pd\n",
    "df1=pd.read_csv(\"NIFTY50_EOD.csv\")\n",
    "print(df1.loc[14,\"Open\"])"
   ]
  },
  {
   "cell_type": "markdown",
   "metadata": {},
   "source": [
    "<h4>4) Analyzing data in the DataFrame</h4>"
   ]
  },
  {
   "cell_type": "code",
   "execution_count": 88,
   "metadata": {},
   "outputs": [
    {
     "name": "stdout",
     "output_type": "stream",
     "text": [
      "Index(['Date', 'Open', 'High', 'Low', 'Close', 'Shares Traded',\n",
      "       'Turnover (Rs. Cr)'],\n",
      "      dtype='object')\n"
     ]
    }
   ],
   "source": [
    "# Viewing the column names in the DataFrame\n",
    "# using DataFrame.columns property\n",
    "import pandas as pd\n",
    "df1=pd.read_csv(\"NIFTY50_EOD.csv\")\n",
    "print(df1.columns)"
   ]
  },
  {
   "cell_type": "code",
   "execution_count": 89,
   "metadata": {},
   "outputs": [
    {
     "name": "stdout",
     "output_type": "stream",
     "text": [
      "RangeIndex(start=0, stop=20, step=1)\n"
     ]
    }
   ],
   "source": [
    "# Viewing the row indexes in the DataFrame\n",
    "# using DataFrame.index property\n",
    "import pandas as pd\n",
    "df1=pd.read_csv(\"NIFTY50_EOD.csv\")\n",
    "print(df1.index)"
   ]
  },
  {
   "cell_type": "code",
   "execution_count": 58,
   "metadata": {},
   "outputs": [
    {
     "name": "stdout",
     "output_type": "stream",
     "text": [
      "<class 'pandas.core.frame.DataFrame'>\n",
      "RangeIndex: 20 entries, 0 to 19\n",
      "Data columns (total 7 columns):\n",
      " #   Column             Non-Null Count  Dtype  \n",
      "---  ------             --------------  -----  \n",
      " 0   Date               20 non-null     object \n",
      " 1   Open               16 non-null     object \n",
      " 2   High               15 non-null     object \n",
      " 3   Low                15 non-null     object \n",
      " 4   Close              15 non-null     object \n",
      " 5   Shares Traded      19 non-null     float64\n",
      " 6   Turnover (Rs. Cr)  19 non-null     float64\n",
      "dtypes: float64(2), object(5)\n",
      "memory usage: 1.2+ KB\n",
      "None\n"
     ]
    }
   ],
   "source": [
    "# Using DataFrame.info() method to view some basic information\n",
    "# about the dataset\n",
    "import pandas as pd\n",
    "df1=pd.read_csv(\"NIFTY50_EOD_Cleaning.csv\")\n",
    "print(df1.info())"
   ]
  },
  {
   "cell_type": "code",
   "execution_count": 62,
   "metadata": {},
   "outputs": [
    {
     "name": "stdout",
     "output_type": "stream",
     "text": [
      "               Open          High           Low        Close  Shares Traded  \\\n",
      "count     20.000000     20.000000     20.000000     20.00000   1.900000e+01   \n",
      "mean   17450.630000  17522.100000  17361.852500  17443.80000   2.397794e+08   \n",
      "std      320.909926    307.708909    345.166409    338.45686   5.539745e+07   \n",
      "min    17025.550000  17112.350000  16855.550000  16887.35000   4.502948e+07   \n",
      "25%    17146.787500  17285.512500  17090.087500  17227.17500   2.270858e+08   \n",
      "50%    17401.175000  17478.300000  17368.325000  17409.37500   2.496048e+08   \n",
      "75%    17741.362500  17779.137500  17641.375000  17674.95000   2.673390e+08   \n",
      "max    18130.700000  18175.800000  18060.150000  18145.40000   3.246491e+08   \n",
      "\n",
      "       Turnover (Rs. Cr)  \n",
      "count          19.000000  \n",
      "mean        18511.524737  \n",
      "std          4222.399346  \n",
      "min          3772.490000  \n",
      "25%         17507.130000  \n",
      "50%         18345.600000  \n",
      "75%         20371.390000  \n",
      "max         24166.300000  \n"
     ]
    }
   ],
   "source": [
    "# Using DataFrame.describe() method to view some \n",
    "# basic statistical information about the dataset\n",
    "# it provides statistical information about only those columns\n",
    "# that have all the data in proper format and with non empty cells \n",
    "import pandas as pd\n",
    "df1=pd.read_csv(\"NIFTY50_EOD.csv\")\n",
    "print(df1.describe())"
   ]
  },
  {
   "cell_type": "markdown",
   "metadata": {},
   "source": [
    "<h4>5) Handling missing data in the DataFrame</h4>\n",
    "<h5>Following tasks can be done for cleaning the DataFrame\n",
    "<br/>> (i) Removing rows containing empty cells \n",
    "<br/>> using: DataFrame.dropna()\n",
    "<br/>> (ii) Replace empty cells with some specific value \n",
    "<br/>> using: DataFrame.fillna()\n",
    "<br/>> (iii) Replace empty cells with mean/median/mode values \n",
    "<br/>> using: DataFrame.fillna()\n",
    "</h5>"
   ]
  },
  {
   "cell_type": "code",
   "execution_count": 65,
   "metadata": {},
   "outputs": [
    {
     "name": "stdout",
     "output_type": "stream",
     "text": [
      "         Date        Open        High         Low       Close  Shares Traded  \\\n",
      "0   03-Oct-22     17102.1         NaN    16855.55    16887.35    285850587.0   \n",
      "1   04-Oct-22    17147.45     17287.3     17117.3     17274.3    231601639.0   \n",
      "2   06-Oct-22     \"17200\"         NaN  \"17315.65\"         NaN    268239320.0   \n",
      "3   07-Oct-22     17287.2    17337.35    17216.95    17314.65    216273136.0   \n",
      "4   10-Oct-22         NaN  \"17280.15\"         NaN       17241    234005512.0   \n",
      "5   11-Oct-22  \"17256.05\"     17261.8     16950.3  \"16983.55\"    282617982.0   \n",
      "6   12-Oct-22         NaN    17142.35         NaN     17123.6    256037322.0   \n",
      "7   13-Oct-22    17087.35    17112.35    16956.95         NaN    266438674.0   \n",
      "8   14-Oct-22     17322.3         NaN    17169.75     17185.7    226997138.0   \n",
      "9   17-Oct-22     17144.8    17328.55         NaN     17311.8    212223419.0   \n",
      "10  18-Oct-22  \"17438.75\"     17527.8         NaN    17486.95    239493630.0   \n",
      "11  19-Oct-22         NaN     17607.6    17472.85         NaN    210480869.0   \n",
      "12  20-Oct-22     17423.1         NaN       17421    17563.95    249604832.0   \n",
      "13  21-Oct-22    17622.85  \"17280.15\"         NaN         NaN    277702680.0   \n",
      "14  24-Oct-22         NaN    17777.55     17707.4    17730.75     45029477.0   \n",
      "15  25-Oct-22     17808.3   \"17811.5\"       17637         NaN    251358203.0   \n",
      "16  27-Oct-22     17771.4         NaN     17654.5    17736.95    324649088.0   \n",
      "17  28-Oct-22     17756.4     18022.8     17723.7        Amit    250030113.0   \n",
      "18  31-Oct-22     17756.4     18022.8     17723.7      Harish    227174539.0   \n",
      "19  01-Nov-22     17756.4     18022.8     17723.7       Nitin            NaN   \n",
      "\n",
      "    Turnover (Rs. Cr)  \n",
      "0            21860.54  \n",
      "1            18480.43  \n",
      "2            20404.46  \n",
      "3            17043.26  \n",
      "4            16220.67  \n",
      "5            22178.37  \n",
      "6            18098.41  \n",
      "7            18189.64  \n",
      "8            17813.47  \n",
      "9            16887.83  \n",
      "10           18224.95  \n",
      "11           17200.79  \n",
      "12           18345.60  \n",
      "13           23547.38  \n",
      "14            3772.49  \n",
      "15           20338.32  \n",
      "16           24166.30  \n",
      "17           19099.59  \n",
      "18           19846.47  \n",
      "19                NaN  \n"
     ]
    }
   ],
   "source": [
    "# Observing the contents of \"NIFTY50_EOD_Cleaning.csv\"\n",
    "# that contains some missing, repeated and data in wrong format\n",
    "# We will use this for the purpose of cleaning\n",
    "import pandas as pd\n",
    "df1=pd.read_csv(\"NIFTY50_EOD_Cleaning.csv\")\n",
    "print(df1)"
   ]
  },
  {
   "cell_type": "code",
   "execution_count": 92,
   "metadata": {},
   "outputs": [
    {
     "name": "stdout",
     "output_type": "stream",
     "text": [
      "         Date      Open      High         Low       Close  Shares Traded  \\\n",
      "1   04-Oct-22  17147.45  17287.30    17117.30   \"17274.3\"    231601639.0   \n",
      "3   07-Oct-22  17287.20  17337.35    17216.95  \"17314.65\"    216273136.0   \n",
      "5   11-Oct-22  17256.05  17261.80    16950.30    16983.55    282617982.0   \n",
      "7   13-Oct-22  17087.35  17112.35    16956.95    17014.35    266438674.0   \n",
      "9   17-Oct-22  17144.80  17328.55  8888888.00     17311.8    212223419.0   \n",
      "11  19-Oct-22  17568.15  17607.60    17472.85    17512.25    210480869.0   \n",
      "13  21-Oct-22  17622.85  17670.15    17520.75     17576.3    277702680.0   \n",
      "15  25-Oct-22  17808.30  17811.50    17637.00    17656.35    251358203.0   \n",
      "17  28-Oct-22  17756.40  17838.90    17723.70     17786.8    250030113.0   \n",
      "18  31-Oct-22  17910.20  18022.80    17899.90     18012.2    227174539.0   \n",
      "\n",
      "    Turnover (Rs. Cr)  \n",
      "1            18480.43  \n",
      "3            17043.26  \n",
      "5            22178.37  \n",
      "7            18189.64  \n",
      "9            16887.83  \n",
      "11           17200.79  \n",
      "13           23547.38  \n",
      "15           20338.32  \n",
      "17           19099.59  \n",
      "18           19846.47  \n"
     ]
    }
   ],
   "source": [
    "# (i) Removing rows containing empty cells\n",
    "# using DataFrame.dropna(inplace=False) method\n",
    "import pandas as pd\n",
    "df1=pd.read_csv(\"NIFTY50_EOD_Cleaning.csv\")\n",
    "# inplace=True would perform changes in the calling object\n",
    "df1.dropna(inplace=True)\n",
    "print(df1)"
   ]
  },
  {
   "cell_type": "code",
   "execution_count": 93,
   "metadata": {},
   "outputs": [
    {
     "name": "stdout",
     "output_type": "stream",
     "text": [
      "        Date      Open      High          Low       Close  Shares Traded  \\\n",
      "0  03-Oct-22  17102.10  18000.00   9999999.00  \"16887.35\"    285850587.0   \n",
      "1  04-Oct-22  17147.45  17287.30     17117.30   \"17274.3\"    231601639.0   \n",
      "2  06-Oct-22  17379.25  18000.00   9999999.00   \"17331.8\"    268239320.0   \n",
      "3  07-Oct-22  17287.20  17337.35     17216.95  \"17314.65\"    216273136.0   \n",
      "4  10-Oct-22  17094.35  18000.00  88888888.00       17241    234005512.0   \n",
      "\n",
      "   Turnover (Rs. Cr)  \n",
      "0           21860.54  \n",
      "1           18480.43  \n",
      "2           20404.46  \n",
      "3           17043.26  \n",
      "4           16220.67  \n"
     ]
    }
   ],
   "source": [
    "# (ii) Replace empty cells with some specific value\n",
    "# using DataFrame.fillna(new_value,inplace=False)\n",
    "import pandas as pd\n",
    "df1=pd.read_csv(\"NIFTY50_EOD_Cleaning.csv\")\n",
    "df1.fillna(18000,inplace=True)\n",
    "print(df1.head())"
   ]
  },
  {
   "cell_type": "code",
   "execution_count": 91,
   "metadata": {},
   "outputs": [
    {
     "name": "stdout",
     "output_type": "stream",
     "text": [
      "Mean of 'Open' column=  17450.63\n",
      "        Date      Open      High          Low       Close  Shares Traded  \\\n",
      "0  03-Oct-22  17102.10  17450.63   9999999.00  \"16887.35\"    285850587.0   \n",
      "1  04-Oct-22  17147.45  17287.30     17117.30   \"17274.3\"    231601639.0   \n",
      "2  06-Oct-22  17379.25  17450.63   9999999.00   \"17331.8\"    268239320.0   \n",
      "3  07-Oct-22  17287.20  17337.35     17216.95  \"17314.65\"    216273136.0   \n",
      "4  10-Oct-22  17094.35  17450.63  88888888.00       17241    234005512.0   \n",
      "\n",
      "   Turnover (Rs. Cr)  \n",
      "0           21860.54  \n",
      "1           18480.43  \n",
      "2           20404.46  \n",
      "3           17043.26  \n",
      "4           16220.67  \n"
     ]
    }
   ],
   "source": [
    "# (iii) Replace empty cells with mean() value\n",
    "# using DataFrame.fillna(DataFrame[\"col\"].mean(),inplace=False)\n",
    "# or using DataFrame[\"col\"].fillna(DataFrame[\"col\"].mean(),inplace=False)\n",
    "# we can use the mean() method only when all the data is numeric\n",
    "# any other type of data like string or null would result an error\n",
    "import pandas as pd\n",
    "df1=pd.read_csv(\"NIFTY50_EOD_Cleaning.csv\")\n",
    "meanop=df1[\"Open\"].mean()\n",
    "print(\"Mean of 'Open' column= \",meanop)\n",
    "df1.fillna(meanop,inplace=True)\n",
    "print(df1.head())"
   ]
  },
  {
   "cell_type": "markdown",
   "metadata": {},
   "source": [
    "<h4>6) Correcting the format or data-type in the DataFrame</h4>\n",
    "<h5>Following tasks can be done for cleaning the DataFrame\n",
    "<br/>> (i) Converting date in string to date-time format \n",
    "<br/>> using: pandas.to_datetime(dataframe[\"col\"])\n",
    "<br/>> (ii) Converting numeric in string to numeric format \n",
    "<br/>> using: pandas.to_numeric(dataframe[\"col\"])\n",
    "</h5>"
   ]
  },
  {
   "cell_type": "code",
   "execution_count": 146,
   "metadata": {},
   "outputs": [
    {
     "name": "stdout",
     "output_type": "stream",
     "text": [
      "<class 'pandas.core.series.Series'>\n",
      "RangeIndex: 20 entries, 0 to 19\n",
      "Series name: Date\n",
      "Non-Null Count  Dtype \n",
      "--------------  ----- \n",
      "20 non-null     object\n",
      "dtypes: object(1)\n",
      "memory usage: 288.0+ bytes\n",
      "None\n",
      "<class 'pandas.core.series.Series'>\n",
      "RangeIndex: 20 entries, 0 to 19\n",
      "Series name: Date\n",
      "Non-Null Count  Dtype         \n",
      "--------------  -----         \n",
      "20 non-null     datetime64[ns]\n",
      "dtypes: datetime64[ns](1)\n",
      "memory usage: 288.0 bytes\n",
      "None\n"
     ]
    },
    {
     "name": "stderr",
     "output_type": "stream",
     "text": [
      "C:\\Users\\Admin\\AppData\\Local\\Temp\\ipykernel_10732\\778834508.py:6: UserWarning: Parsing dates in DD/MM/YYYY format when dayfirst=False (the default) was specified. This may lead to inconsistently parsed dates! Specify a format to ensure consistent parsing.\n",
      "  df1[\"Date\"]=pd.to_datetime(df1[\"Date\"])\n"
     ]
    }
   ],
   "source": [
    "#(i) Converting date in string to date-time format \n",
    "# using: pandas.to_datetime(dataframe[\"col\"])\n",
    "import pandas as pd\n",
    "df1=pd.read_csv(\"NIFTY50_EOD_Cleaning.csv\")\n",
    "print(df1[\"Date\"].info()) # before conversion it is of object type\n",
    "df1[\"Date\"]=pd.to_datetime(df1[\"Date\"])\n",
    "print(df1[\"Date\"].info()) # after conversion it is of datetime type"
   ]
  },
  {
   "cell_type": "code",
   "execution_count": 148,
   "metadata": {},
   "outputs": [
    {
     "name": "stdout",
     "output_type": "stream",
     "text": [
      "<class 'pandas.core.series.Series'>\n",
      "RangeIndex: 20 entries, 0 to 19\n",
      "Series name: Close\n",
      "Non-Null Count  Dtype  \n",
      "--------------  -----  \n",
      "20 non-null     float64\n",
      "dtypes: float64(1)\n",
      "memory usage: 288.0 bytes\n",
      "None\n",
      "<class 'pandas.core.series.Series'>\n",
      "RangeIndex: 20 entries, 0 to 19\n",
      "Series name: Date\n",
      "Non-Null Count  Dtype \n",
      "--------------  ----- \n",
      "20 non-null     object\n",
      "dtypes: object(1)\n",
      "memory usage: 288.0+ bytes\n",
      "None\n"
     ]
    }
   ],
   "source": [
    "#(ii) Converting numeric in string to numeric format \n",
    "# using: pandas.to_numeric(dataframe[\"col\"])\n",
    "import pandas as pd\n",
    "df1=pd.read_csv(\"NIFTY50_EOD_Cleaning.csv\")\n",
    "print(df1[\"Close\"].info()) # before conversion it is of object type\n",
    "df1[\"Close\"]=pd.to_numeric(df1[\"Close\"])\n",
    "print(df1[\"Date\"].info()) # after conversion it is of numeric type"
   ]
  },
  {
   "cell_type": "markdown",
   "metadata": {},
   "source": [
    "<h4>7) Handling wrong and duplicate data in the DataFrame</h4>\n",
    "<h5>Following tasks can be done for cleaning the DataFrame\n",
    "<br/>> (i) Putting a value within a specific range in places where data is out of range \n",
    "<br/>> using: dataframe.loc[row_index,\"col\"]=new_value\n",
    "<br/>> here we first need to locate the cells where the data is out of range (need to iterate through the rows: DataFrame.index)\n",
    "<br/>> (ii) Removing the entire row where data is out of range \n",
    "<br/>> using: dataframe.drop(row_index,inplace=False)\n",
    "<br/>> here we first need to locate the cells where the data is out of range (need to iterate through the rows: DataFrame.index)\n",
    "<br/>> (iii) Removing the entire row where data duplicate \n",
    "<br/>> using: dataframe.drop_duplicates(inplace=False)\n",
    "</h5>"
   ]
  },
  {
   "cell_type": "code",
   "execution_count": 155,
   "metadata": {},
   "outputs": [
    {
     "name": "stdout",
     "output_type": "stream",
     "text": [
      "Median= 17680.95\n",
      "Mean= 10845571.690000001\n",
      "          Date      Open      High       Low     Close  Shares Traded  \\\n",
      "0  03-10-2022'  17102.10       NaN  17680.95  16887.35    285850587.0   \n",
      "1  04-10-2022'  17147.45  17287.30  17117.30  17274.30    231601639.0   \n",
      "2  06-10-2022'  17379.25       NaN  17680.95  17331.80    268239320.0   \n",
      "3   07-10-2022  17287.20  17337.35  17216.95  17314.65    216273136.0   \n",
      "4   10-10-2022  17094.35       NaN  17680.95  17241.00    234005512.0   \n",
      "\n",
      "   Turnover (Rs. Cr)  \n",
      "0           21860.54  \n",
      "1           18480.43  \n",
      "2           20404.46  \n",
      "3           17043.26  \n",
      "4           16220.67  \n"
     ]
    }
   ],
   "source": [
    "# (i) Putting a value within a specific range in places \n",
    "# where data is out of range \n",
    "# using: dataframe.loc[row_index,\"col\"]=new_value\n",
    "# here we first need to locate the cells where the data is out of range \n",
    "# (need to iterate through the row data: DataFrame.index)\n",
    "# here we use the median value to replace the out of range values\n",
    "import pandas as pd\n",
    "df1=pd.read_csv(\"NIFTY50_EOD_Cleaning.csv\")\n",
    "median=df1[\"Low\"].median()\n",
    "print(\"Median=\",median)\n",
    "mean=df1[\"Low\"].mean()\n",
    "print(\"Mean=\",mean)\n",
    "# we are taking median because mean value is biased by extreme values\n",
    "for n in df1.index:\n",
    "    if df1.loc[n,\"Low\"]>20000:\n",
    "        df1.loc[n,\"Low\"]=median\n",
    "print(df1.head())\n"
   ]
  },
  {
   "cell_type": "code",
   "execution_count": 156,
   "metadata": {},
   "outputs": [
    {
     "name": "stdout",
     "output_type": "stream",
     "text": [
      "Median= 17680.95\n",
      "Mean= 10845571.690000001\n",
      "           Date      Open      High       Low     Close  Shares Traded  \\\n",
      "1   04-10-2022'  17147.45  17287.30  17117.30  17274.30    231601639.0   \n",
      "3    07-10-2022  17287.20  17337.35  17216.95  17314.65    216273136.0   \n",
      "5    11-10-2022  17256.05  17261.80  16950.30  16983.55    282617982.0   \n",
      "7    13-10-2022  17087.35  17112.35  16956.95  17014.35    266438674.0   \n",
      "10   18-10-2022  17438.75       NaN  17434.05  17486.95    239493630.0   \n",
      "\n",
      "    Turnover (Rs. Cr)  \n",
      "1            18480.43  \n",
      "3            17043.26  \n",
      "5            22178.37  \n",
      "7            18189.64  \n",
      "10           18224.95  \n"
     ]
    }
   ],
   "source": [
    "# (ii) Removing the entire row where data is out of range \n",
    "# using: dataframe.drop(row_index,inplace=False)\n",
    "# here we first need to locate the cells where the \n",
    "# data is out of range (need to iterate through the row data: DataFrame.index)\n",
    "import pandas as pd\n",
    "df1=pd.read_csv(\"NIFTY50_EOD_Cleaning.csv\")\n",
    "for n in df1.index:\n",
    "    if df1.loc[n,\"Low\"]>20000:\n",
    "        df1.drop(n,inplace=True)\n",
    "print(df1.head())"
   ]
  },
  {
   "cell_type": "code",
   "execution_count": 163,
   "metadata": {},
   "outputs": [
    {
     "name": "stdout",
     "output_type": "stream",
     "text": [
      "Number of Duplicate rows= 2\n",
      "Number of Duplicate rows= 0\n"
     ]
    }
   ],
   "source": [
    "# (iii) Removing the entire row where data duplicate \n",
    "# using: dataframe.drop_duplicates(inplace=False))\n",
    "# here we check the number of duplicate rows using\n",
    "# DataFrame.duplicated()\n",
    "import pandas as pd\n",
    "df1=pd.read_csv(\"NIFTY50_EOD_Cleaning.csv\")\n",
    "dupcnt=(df1.duplicated()).sum() \n",
    "# adds the True and False values coming from duplicated() method\n",
    "print(\"Number of Duplicate rows=\",dupcnt)\n",
    "df1.drop_duplicates(inplace=True)\n",
    "dupcnt=(df1.duplicated()).sum()\n",
    "print(\"Number of Duplicate rows=\",dupcnt)"
   ]
  },
  {
   "cell_type": "markdown",
   "metadata": {},
   "source": [
    "<h4>8) Finding Correlation between data in DataFrames</h4>\n",
    "<h5>We use: \n",
    "<br/>> dataframe[‘column’].corr(dataframe[‘column’])\n",
    "<br/>> to find the correlation between data points in one column in one dataframe and another column in same or other dataframe.\n",
    "<br/>> The corr() method returns a value between -1 to +1\n",
    "<br/>>>> Positive correlation: When data in one column increases or decreases and the same amount of change occurs in another column data then we say that the columns are positively correlated.\n",
    "<br/>>>> Negative correlation: When data in one column increases or decreases and the same but opposite amount of change occurs in another column data then we say that the columns are negatively correlated.\n",
    "<br/>> Using correlation we can observe data in one column and predict the possible movement of data in another correlated column.\n",
    "</h5>"
   ]
  },
  {
   "cell_type": "code",
   "execution_count": 166,
   "metadata": {},
   "outputs": [
    {
     "name": "stdout",
     "output_type": "stream",
     "text": [
      "Columns in NIFTY50 PE data: Index(['Date', 'P/E'], dtype='object')\n",
      "Columns in NIFTY50 EOD data: Index(['Date', 'Open', 'High', 'Low', 'Close', 'Shares Traded',\n",
      "       'Turnover (Rs. Cr)'],\n",
      "      dtype='object')\n",
      "Correlation= 0.9433249592142385\n"
     ]
    }
   ],
   "source": [
    "# Using dataframe[‘column’].corr(dataframe[‘column’])\n",
    "# to find the correlation between data in columns\n",
    "import pandas as pd\n",
    "df1=pd.read_csv(\"NIFTY50_PE.csv\")\n",
    "df2=pd.read_csv(\"NIFTY50_EOD.csv\")\n",
    "print(\"Columns in NIFTY50 PE data:\",df1.columns)\n",
    "print(\"Columns in NIFTY50 EOD data:\",df2.columns)\n",
    "# finding the correlation between Close values and P/E values\n",
    "print(\"Correlation=\",df1[\"P/E\"].corr(df2[\"Close\"]))\n",
    "# Correlation comes around: 0.943324959214238\n",
    "# so, we observe a strong positive correlation close to 1\n",
    "# hence, we can predict that if Close prices rise\n",
    "# then the P/E also would rise and if Close prices fall\n",
    "# then the P/E will also fall."
   ]
  },
  {
   "cell_type": "code",
   "execution_count": null,
   "metadata": {},
   "outputs": [],
   "source": []
  },
  {
   "cell_type": "code",
   "execution_count": null,
   "metadata": {},
   "outputs": [],
   "source": []
  }
 ],
 "metadata": {
  "kernelspec": {
   "display_name": "Python 3.10.7 64-bit",
   "language": "python",
   "name": "python3"
  },
  "language_info": {
   "codemirror_mode": {
    "name": "ipython",
    "version": 3
   },
   "file_extension": ".py",
   "mimetype": "text/x-python",
   "name": "python",
   "nbconvert_exporter": "python",
   "pygments_lexer": "ipython3",
   "version": "3.10.7"
  },
  "orig_nbformat": 4,
  "vscode": {
   "interpreter": {
    "hash": "205b98b4d1985d493ef88a03e013826e686053393df5367dcc6e26039158c4c1"
   }
  }
 },
 "nbformat": 4,
 "nbformat_minor": 2
}
